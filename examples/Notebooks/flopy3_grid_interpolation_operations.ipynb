{
 "cells": [
  {
   "cell_type": "markdown",
   "metadata": {},
   "source": [
    "# <a id=\"top\"></a>Intersecting grids with shapes\n",
    "\n",
    "_Note: This feature requires the shapely and descartes packages (which are not a FloPy dependency) so must be installed by the user._\n",
    "\n",
    "This notebook shows the grid intersection functionality in flopy. The intersection methods are available through the GridIntersect object. A flopy model grid is passed to instantiate the object. Then the modelgrid can be intersected with Points, LineStrings and Polygons through the different intersect methods. There are two intersection modes: \n",
    "\n",
    "This notebook showcases interpolation of z-data onto a grid.\n",
    "\n",
    "## Contents\n",
    "\n",
    "- Extend GridIntersect with interpolation functions\n",
    "- Point observations and shapes:\n",
    "  - [Case 1: Interpolate simple linestring with points at which z is defined](#case1)\n",
    "  - [Case 2: Interpolate simple polygon with points at which z is defined (using a centerline)](#case2)\n",
    "- Data from shapefiles (with attributes per shape):\n",
    "  - [Case 3: Interpolate linestring with segments with z-data](#case3)\n",
    "  - [Case 4: Interpolate from polygon with z-data](#case4)"
   ]
  },
  {
   "cell_type": "markdown",
   "metadata": {},
   "source": [
    "Import some stuff"
   ]
  },
  {
   "cell_type": "code",
   "execution_count": 1,
   "metadata": {},
   "outputs": [
    {
     "name": "stdout",
     "output_type": "stream",
     "text": [
      "3.7.6 (default, Jan  8 2020, 19:59:22) \n",
      "[GCC 7.3.0]\n",
      "numpy version: 1.19.2\n",
      "matplotlib version: 3.3.2\n",
      "flopy version: 3.3.2\n"
     ]
    }
   ],
   "source": [
    "import sys\n",
    "import os\n",
    "import platform\n",
    "import numpy as np\n",
    "import matplotlib as mpl\n",
    "import matplotlib.pyplot as plt\n",
    "\n",
    "sys.path.insert(1, \"../..\")\n",
    "\n",
    "# run installed version of flopy or add local path\n",
    "try:\n",
    "    import flopy\n",
    "    import flopy.discretization as fgrid\n",
    "    import flopy.plot as fplot\n",
    "    from flopy.utils.triangle import Triangle as Triangle\n",
    "    from flopy.utils.gridintersect import GridIntersect\n",
    "except:\n",
    "    fpth = os.path.abspath(os.path.join('..', '..'))\n",
    "    sys.path.append(fpth)\n",
    "    import flopy\n",
    "    import flopy.discretization as fgrid\n",
    "    import flopy.plot as fplot\n",
    "    from flopy.utils.triangle import Triangle as Triangle\n",
    "    from flopy.utils.gridintersect import GridIntersect\n",
    "\n",
    "import shapely\n",
    "from shapely.geometry import Polygon, Point, LineString, MultiLineString, MultiPoint, MultiPolygon\n",
    "from shapely.strtree import STRtree    \n",
    "\n",
    "print(sys.version)\n",
    "print('numpy version: {}'.format(np.__version__))\n",
    "print('matplotlib version: {}'.format(mpl.__version__))\n",
    "print('flopy version: {}'.format(flopy.__version__))"
   ]
  },
  {
   "cell_type": "markdown",
   "metadata": {},
   "source": [
    "## Interpolation functions"
   ]
  },
  {
   "cell_type": "code",
   "execution_count": 2,
   "metadata": {},
   "outputs": [],
   "source": [
    "class GridIntersect_z(GridIntersect):\n",
    "\n",
    "    def calc_interpweights_linestring(self, ixresult, linestring, xyz):\n",
    "        \"\"\"Calculate interpolation weights for cell centers of gridcells that\n",
    "        intersect with a linestring given a set of points with z-values.\n",
    "\n",
    "        Parameters\n",
    "        ----------\n",
    "        linestring : shapely.geometry.Linestring\n",
    "            shapely representation of linestring\n",
    "        xyz : numpy.array\n",
    "            numpy array containing (x, y, z) data per row for points with\n",
    "            z-values. These do not necessarily have to lie exactly on the\n",
    "            linestring (they are also projected onto the linestring).\n",
    "\n",
    "        Returns\n",
    "        -------\n",
    "        weights : np.array\n",
    "            array with dimensions (n_gridcells, n_pts) where n_pts is the\n",
    "            number of points at which z-data is defined. Each row contains\n",
    "            1 or 2 non-zero values (with sum equal to 1). These values\n",
    "            represent the interpolation weights\n",
    "\n",
    "        \"\"\"\n",
    "\n",
    "        # project pts with z-data onto linestring\n",
    "        zpts = [Point(*ixyz) for ixyz in xyz]\n",
    "        dist_along_ls_z = [linestring.project(z) for z in zpts]\n",
    "\n",
    "        # project cell coords (x, y) onto linestring\n",
    "        if self.mfgrid.grid_type == \"structured\":\n",
    "            xypts = [Point(self.mfgrid.xcellcenters[0, icol],\n",
    "                           self.mfgrid.ycellcenters[irow, 0])\n",
    "                     for irow, icol in ixresult.cellids]\n",
    "        elif self.mfgrid.grid_type == \"vertex\":\n",
    "            xypts = [Point(self.mfgrid.xcellcenters[i],\n",
    "                           self.mfgrid.ycellcenters[i])\n",
    "                     for i in ixresult.cellids]\n",
    "        else:\n",
    "            raise NotImplementedError(\"Only works for 'structured' or \"\n",
    "                                      \"'vertex' grids!\")\n",
    "        \n",
    "        # projected distance of cell centers along linestring\n",
    "        dist_along_ls_cells = [linestring.project(p) for p in xypts]\n",
    "\n",
    "        # calculate linear weights between z-pts\n",
    "        linear_weights = np.interp(\n",
    "            dist_along_ls_cells, dist_along_ls_z, range(len(dist_along_ls_z)))\n",
    "\n",
    "        # fill weights matrix\n",
    "        weights = np.zeros((len(xypts), len(zpts)))\n",
    "        for irow in range(len(xypts)):\n",
    "            w = linear_weights[irow]\n",
    "            w1 = 1 - (w - int(w)) if w > 0 else 1\n",
    "            w2 = 1 - w1 if w < len(zpts) else 1\n",
    "            weights[irow, int(w)] = w1\n",
    "            \n",
    "            if int(w) + 1 < len(zpts):\n",
    "                weights[irow, int(w) + 1] = w2\n",
    "\n",
    "        return weights\n",
    "\n",
    "    def interpolate_z_along_linestring(self, linestring, xyz):\n",
    "        \"\"\"Calculate z-value for cell centers of gridcells that intersect\n",
    "        with a linestring given a set of points with defined z-values.\n",
    "\n",
    "        Parameters\n",
    "        ----------\n",
    "        linestring : shapely.geometry.Linestring\n",
    "            shapely representation of a linestring\n",
    "        xyz : numpy.array\n",
    "            numpy array containing (x, y, z) data per row for points with\n",
    "            z-values. These do not necessarily have to lie exactly on the\n",
    "            linestring (they are also projected onto the linestring).\n",
    "\n",
    "        Returns\n",
    "        -------\n",
    "        result : numpy.recarray\n",
    "            numpy record arrray with intersection result and interpolated\n",
    "            nearest z-values\n",
    "\n",
    "        \"\"\"\n",
    "        ixresult = self.intersect_linestring(linestring)\n",
    "        weights = self.calc_interpweights_linestring(ixresult, linestring, xyz)\n",
    "        return weights.dot(xyz[:, -1:])\n",
    "    \n",
    "    def interpolate_z_along_polygon(self, polygon, centerline, xyz):\n",
    "        \"\"\"Calculate z-value for cell centers of gridcells that intersect\n",
    "        with a polygon given a set of points with defined z-values.\n",
    "\n",
    "        Parameters\n",
    "        ----------\n",
    "        polygon : shapely.geometry.Polygon\n",
    "            shapely representation of a polygon\n",
    "        centerline : shapely.geometry.LineString\n",
    "            centerline of the polygon\n",
    "        xyz : numpy.array\n",
    "            numpy array containing (x, y, z) data per row for points with\n",
    "            z-values. These do not necessarily have to lie exactly on the\n",
    "            linestring (they are also projected onto the linestring).\n",
    "\n",
    "        Returns\n",
    "        -------\n",
    "        result : numpy.recarray\n",
    "            numpy record arrray with intersection result and interpolated\n",
    "            nearest z-values\n",
    "\n",
    "        \"\"\"\n",
    "        ixresult = self.intersect_polygon(polygon)\n",
    "        weights = self.calc_interpweights_linestring(ixresult, centerline, xyz)\n",
    "        return weights.dot(xyz[:, -1:])"
   ]
  },
  {
   "cell_type": "markdown",
   "metadata": {},
   "source": [
    "Rectangular regular grid"
   ]
  },
  {
   "cell_type": "code",
   "execution_count": 218,
   "metadata": {},
   "outputs": [],
   "source": [
    "delc = 10*np.ones(10, dtype=np.float)\n",
    "delr = 10*np.ones(10, dtype=np.float)"
   ]
  },
  {
   "cell_type": "code",
   "execution_count": 219,
   "metadata": {},
   "outputs": [],
   "source": [
    "xoff = 0.\n",
    "yoff = 0.\n",
    "angrot = 0.\n",
    "sgr = fgrid.StructuredGrid(delc, delr, top=None, botm=None, xoff=xoff, yoff=yoff, angrot=angrot)"
   ]
  },
  {
   "cell_type": "code",
   "execution_count": 220,
   "metadata": {},
   "outputs": [
    {
     "data": {
      "text/plain": [
       "<matplotlib.collections.LineCollection at 0x7f785d813f90>"
      ]
     },
     "execution_count": 220,
     "metadata": {},
     "output_type": "execute_result"
    },
    {
     "data": {
      "image/png": "[encoded data removed]",
      "text/plain": [
       "<Figure size 432x288 with 1 Axes>"
      ]
     },
     "metadata": {
      "needs_background": "light"
     },
     "output_type": "display_data"
    }
   ],
   "source": [
    "sgr.plot()"
   ]
  },
  {
   "cell_type": "markdown",
   "metadata": {},
   "source": [
    "Create GridIntersect class"
   ]
  },
  {
   "cell_type": "code",
   "execution_count": 17,
   "metadata": {},
   "outputs": [],
   "source": [
    "ix = GridIntersect_z(sgr, method=\"vertex\")"
   ]
  },
  {
   "cell_type": "markdown",
   "metadata": {},
   "source": [
    "## <a id=\"case1\"></a>[Case 1: Interpolate simple linestring with points at which z is defined](#top)\n",
    "MultiLineString to intersect with:"
   ]
  },
  {
   "cell_type": "code",
   "execution_count": 8,
   "metadata": {},
   "outputs": [],
   "source": [
    "ls1 = LineString([(95, 105), (30, 50)])\n",
    "ls2 = LineString([(30, 50), (90, 22)])\n",
    "ls3 = LineString([(90, 22), (0, 0)])\n",
    "mls = MultiLineString(lines=[ls1, ls2, ls3])"
   ]
  },
  {
   "cell_type": "markdown",
   "metadata": {},
   "source": [
    "Points containing z-data. These points lie on the line, but this is not necessarily required as the data points are also projected onto the line."
   ]
  },
  {
   "cell_type": "code",
   "execution_count": 9,
   "metadata": {},
   "outputs": [],
   "source": [
    "xyz = np.array([[95, 105, 10], [30, 50, 20], [0, 0, 0]])"
   ]
  },
  {
   "cell_type": "markdown",
   "metadata": {},
   "source": [
    "Calculate elevation for gridcell centers by projecting cell-center coordinates onto linestring and linearly interpolating between known z-values."
   ]
  },
  {
   "cell_type": "code",
   "execution_count": 9,
   "metadata": {},
   "outputs": [],
   "source": [
    "elev = ix.interpolate_z_along_linestring(mls, xyz)\n",
    "result = ix.intersect_linestring(mls)"
   ]
  },
  {
   "cell_type": "markdown",
   "metadata": {},
   "source": [
    "Plot result"
   ]
  },
  {
   "cell_type": "code",
   "execution_count": 10,
   "metadata": {},
   "outputs": [
    {
     "name": "stderr",
     "output_type": "stream",
     "text": [
      "../..\\flopy\\utils\\gridintersect.py:1090: MatplotlibDeprecationWarning: Saw kwargs ['c', 'color'] which are all aliases for 'color'.  Kept value from 'color'.  Passing multiple aliases for the same property will raise a TypeError in 3.3.\n",
      "  c=\"C{}\".format(i % 10), **kwargs)\n",
      "../..\\flopy\\utils\\gridintersect.py:1087: MatplotlibDeprecationWarning: Saw kwargs ['c', 'color'] which are all aliases for 'color'.  Kept value from 'color'.  Passing multiple aliases for the same property will raise a TypeError in 3.3.\n",
      "  c=\"C{}\".format(i % 10), **kwargs)\n"
     ]
    },
    {
     "data": {
      "image/png": "[encoded data removed]",
      "text/plain": [
       "<Figure size 576x576 with 2 Axes>"
      ]
     },
     "metadata": {
      "needs_background": "light"
     },
     "output_type": "display_data"
    }
   ],
   "source": [
    "fig, ax = plt.subplots(1, 1, figsize=(8, 8))\n",
    "sgr.plot(ax=ax)\n",
    "ix.plot_linestring(result, ax=ax, color=\"red\")\n",
    "\n",
    "xy_arr = np.array([[sgr.xcellcenters[0, icol], sgr.ycellcenters[irow, 0]] for irow, icol in result.cellids])\n",
    "sc = ax.scatter(xy_arr[:, 0], xy_arr[:, 1], c=elev.squeeze(), cmap=\"viridis\", vmin=0, vmax=20)\n",
    "sc2 = ax.scatter(xyz[:, 0], xyz[:, 1], c=xyz[:, -1], cmap=\"viridis\", vmin=0, vmax=20, edgecolors=\"k\", s=200)\n",
    "ax.set_xlim(-5, 105)\n",
    "ax.set_ylim(-5, 110)\n",
    "cbar = fig.colorbar(sc, ax=ax, shrink=0.75);\n",
    "cbar.set_label(\"z-value\")\n",
    "ax.set_xlabel(\"x\")\n",
    "ax.set_ylabel(\"y\");"
   ]
  },
  {
   "cell_type": "markdown",
   "metadata": {},
   "source": [
    "## <a id=\"case2\"></a>[Case 2: Interpolate simple polygon with points at which z is defined (using a centerline)](#top)"
   ]
  },
  {
   "cell_type": "code",
   "execution_count": 11,
   "metadata": {},
   "outputs": [],
   "source": [
    "poly = Polygon(shell=[(100, 105), (70, 105), (30, 50.), (60, 0), (90, 0), (60, 50), (80, 80), (100, 80)])\n",
    "centerline = LineString([(100, 92.5), (75, 92.5), (45, 50) ,(75, 0)])"
   ]
  },
  {
   "cell_type": "code",
   "execution_count": 12,
   "metadata": {},
   "outputs": [],
   "source": [
    "result = ix.intersect_polygon(poly)"
   ]
  },
  {
   "cell_type": "code",
   "execution_count": 13,
   "metadata": {},
   "outputs": [],
   "source": [
    "xyz = np.array([[100, 92.5, 10], [50, 50, 20], [75, 0, 0]])"
   ]
  },
  {
   "cell_type": "code",
   "execution_count": 14,
   "metadata": {},
   "outputs": [],
   "source": [
    "elev = ix.interpolate_z_along_polygon(poly, centerline, xyz)"
   ]
  },
  {
   "cell_type": "code",
   "execution_count": 15,
   "metadata": {},
   "outputs": [
    {
     "name": "stderr",
     "output_type": "stream",
     "text": [
      "C:\\Users\\dbrak\\Anaconda3\\lib\\site-packages\\descartes\\patch.py:87: UserWarning: Setting the 'color' property will override the edgecolor or facecolor properties.\n",
      "  return PathPatch(PolygonPath(polygon), **kwargs)\n"
     ]
    },
    {
     "data": {
      "image/png": "[encoded data removed]",
      "text/plain": [
       "<Figure size 576x576 with 2 Axes>"
      ]
     },
     "metadata": {
      "needs_background": "light"
     },
     "output_type": "display_data"
    }
   ],
   "source": [
    "fig, ax = plt.subplots(1, 1, figsize=(8, 8))\n",
    "sgr.plot(ax=ax)\n",
    "ix.plot_polygon(result, ax=ax, color=\"red\", zorder=0, alpha=0.5)\n",
    "ax.plot(centerline.xy[0], centerline.xy[1], ls=\"-\", c=\"k\")\n",
    "\n",
    "xy_arr = np.array([[sgr.xcellcenters[0, icol], sgr.ycellcenters[irow, 0]] for irow, icol in result.cellids])\n",
    "sc = ax.scatter(xy_arr[:, 0], xy_arr[:, 1], c=elev.squeeze(), cmap=\"viridis\", vmin=0, vmax=20)\n",
    "sc2 = ax.scatter(xyz[:, 0], xyz[:, 1], c=xyz[:, -1], cmap=\"viridis\", vmin=0, vmax=20, edgecolors=\"k\", s=200)\n",
    "ax.set_xlim(-5, 105)\n",
    "ax.set_ylim(-5, 110)\n",
    "cbar = fig.colorbar(sc, ax=ax, shrink=0.75);\n",
    "cbar.set_label(\"z-value\")\n",
    "ax.set_xlabel(\"x\")\n",
    "ax.set_ylabel(\"y\");"
   ]
  },
  {
   "cell_type": "markdown",
   "metadata": {},
   "source": [
    "## <a id=\"case3\"></a>[Case 3: Interpolate linestring with segments with z-data](#top)"
   ]
  },
  {
   "cell_type": "code",
   "execution_count": 16,
   "metadata": {},
   "outputs": [],
   "source": [
    "import geopandas as gpd"
   ]
  },
  {
   "cell_type": "code",
   "execution_count": 17,
   "metadata": {},
   "outputs": [],
   "source": [
    "pt = MultiPoint([mls.interpolate(i/4, normalized=True) for i in range(1, 4)])\n",
    "\n",
    "# snap line to points to avoid floating point issues when splitting\n",
    "mls = shapely.ops.snap(mls, pt, tolerance=1e-5)\n",
    "ls_split = shapely.ops.split(mls, pt)"
   ]
  },
  {
   "cell_type": "code",
   "execution_count": 18,
   "metadata": {},
   "outputs": [
    {
     "data": {
      "text/html": [
       "<div>\n",
       "<style scoped>\n",
       "    .dataframe tbody tr th:only-of-type {\n",
       "        vertical-align: middle;\n",
       "    }\n",
       "\n",
       "    .dataframe tbody tr th {\n",
       "        vertical-align: top;\n",
       "    }\n",
       "\n",
       "    .dataframe thead th {\n",
       "        text-align: right;\n",
       "    }\n",
       "</style>\n",
       "<table border=\"1\" class=\"dataframe\">\n",
       "  <thead>\n",
       "    <tr style=\"text-align: right;\">\n",
       "      <th></th>\n",
       "      <th>geometry</th>\n",
       "      <th>z</th>\n",
       "    </tr>\n",
       "  </thead>\n",
       "  <tbody>\n",
       "    <tr>\n",
       "      <th>0</th>\n",
       "      <td>LINESTRING (95.000 105.000, 48.432 65.596)</td>\n",
       "      <td>5</td>\n",
       "    </tr>\n",
       "    <tr>\n",
       "      <th>1</th>\n",
       "      <td>LINESTRING (48.432 65.596, 30.000 50.000)</td>\n",
       "      <td>6</td>\n",
       "    </tr>\n",
       "    <tr>\n",
       "      <th>2</th>\n",
       "      <td>LINESTRING (30.000 50.000, 63.400 34.414)</td>\n",
       "      <td>7</td>\n",
       "    </tr>\n",
       "    <tr>\n",
       "      <th>3</th>\n",
       "      <td>LINESTRING (63.400 34.414, 90.000 22.000)</td>\n",
       "      <td>8</td>\n",
       "    </tr>\n",
       "    <tr>\n",
       "      <th>4</th>\n",
       "      <td>LINESTRING (90.000 22.000, 59.257 14.485)</td>\n",
       "      <td>9</td>\n",
       "    </tr>\n",
       "    <tr>\n",
       "      <th>5</th>\n",
       "      <td>LINESTRING (59.257 14.485, 0.000 0.000)</td>\n",
       "      <td>10</td>\n",
       "    </tr>\n",
       "  </tbody>\n",
       "</table>\n",
       "</div>"
      ],
      "text/plain": [
       "                                     geometry   z\n",
       "0  LINESTRING (95.000 105.000, 48.432 65.596)   5\n",
       "1   LINESTRING (48.432 65.596, 30.000 50.000)   6\n",
       "2   LINESTRING (30.000 50.000, 63.400 34.414)   7\n",
       "3   LINESTRING (63.400 34.414, 90.000 22.000)   8\n",
       "4   LINESTRING (90.000 22.000, 59.257 14.485)   9\n",
       "5     LINESTRING (59.257 14.485, 0.000 0.000)  10"
      ]
     },
     "execution_count": 18,
     "metadata": {},
     "output_type": "execute_result"
    }
   ],
   "source": [
    "gdf = gpd.GeoDataFrame(geometry=list(ls_split))\n",
    "gdf[\"z\"] = np.arange(gdf.shape[0]) + 5\n",
    "gdf"
   ]
  },
  {
   "cell_type": "code",
   "execution_count": 19,
   "metadata": {},
   "outputs": [],
   "source": [
    "import pandas as pd"
   ]
  },
  {
   "cell_type": "code",
   "execution_count": 20,
   "metadata": {},
   "outputs": [],
   "source": [
    "# intersect with modelgrid and store attributes\n",
    "keep_cols = [\"z\"]\n",
    "collect_ix = []\n",
    "\n",
    "for irow, ishp in gdf.iterrows():\n",
    "    r = ix.intersect_linestring(ishp.geometry)\n",
    "    idf = gpd.GeoDataFrame(r, geometry=\"ixshapes\")\n",
    "    # add attributes\n",
    "    for icol in keep_cols:\n",
    "        idf[icol] = ishp[icol]\n",
    "    collect_ix.append(idf)\n",
    "\n",
    "ix_df = pd.concat(collect_ix, axis=0)\n",
    "ix_df.reset_index(inplace=True, drop=True)"
   ]
  },
  {
   "cell_type": "code",
   "execution_count": 21,
   "metadata": {},
   "outputs": [
    {
     "data": {
      "text/html": [
       "<div>\n",
       "<style scoped>\n",
       "    .dataframe tbody tr th:only-of-type {\n",
       "        vertical-align: middle;\n",
       "    }\n",
       "\n",
       "    .dataframe tbody tr th {\n",
       "        vertical-align: top;\n",
       "    }\n",
       "\n",
       "    .dataframe thead th {\n",
       "        text-align: right;\n",
       "    }\n",
       "</style>\n",
       "<table border=\"1\" class=\"dataframe\">\n",
       "  <thead>\n",
       "    <tr style=\"text-align: right;\">\n",
       "      <th></th>\n",
       "      <th>cellids</th>\n",
       "      <th>vertices</th>\n",
       "      <th>lengths</th>\n",
       "      <th>ixshapes</th>\n",
       "      <th>z</th>\n",
       "    </tr>\n",
       "  </thead>\n",
       "  <tbody>\n",
       "    <tr>\n",
       "      <th>0</th>\n",
       "      <td>(0, 7)</td>\n",
       "      <td>((80.0, 92.3076923076923), (77.27272727272728,...</td>\n",
       "      <td>3.572599</td>\n",
       "      <td>LINESTRING (80.000 92.308, 77.273 90.000)</td>\n",
       "      <td>5</td>\n",
       "    </tr>\n",
       "    <tr>\n",
       "      <th>1</th>\n",
       "      <td>(0, 8)</td>\n",
       "      <td>((89.0909090909091, 100.0), (80.0, 92.30769230...</td>\n",
       "      <td>11.908662</td>\n",
       "      <td>LINESTRING (89.091 100.000, 80.000 92.308)</td>\n",
       "      <td>5</td>\n",
       "    </tr>\n",
       "    <tr>\n",
       "      <th>2</th>\n",
       "      <td>(1, 6)</td>\n",
       "      <td>((70.0, 83.84615384615384), (65.45454545454545...</td>\n",
       "      <td>5.954331</td>\n",
       "      <td>LINESTRING (70.000 83.846, 65.455 80.000)</td>\n",
       "      <td>5</td>\n",
       "    </tr>\n",
       "    <tr>\n",
       "      <th>3</th>\n",
       "      <td>(1, 7)</td>\n",
       "      <td>((77.27272727272728, 90.0), (70.0, 83.84615384...</td>\n",
       "      <td>9.526929</td>\n",
       "      <td>LINESTRING (77.273 90.000, 70.000 83.846)</td>\n",
       "      <td>5</td>\n",
       "    </tr>\n",
       "    <tr>\n",
       "      <th>4</th>\n",
       "      <td>(2, 5)</td>\n",
       "      <td>((60.0, 75.38461538461539), (53.63636363636364...</td>\n",
       "      <td>8.336063</td>\n",
       "      <td>LINESTRING (60.000 75.385, 53.636 70.000)</td>\n",
       "      <td>5</td>\n",
       "    </tr>\n",
       "    <tr>\n",
       "      <th>5</th>\n",
       "      <td>(2, 6)</td>\n",
       "      <td>((65.45454545454545, 80.0), (60.0, 75.38461538...</td>\n",
       "      <td>7.145197</td>\n",
       "      <td>LINESTRING (65.455 80.000, 60.000 75.385)</td>\n",
       "      <td>5</td>\n",
       "    </tr>\n",
       "    <tr>\n",
       "      <th>6</th>\n",
       "      <td>(3, 4)</td>\n",
       "      <td>((50.0, 66.92307692307692), (48.43179687045732...</td>\n",
       "      <td>2.054272</td>\n",
       "      <td>LINESTRING (50.000 66.923, 48.432 65.596)</td>\n",
       "      <td>5</td>\n",
       "    </tr>\n",
       "    <tr>\n",
       "      <th>8</th>\n",
       "      <td>(3, 4)</td>\n",
       "      <td>((48.431796870457326, 65.59613581346389), (41....</td>\n",
       "      <td>8.663524</td>\n",
       "      <td>LINESTRING (48.432 65.596, 41.818 60.000)</td>\n",
       "      <td>6</td>\n",
       "    </tr>\n",
       "    <tr>\n",
       "      <th>7</th>\n",
       "      <td>(3, 5)</td>\n",
       "      <td>((53.63636363636364, 70.0), (50.0, 66.92307692...</td>\n",
       "      <td>4.763465</td>\n",
       "      <td>LINESTRING (53.636 70.000, 50.000 66.923)</td>\n",
       "      <td>5</td>\n",
       "    </tr>\n",
       "    <tr>\n",
       "      <th>9</th>\n",
       "      <td>(4, 3)</td>\n",
       "      <td>((40.0, 58.46153846153846), (30.0, 50.0))</td>\n",
       "      <td>13.099528</td>\n",
       "      <td>LINESTRING (40.000 58.462, 30.000 50.000)</td>\n",
       "      <td>6</td>\n",
       "    </tr>\n",
       "  </tbody>\n",
       "</table>\n",
       "</div>"
      ],
      "text/plain": [
       "  cellids                                           vertices    lengths  \\\n",
       "0  (0, 7)  ((80.0, 92.3076923076923), (77.27272727272728,...   3.572599   \n",
       "1  (0, 8)  ((89.0909090909091, 100.0), (80.0, 92.30769230...  11.908662   \n",
       "2  (1, 6)  ((70.0, 83.84615384615384), (65.45454545454545...   5.954331   \n",
       "3  (1, 7)  ((77.27272727272728, 90.0), (70.0, 83.84615384...   9.526929   \n",
       "4  (2, 5)  ((60.0, 75.38461538461539), (53.63636363636364...   8.336063   \n",
       "5  (2, 6)  ((65.45454545454545, 80.0), (60.0, 75.38461538...   7.145197   \n",
       "6  (3, 4)  ((50.0, 66.92307692307692), (48.43179687045732...   2.054272   \n",
       "8  (3, 4)  ((48.431796870457326, 65.59613581346389), (41....   8.663524   \n",
       "7  (3, 5)  ((53.63636363636364, 70.0), (50.0, 66.92307692...   4.763465   \n",
       "9  (4, 3)          ((40.0, 58.46153846153846), (30.0, 50.0))  13.099528   \n",
       "\n",
       "                                     ixshapes  z  \n",
       "0   LINESTRING (80.000 92.308, 77.273 90.000)  5  \n",
       "1  LINESTRING (89.091 100.000, 80.000 92.308)  5  \n",
       "2   LINESTRING (70.000 83.846, 65.455 80.000)  5  \n",
       "3   LINESTRING (77.273 90.000, 70.000 83.846)  5  \n",
       "4   LINESTRING (60.000 75.385, 53.636 70.000)  5  \n",
       "5   LINESTRING (65.455 80.000, 60.000 75.385)  5  \n",
       "6   LINESTRING (50.000 66.923, 48.432 65.596)  5  \n",
       "8   LINESTRING (48.432 65.596, 41.818 60.000)  6  \n",
       "7   LINESTRING (53.636 70.000, 50.000 66.923)  5  \n",
       "9   LINESTRING (40.000 58.462, 30.000 50.000)  6  "
      ]
     },
     "execution_count": 21,
     "metadata": {},
     "output_type": "execute_result"
    }
   ],
   "source": [
    "ix_df.sort_values(by=\"cellids\").head(10)"
   ]
  },
  {
   "cell_type": "code",
   "execution_count": 22,
   "metadata": {},
   "outputs": [],
   "source": [
    "# aggregation method with groupby\n",
    "gr = ix_df.groupby(by=\"cellids\")\n",
    "calc_cols = [\"z\"]\n",
    "mdata = pd.DataFrame(index=gr.groups.keys())\n",
    "for igr, group in gr:\n",
    "    for icol in calc_cols:\n",
    "        # length-weighted\n",
    "        mdata.loc[igr, icol] = (group.lengths * group[icol]).sum() / group.lengths.sum()"
   ]
  },
  {
   "cell_type": "code",
   "execution_count": 23,
   "metadata": {},
   "outputs": [
    {
     "data": {
      "image/png": "[encoded data removed]",
      "text/plain": [
       "<Figure size 576x576 with 2 Axes>"
      ]
     },
     "metadata": {
      "needs_background": "light"
     },
     "output_type": "display_data"
    }
   ],
   "source": [
    "fig, ax = plt.subplots(1, 1, figsize=(8, 8))\n",
    "sgr.plot(ax=ax)\n",
    "\n",
    "gdf.plot(ax=ax, column=\"z\", legend=True)\n",
    "\n",
    "xy_arr = np.array([[sgr.xcellcenters[0, icol], sgr.ycellcenters[irow, 0]] for irow, icol in mdata.index])\n",
    "sc = ax.scatter(xy_arr[:, 0], xy_arr[:, 1], c=mdata[\"z\"], cmap=\"viridis\", vmin=5, vmax=10)"
   ]
  },
  {
   "cell_type": "markdown",
   "metadata": {},
   "source": [
    "## <a id=\"case4\"></a>[Case 4: Interpolate from polygon with z-data](#top)"
   ]
  },
  {
   "cell_type": "code",
   "execution_count": 24,
   "metadata": {},
   "outputs": [],
   "source": [
    "poly = Polygon(shell=[(100, 105), (70, 105), (30, 50.), (60, 0), (90, 0), (60, 50), (80, 80), (100, 80)])"
   ]
  },
  {
   "cell_type": "code",
   "execution_count": 25,
   "metadata": {},
   "outputs": [],
   "source": [
    "splitter = [\n",
    "    LineString([(90, 105), (90, 80)]),\n",
    "    LineString([(40, 90), (80, 70)]),\n",
    "    LineString([(30, 50), (70, 50)]),\n",
    "    LineString([(40, 20), (80, 30)])\n",
    "]"
   ]
  },
  {
   "cell_type": "code",
   "execution_count": 26,
   "metadata": {},
   "outputs": [],
   "source": [
    "geoms = []\n",
    "for i, split in enumerate(splitter):\n",
    "    res = shapely.ops.split(poly, split)\n",
    "    geoms.append(res[0])\n",
    "    poly = res[1]\n",
    "    if i == len(splitter)-1:\n",
    "        geoms.append(res[1])"
   ]
  },
  {
   "cell_type": "code",
   "execution_count": 27,
   "metadata": {},
   "outputs": [
    {
     "data": {
      "text/html": [
       "<div>\n",
       "<style scoped>\n",
       "    .dataframe tbody tr th:only-of-type {\n",
       "        vertical-align: middle;\n",
       "    }\n",
       "\n",
       "    .dataframe tbody tr th {\n",
       "        vertical-align: top;\n",
       "    }\n",
       "\n",
       "    .dataframe thead th {\n",
       "        text-align: right;\n",
       "    }\n",
       "</style>\n",
       "<table border=\"1\" class=\"dataframe\">\n",
       "  <thead>\n",
       "    <tr style=\"text-align: right;\">\n",
       "      <th></th>\n",
       "      <th>geometry</th>\n",
       "      <th>z</th>\n",
       "    </tr>\n",
       "  </thead>\n",
       "  <tbody>\n",
       "    <tr>\n",
       "      <th>0</th>\n",
       "      <td>POLYGON ((90.000 105.000, 100.000 105.000, 100...</td>\n",
       "      <td>5</td>\n",
       "    </tr>\n",
       "    <tr>\n",
       "      <th>1</th>\n",
       "      <td>POLYGON ((90.000 80.000, 80.000 80.000, 75.000...</td>\n",
       "      <td>6</td>\n",
       "    </tr>\n",
       "    <tr>\n",
       "      <th>2</th>\n",
       "      <td>POLYGON ((75.000 72.500, 60.000 50.000, 30.000...</td>\n",
       "      <td>7</td>\n",
       "    </tr>\n",
       "    <tr>\n",
       "      <th>3</th>\n",
       "      <td>POLYGON ((60.000 50.000, 73.043 28.261, 46.957...</td>\n",
       "      <td>8</td>\n",
       "    </tr>\n",
       "    <tr>\n",
       "      <th>4</th>\n",
       "      <td>POLYGON ((73.043 28.261, 90.000 0.000, 60.000 ...</td>\n",
       "      <td>9</td>\n",
       "    </tr>\n",
       "  </tbody>\n",
       "</table>\n",
       "</div>"
      ],
      "text/plain": [
       "                                            geometry  z\n",
       "0  POLYGON ((90.000 105.000, 100.000 105.000, 100...  5\n",
       "1  POLYGON ((90.000 80.000, 80.000 80.000, 75.000...  6\n",
       "2  POLYGON ((75.000 72.500, 60.000 50.000, 30.000...  7\n",
       "3  POLYGON ((60.000 50.000, 73.043 28.261, 46.957...  8\n",
       "4  POLYGON ((73.043 28.261, 90.000 0.000, 60.000 ...  9"
      ]
     },
     "execution_count": 27,
     "metadata": {},
     "output_type": "execute_result"
    }
   ],
   "source": [
    "gdf = gpd.GeoDataFrame(geometry=geoms)\n",
    "gdf[\"z\"] = np.arange(gdf.shape[0]) + 5\n",
    "gdf"
   ]
  },
  {
   "cell_type": "code",
   "execution_count": 28,
   "metadata": {},
   "outputs": [],
   "source": [
    "# intersect with modelgrid and store attributes\n",
    "keep_cols = [\"z\"]\n",
    "collect_ix = []\n",
    "\n",
    "for irow, ishp in gdf.iterrows():\n",
    "    r = ix.intersect_polygon(ishp.geometry)\n",
    "    idf = gpd.GeoDataFrame(r, geometry=\"ixshapes\")\n",
    "    # add attributes\n",
    "    for icol in keep_cols:\n",
    "        idf[icol] = ishp[icol]\n",
    "    collect_ix.append(idf)\n",
    "\n",
    "ix_df = pd.concat(collect_ix, axis=0)\n",
    "ix_df.reset_index(inplace=True, drop=True)"
   ]
  },
  {
   "cell_type": "code",
   "execution_count": 29,
   "metadata": {},
   "outputs": [
    {
     "data": {
      "text/html": [
       "<div>\n",
       "<style scoped>\n",
       "    .dataframe tbody tr th:only-of-type {\n",
       "        vertical-align: middle;\n",
       "    }\n",
       "\n",
       "    .dataframe tbody tr th {\n",
       "        vertical-align: top;\n",
       "    }\n",
       "\n",
       "    .dataframe thead th {\n",
       "        text-align: right;\n",
       "    }\n",
       "</style>\n",
       "<table border=\"1\" class=\"dataframe\">\n",
       "  <thead>\n",
       "    <tr style=\"text-align: right;\">\n",
       "      <th></th>\n",
       "      <th>cellids</th>\n",
       "      <th>vertices</th>\n",
       "      <th>areas</th>\n",
       "      <th>ixshapes</th>\n",
       "      <th>z</th>\n",
       "    </tr>\n",
       "  </thead>\n",
       "  <tbody>\n",
       "    <tr>\n",
       "      <th>2</th>\n",
       "      <td>(0, 5)</td>\n",
       "      <td>(((59.09090909090909, 90.0), (60.0, 91.25), (6...</td>\n",
       "      <td>0.568182</td>\n",
       "      <td>POLYGON ((59.091 90.000, 60.000 91.250, 60.000...</td>\n",
       "      <td>6</td>\n",
       "    </tr>\n",
       "    <tr>\n",
       "      <th>3</th>\n",
       "      <td>(0, 6)</td>\n",
       "      <td>(((60.0, 91.25), (66.36363636363636, 100.0), (...</td>\n",
       "      <td>72.159091</td>\n",
       "      <td>POLYGON ((60.000 91.250, 66.364 100.000, 70.00...</td>\n",
       "      <td>6</td>\n",
       "    </tr>\n",
       "    <tr>\n",
       "      <th>4</th>\n",
       "      <td>(0, 7)</td>\n",
       "      <td>(((70.0, 100.0), (80.0, 100.0), (80.0, 90.0), ...</td>\n",
       "      <td>100.000000</td>\n",
       "      <td>POLYGON ((70.000 100.000, 80.000 100.000, 80.0...</td>\n",
       "      <td>6</td>\n",
       "    </tr>\n",
       "    <tr>\n",
       "      <th>5</th>\n",
       "      <td>(0, 8)</td>\n",
       "      <td>(((90.0, 100.0), (90.0, 90.0), (80.0, 90.0), (...</td>\n",
       "      <td>100.000000</td>\n",
       "      <td>POLYGON ((90.000 100.000, 90.000 90.000, 80.00...</td>\n",
       "      <td>6</td>\n",
       "    </tr>\n",
       "    <tr>\n",
       "      <th>0</th>\n",
       "      <td>(0, 9)</td>\n",
       "      <td>(((100.0, 100.0), (100.0, 90.0), (90.0, 90.0),...</td>\n",
       "      <td>100.000000</td>\n",
       "      <td>POLYGON ((100.000 100.000, 100.000 90.000, 90....</td>\n",
       "      <td>5</td>\n",
       "    </tr>\n",
       "    <tr>\n",
       "      <th>6</th>\n",
       "      <td>(1, 5)</td>\n",
       "      <td>(((60.0, 80.0), (54.0, 83.0), (59.090909090909...</td>\n",
       "      <td>33.181818</td>\n",
       "      <td>POLYGON ((60.000 80.000, 54.000 83.000, 59.091...</td>\n",
       "      <td>6</td>\n",
       "    </tr>\n",
       "    <tr>\n",
       "      <th>12</th>\n",
       "      <td>(1, 5)</td>\n",
       "      <td>(((51.81818181818182, 80.0), (54.0, 83.0), (60...</td>\n",
       "      <td>12.272727</td>\n",
       "      <td>POLYGON ((51.818 80.000, 54.000 83.000, 60.000...</td>\n",
       "      <td>7</td>\n",
       "    </tr>\n",
       "    <tr>\n",
       "      <th>7</th>\n",
       "      <td>(1, 6)</td>\n",
       "      <td>(((60.0, 90.0), (70.0, 90.0), (70.0, 80.0), (6...</td>\n",
       "      <td>100.000000</td>\n",
       "      <td>POLYGON ((60.000 90.000, 70.000 90.000, 70.000...</td>\n",
       "      <td>6</td>\n",
       "    </tr>\n",
       "    <tr>\n",
       "      <th>8</th>\n",
       "      <td>(1, 7)</td>\n",
       "      <td>(((70.0, 90.0), (80.0, 90.0), (80.0, 80.0), (7...</td>\n",
       "      <td>100.000000</td>\n",
       "      <td>POLYGON ((70.000 90.000, 80.000 90.000, 80.000...</td>\n",
       "      <td>6</td>\n",
       "    </tr>\n",
       "    <tr>\n",
       "      <th>9</th>\n",
       "      <td>(1, 8)</td>\n",
       "      <td>(((90.0, 80.0), (80.0, 80.0), (80.0, 90.0), (9...</td>\n",
       "      <td>100.000000</td>\n",
       "      <td>POLYGON ((90.000 80.000, 80.000 80.000, 80.000...</td>\n",
       "      <td>6</td>\n",
       "    </tr>\n",
       "  </tbody>\n",
       "</table>\n",
       "</div>"
      ],
      "text/plain": [
       "   cellids                                           vertices       areas  \\\n",
       "2   (0, 5)  (((59.09090909090909, 90.0), (60.0, 91.25), (6...    0.568182   \n",
       "3   (0, 6)  (((60.0, 91.25), (66.36363636363636, 100.0), (...   72.159091   \n",
       "4   (0, 7)  (((70.0, 100.0), (80.0, 100.0), (80.0, 90.0), ...  100.000000   \n",
       "5   (0, 8)  (((90.0, 100.0), (90.0, 90.0), (80.0, 90.0), (...  100.000000   \n",
       "0   (0, 9)  (((100.0, 100.0), (100.0, 90.0), (90.0, 90.0),...  100.000000   \n",
       "6   (1, 5)  (((60.0, 80.0), (54.0, 83.0), (59.090909090909...   33.181818   \n",
       "12  (1, 5)  (((51.81818181818182, 80.0), (54.0, 83.0), (60...   12.272727   \n",
       "7   (1, 6)  (((60.0, 90.0), (70.0, 90.0), (70.0, 80.0), (6...  100.000000   \n",
       "8   (1, 7)  (((70.0, 90.0), (80.0, 90.0), (80.0, 80.0), (7...  100.000000   \n",
       "9   (1, 8)  (((90.0, 80.0), (80.0, 80.0), (80.0, 90.0), (9...  100.000000   \n",
       "\n",
       "                                             ixshapes  z  \n",
       "2   POLYGON ((59.091 90.000, 60.000 91.250, 60.000...  6  \n",
       "3   POLYGON ((60.000 91.250, 66.364 100.000, 70.00...  6  \n",
       "4   POLYGON ((70.000 100.000, 80.000 100.000, 80.0...  6  \n",
       "5   POLYGON ((90.000 100.000, 90.000 90.000, 80.00...  6  \n",
       "0   POLYGON ((100.000 100.000, 100.000 90.000, 90....  5  \n",
       "6   POLYGON ((60.000 80.000, 54.000 83.000, 59.091...  6  \n",
       "12  POLYGON ((51.818 80.000, 54.000 83.000, 60.000...  7  \n",
       "7   POLYGON ((60.000 90.000, 70.000 90.000, 70.000...  6  \n",
       "8   POLYGON ((70.000 90.000, 80.000 90.000, 80.000...  6  \n",
       "9   POLYGON ((90.000 80.000, 80.000 80.000, 80.000...  6  "
      ]
     },
     "execution_count": 29,
     "metadata": {},
     "output_type": "execute_result"
    }
   ],
   "source": [
    "ix_df.sort_values(by=\"cellids\").head(10)"
   ]
  },
  {
   "cell_type": "code",
   "execution_count": 30,
   "metadata": {},
   "outputs": [],
   "source": [
    "# aggregation method with groupby\n",
    "gr = ix_df.groupby(by=\"cellids\")\n",
    "calc_cols = [\"z\"]\n",
    "mdata = pd.DataFrame(index=gr.groups.keys())\n",
    "for igr, group in gr:\n",
    "    for icol in calc_cols:\n",
    "        # area-weighted\n",
    "        mdata.loc[igr, icol] = (group.areas * group[icol]).sum() / group.areas.sum()"
   ]
  },
  {
   "cell_type": "code",
   "execution_count": 31,
   "metadata": {},
   "outputs": [
    {
     "data": {
      "image/png": "[encoded data removed]",
      "text/plain": [
       "<Figure size 576x576 with 2 Axes>"
      ]
     },
     "metadata": {
      "needs_background": "light"
     },
     "output_type": "display_data"
    }
   ],
   "source": [
    "cmap = mpl.cm.viridis\n",
    "norm = mpl.colors.Normalize(vmin=5, vmax=10)\n",
    "\n",
    "fig, ax = plt.subplots(1, 1, figsize=(8, 8))\n",
    "sgr.plot(ax=ax)\n",
    "\n",
    "gdf.plot(ax=ax, column=\"z\", legend=True, alpha=0.5)\n",
    "\n",
    "xy_arr = np.array([[sgr.xcellcenters[0, icol], sgr.ycellcenters[irow, 0]] for irow, icol in mdata.index])\n",
    "sc = ax.scatter(xy_arr[:, 0], xy_arr[:, 1], c=mdata[\"z\"], cmap=\"viridis\", vmin=5, vmax=9)"
   ]
  },
  {
   "cell_type": "markdown",
   "metadata": {},
   "source": [
    "## Sidenote: performance rtree, strtree\n",
    "\n",
    "Performance of rtree, strtree, and filter with prepped polygon\n",
    "\n",
    "This is the method implemented in flopy at the moment:"
   ]
  },
  {
   "cell_type": "code",
   "execution_count": 1,
   "metadata": {},
   "outputs": [
    {
     "ename": "NameError",
     "evalue": "name 'Polygon' is not defined",
     "output_type": "error",
     "traceback": [
      "\u001b[1;31m---------------------------------------------------------------------------\u001b[0m",
      "\u001b[1;31mNameError\u001b[0m                                 Traceback (most recent call last)",
      "\u001b[1;32m<ipython-input-1-28420cdaeedc>\u001b[0m in \u001b[0;36m<module>\u001b[1;34m\u001b[0m\n\u001b[1;32m----> 1\u001b[1;33m \u001b[0mpoly\u001b[0m \u001b[1;33m=\u001b[0m \u001b[0mPolygon\u001b[0m\u001b[1;33m(\u001b[0m\u001b[0mshell\u001b[0m\u001b[1;33m=\u001b[0m\u001b[1;33m[\u001b[0m\u001b[1;33m(\u001b[0m\u001b[1;36m100\u001b[0m\u001b[1;33m,\u001b[0m \u001b[1;36m105\u001b[0m\u001b[1;33m)\u001b[0m\u001b[1;33m,\u001b[0m \u001b[1;33m(\u001b[0m\u001b[1;36m70\u001b[0m\u001b[1;33m,\u001b[0m \u001b[1;36m105\u001b[0m\u001b[1;33m)\u001b[0m\u001b[1;33m,\u001b[0m \u001b[1;33m(\u001b[0m\u001b[1;36m30\u001b[0m\u001b[1;33m,\u001b[0m \u001b[1;36m50.\u001b[0m\u001b[1;33m)\u001b[0m\u001b[1;33m,\u001b[0m \u001b[1;33m(\u001b[0m\u001b[1;36m60\u001b[0m\u001b[1;33m,\u001b[0m \u001b[1;36m0\u001b[0m\u001b[1;33m)\u001b[0m\u001b[1;33m,\u001b[0m \u001b[1;33m(\u001b[0m\u001b[1;36m90\u001b[0m\u001b[1;33m,\u001b[0m \u001b[1;36m0\u001b[0m\u001b[1;33m)\u001b[0m\u001b[1;33m,\u001b[0m \u001b[1;33m(\u001b[0m\u001b[1;36m60\u001b[0m\u001b[1;33m,\u001b[0m \u001b[1;36m50\u001b[0m\u001b[1;33m)\u001b[0m\u001b[1;33m,\u001b[0m \u001b[1;33m(\u001b[0m\u001b[1;36m80\u001b[0m\u001b[1;33m,\u001b[0m \u001b[1;36m80\u001b[0m\u001b[1;33m)\u001b[0m\u001b[1;33m,\u001b[0m \u001b[1;33m(\u001b[0m\u001b[1;36m100\u001b[0m\u001b[1;33m,\u001b[0m \u001b[1;36m80\u001b[0m\u001b[1;33m)\u001b[0m\u001b[1;33m]\u001b[0m\u001b[1;33m)\u001b[0m\u001b[1;33m\u001b[0m\u001b[1;33m\u001b[0m\u001b[0m\n\u001b[0m",
      "\u001b[1;31mNameError\u001b[0m: name 'Polygon' is not defined"
     ]
    }
   ],
   "source": [
    "poly = Polygon(shell=[(100, 105), (70, 105), (30, 50.), (60, 0), (90, 0), (60, 50), (80, 80), (100, 80)])"
   ]
  },
  {
   "cell_type": "code",
   "execution_count": 34,
   "metadata": {},
   "outputs": [
    {
     "name": "stdout",
     "output_type": "stream",
     "text": [
      "88.8 µs ± 754 ns per loop (mean ± std. dev. of 7 runs, 10000 loops each)\n"
     ]
    }
   ],
   "source": [
    "%timeit ix.strtree.query(poly)"
   ]
  },
  {
   "cell_type": "markdown",
   "metadata": {},
   "source": [
    "I found a reference to Rtree being a lot faster than shapely's STRtree on Stackoverflow: https://gis.stackexchange.com/questions/353619/shapely-with-rtree-versus-strtree"
   ]
  },
  {
   "cell_type": "code",
   "execution_count": 35,
   "metadata": {},
   "outputs": [],
   "source": [
    "import rtree"
   ]
  },
  {
   "cell_type": "code",
   "execution_count": 36,
   "metadata": {},
   "outputs": [],
   "source": [
    "# Create RTree\n",
    "idx = rtree.index.Index()\n",
    "for i, icell in enumerate(ix.gridshapes):\n",
    "    idx.insert(i, icell.bounds, icell)"
   ]
  },
  {
   "cell_type": "code",
   "execution_count": 38,
   "metadata": {},
   "outputs": [
    {
     "name": "stdout",
     "output_type": "stream",
     "text": [
      "64.5 µs ± 513 ns per loop (mean ± std. dev. of 7 runs, 10000 loops each)\n"
     ]
    }
   ],
   "source": [
    "%timeit idx.intersection(poly.bounds, objects=\"raw\")"
   ]
  },
  {
   "cell_type": "markdown",
   "metadata": {},
   "source": [
    "In shapely docs I also found `shapely.prepared.prep` which somehow prepares a shape for batch operations:"
   ]
  },
  {
   "cell_type": "code",
   "execution_count": 41,
   "metadata": {},
   "outputs": [],
   "source": [
    "prep_poly = shapely.prepared.prep(poly)"
   ]
  },
  {
   "cell_type": "code",
   "execution_count": 42,
   "metadata": {},
   "outputs": [
    {
     "name": "stdout",
     "output_type": "stream",
     "text": [
      "184 ns ± 6 ns per loop (mean ± std. dev. of 7 runs, 10000000 loops each)\n"
     ]
    }
   ],
   "source": [
    "%timeit filter(prep_poly.intersects, ix.gridshapes)"
   ]
  },
  {
   "cell_type": "markdown",
   "metadata": {},
   "source": [
    "Rtree is faster than STRtree, but the prepped polygon method is faster by a mile. The speed difference is huge... But maybe this advantage disappears quickly for larger modelgrids? I will test this more later."
   ]
  },
  {
   "cell_type": "code",
   "execution_count": 43,
   "metadata": {},
   "outputs": [
    {
     "data": {
      "text/plain": [
       "489.36170212765956"
      ]
     },
     "execution_count": 43,
     "metadata": {},
     "output_type": "execute_result"
    }
   ],
   "source": [
    "np.timedelta64(92, \"us\") / np.timedelta64(188, \"ns\")"
   ]
  },
  {
   "cell_type": "markdown",
   "metadata": {},
   "source": [
    "## Normalized interpolation distances along linestring"
   ]
  },
  {
   "cell_type": "code",
   "execution_count": 10,
   "metadata": {},
   "outputs": [
    {
     "data": {
      "text/plain": [
       "\u001b[0;31mInit signature:\u001b[0m \u001b[0mLineString\u001b[0m\u001b[0;34m(\u001b[0m\u001b[0mcoordinates\u001b[0m\u001b[0;34m=\u001b[0m\u001b[0;32mNone\u001b[0m\u001b[0;34m)\u001b[0m\u001b[0;34m\u001b[0m\u001b[0;34m\u001b[0m\u001b[0m\n",
       "\u001b[0;31mDocstring:\u001b[0m     \n",
       "A one-dimensional figure comprising one or more line segments\n",
       "\n",
       "A LineString has non-zero length and zero area. It may approximate a curve\n",
       "and need not be straight. Unlike a LinearRing, a LineString is not closed.\n",
       "\u001b[0;31mInit docstring:\u001b[0m\n",
       "Parameters\n",
       "----------\n",
       "coordinates : sequence\n",
       "    A sequence of (x, y [,z]) numeric coordinate pairs or triples or\n",
       "    an object that provides the numpy array interface, including\n",
       "    another instance of LineString.\n",
       "\n",
       "Example\n",
       "-------\n",
       "Create a line with two segments\n",
       "\n",
       "  >>> a = LineString([[0, 0], [1, 0], [1, 1]])\n",
       "  >>> a.length\n",
       "  2.0\n",
       "\u001b[0;31mFile:\u001b[0m           ~/anaconda3/lib/python3.7/site-packages/shapely/geometry/linestring.py\n",
       "\u001b[0;31mType:\u001b[0m           type\n",
       "\u001b[0;31mSubclasses:\u001b[0m     LineStringAdapter, LinearRing\n"
      ]
     },
     "metadata": {},
     "output_type": "display_data"
    }
   ],
   "source": [
    "LineString?"
   ]
  },
  {
   "cell_type": "code",
   "execution_count": 19,
   "metadata": {},
   "outputs": [],
   "source": [
    "rec = ix.intersect_linestring(mls)"
   ]
  },
  {
   "cell_type": "code",
   "execution_count": 23,
   "metadata": {},
   "outputs": [],
   "source": [
    "ixls0 = rec.ixshapes[0]"
   ]
  },
  {
   "cell_type": "code",
   "execution_count": 46,
   "metadata": {},
   "outputs": [
    {
     "data": {
      "text/plain": [
       "(array('d', [80.0, 77.27272727272727]), array('d', [92.3076923076923, 90.0]))"
      ]
     },
     "execution_count": 46,
     "metadata": {},
     "output_type": "execute_result"
    }
   ],
   "source": [
    "ixls0.xy"
   ]
  },
  {
   "cell_type": "code",
   "execution_count": 33,
   "metadata": {},
   "outputs": [],
   "source": [
    "xy = np.array(ixls0.xy)"
   ]
  },
  {
   "cell_type": "code",
   "execution_count": 50,
   "metadata": {},
   "outputs": [
    {
     "data": {
      "text/plain": [
       "0.08052704953137897"
      ]
     },
     "execution_count": 50,
     "metadata": {},
     "output_type": "execute_result"
    }
   ],
   "source": [
    "mls.project(Point(*xy[:, 0]), normalized=True)"
   ]
  },
  {
   "cell_type": "code",
   "execution_count": 18,
   "metadata": {},
   "outputs": [
    {
     "data": {
      "text/plain": [
       "'vertex'"
      ]
     },
     "execution_count": 18,
     "metadata": {},
     "output_type": "execute_result"
    }
   ],
   "source": [
    "ix.method"
   ]
  },
  {
   "cell_type": "code",
   "execution_count": 47,
   "metadata": {},
   "outputs": [
    {
     "data": {
      "text/plain": [
       "(array('d', [95.0, 30.0]), array('d', [105.0, 50.0]))"
      ]
     },
     "execution_count": 47,
     "metadata": {},
     "output_type": "execute_result"
    }
   ],
   "source": [
    "ls1.xy"
   ]
  },
  {
   "cell_type": "code",
   "execution_count": 48,
   "metadata": {},
   "outputs": [
    {
     "data": {
      "text/plain": [
       "array([[ 95.,  30.],\n",
       "       [105.,  50.]])"
      ]
     },
     "execution_count": 48,
     "metadata": {},
     "output_type": "execute_result"
    }
   ],
   "source": [
    "xy1 = np.array(ls1.xy)\n",
    "xy1"
   ]
  },
  {
   "cell_type": "code",
   "execution_count": 49,
   "metadata": {},
   "outputs": [
    {
     "data": {
      "text/plain": [
       "0.0"
      ]
     },
     "execution_count": 49,
     "metadata": {},
     "output_type": "execute_result"
    }
   ],
   "source": [
    "mls.project(Point(*xy1[:, 0]), normalized=True)"
   ]
  },
  {
   "cell_type": "code",
   "execution_count": 45,
   "metadata": {},
   "outputs": [
    {
     "data": {
      "text/plain": [
       "<matplotlib.collections.LineCollection at 0x7f785db955d0>"
      ]
     },
     "execution_count": 45,
     "metadata": {},
     "output_type": "execute_result"
    },
    {
     "data": {
      "image/png": "[encoded data removed]",
      "text/plain": [
       "<Figure size 432x288 with 1 Axes>"
      ]
     },
     "metadata": {
      "needs_background": "light"
     },
     "output_type": "display_data"
    }
   ],
   "source": [
    "fig, ax = plt.subplots(1, 1, figsize=(8, 8))\n",
    "sgr.plot(ax=ax)\n",
    "ax.plot(xy[])"
   ]
  },
  {
   "cell_type": "code",
   "execution_count": 57,
   "metadata": {},
   "outputs": [],
   "source": [
    "tls1 = LineString([(0, 0), (1, 0)])\n",
    "tls2 = LineString([(0, 0), (1, -1)])\n",
    "\n",
    "from shapely.ops import linemerge"
   ]
  },
  {
   "cell_type": "code",
   "execution_count": 58,
   "metadata": {},
   "outputs": [],
   "source": [
    "ls = linemerge([tls1, tls2])"
   ]
  },
  {
   "cell_type": "code",
   "execution_count": 59,
   "metadata": {},
   "outputs": [
    {
     "data": {
      "text/plain": [
       "shapely.geometry.linestring.LineString"
      ]
     },
     "execution_count": 59,
     "metadata": {},
     "output_type": "execute_result"
    }
   ],
   "source": [
    "type(ls)"
   ]
  },
  {
   "cell_type": "code",
   "execution_count": 61,
   "metadata": {},
   "outputs": [
    {
     "data": {
      "text/plain": [
       "(array('d', [1.0, 0.0, 1.0]), array('d', [-1.0, 0.0, 0.0]))"
      ]
     },
     "execution_count": 61,
     "metadata": {},
     "output_type": "execute_result"
    }
   ],
   "source": [
    "ls.xy"
   ]
  },
  {
   "cell_type": "code",
   "execution_count": 55,
   "metadata": {},
   "outputs": [
    {
     "data": {
      "text/plain": [
       "\u001b[0;31mSignature:\u001b[0m \u001b[0mlinemerge\u001b[0m\u001b[0;34m(\u001b[0m\u001b[0mlines\u001b[0m\u001b[0;34m)\u001b[0m\u001b[0;34m\u001b[0m\u001b[0;34m\u001b[0m\u001b[0m\n",
       "\u001b[0;31mDocstring:\u001b[0m\n",
       "Merges all connected lines from a source\n",
       "\n",
       "The source may be a MultiLineString, a sequence of LineString objects,\n",
       "or a sequence of objects than can be adapted to LineStrings.  Returns a\n",
       "LineString or MultiLineString when lines are not contiguous.\n",
       "\u001b[0;31mFile:\u001b[0m      ~/anaconda3/lib/python3.7/site-packages/shapely/ops.py\n",
       "\u001b[0;31mType:\u001b[0m      method\n"
      ]
     },
     "metadata": {},
     "output_type": "display_data"
    }
   ],
   "source": [
    "linemerge?"
   ]
  },
  {
   "cell_type": "code",
   "execution_count": null,
   "metadata": {},
   "outputs": [],
   "source": []
  },
  {
   "cell_type": "code",
   "execution_count": 62,
   "metadata": {},
   "outputs": [],
   "source": [
    "delc = 10*np.ones(1, dtype=np.float)\n",
    "delr = 10*np.ones(1, dtype=np.float)"
   ]
  },
  {
   "cell_type": "code",
   "execution_count": 63,
   "metadata": {},
   "outputs": [],
   "source": [
    "xoff = 0.\n",
    "yoff = 0.\n",
    "angrot = 0.\n",
    "sgr = fgrid.StructuredGrid(delc, delr, top=None, botm=None, xoff=xoff, yoff=yoff, angrot=angrot)"
   ]
  },
  {
   "cell_type": "code",
   "execution_count": 156,
   "metadata": {},
   "outputs": [],
   "source": [
    "ls1 = LineString([(-1, 5), (0, 5)])\n",
    "ls2 = LineString([(-1, 5), (1, 5)])\n",
    "ls3 = LineString([(-1, 10), (10, 5), (-1, 0)])\n",
    "ls4 = LineString([(-1, 10), (11, 5), (-1, 0)])\n",
    "ls5 = MultiLineString([LineString([(-1, 7), (11, 7)]), LineString([(-1, 3), (11, 3)])])\n",
    "ls_list = [ls1, ls2, ls3, ls4, ls5]"
   ]
  },
  {
   "cell_type": "code",
   "execution_count": 124,
   "metadata": {},
   "outputs": [
    {
     "data": {
      "image/png": "[encoded data removed]",
      "text/plain": [
       "<Figure size 1152x288 with 5 Axes>"
      ]
     },
     "metadata": {
      "needs_background": "light"
     },
     "output_type": "display_data"
    }
   ],
   "source": [
    "fig, axes = plt.subplots(1, 5, figsize=(16, 4))\n",
    "\n",
    "for i, iax in enumerate(axes):\n",
    "    sgr.plot(ax=iax)\n",
    "    iax.set_xlim(-1, 11)\n",
    "    iax.set_ylim(-1, 11)\n",
    "    iax.set_aspect(\"equal\", adjustable=\"box\")\n",
    "    \n",
    "    if \"Multi\" in ls_list[i].geom_type:\n",
    "        ls = ls_list[i]\n",
    "    else:\n",
    "        ls = [ls_list[i]]\n",
    "    \n",
    "    for part in ls:\n",
    "        iax.plot(part.xy[0], part.xy[1], ls=\"-\")"
   ]
  },
  {
   "cell_type": "code",
   "execution_count": 160,
   "metadata": {},
   "outputs": [],
   "source": [
    "ix = GridIntersect(sgr, method=\"vertex\")"
   ]
  },
  {
   "cell_type": "code",
   "execution_count": 126,
   "metadata": {},
   "outputs": [
    {
     "data": {
      "text/plain": [
       "rec.array([((0, 0), (((0.0, 7.0), (10.0, 7.0)), ((0.0, 3.0), (10.0, 3.0))), 20., <shapely.geometry.multilinestring.MultiLineString object at 0x7f785d694650>)],\n",
       "          dtype=[('cellids', 'O'), ('vertices', 'O'), ('lengths', '<f8'), ('ixshapes', 'O')])"
      ]
     },
     "execution_count": 126,
     "metadata": {},
     "output_type": "execute_result"
    }
   ],
   "source": [
    "ix.intersect_linestring(ls5)"
   ]
  },
  {
   "cell_type": "code",
   "execution_count": 127,
   "metadata": {},
   "outputs": [],
   "source": [
    "def merge_linestring(lines):\n",
    "    try:\n",
    "        merged = linemerge(ls)\n",
    "    except ValueError:\n",
    "        merged = ls\n",
    "\n",
    "    if \"Multi\" in merged.geom_type:\n",
    "        raise ValueError(\"Non-continuous MultiLineString.\")"
   ]
  },
  {
   "cell_type": "code",
   "execution_count": 199,
   "metadata": {},
   "outputs": [
    {
     "data": {
      "text/plain": [
       "\u001b[0;31mSignature:\u001b[0m\n",
       "\u001b[0mappend_fields\u001b[0m\u001b[0;34m(\u001b[0m\u001b[0;34m\u001b[0m\n",
       "\u001b[0;34m\u001b[0m    \u001b[0mbase\u001b[0m\u001b[0;34m,\u001b[0m\u001b[0;34m\u001b[0m\n",
       "\u001b[0;34m\u001b[0m    \u001b[0mnames\u001b[0m\u001b[0;34m,\u001b[0m\u001b[0;34m\u001b[0m\n",
       "\u001b[0;34m\u001b[0m    \u001b[0mdata\u001b[0m\u001b[0;34m,\u001b[0m\u001b[0;34m\u001b[0m\n",
       "\u001b[0;34m\u001b[0m    \u001b[0mdtypes\u001b[0m\u001b[0;34m=\u001b[0m\u001b[0;32mNone\u001b[0m\u001b[0;34m,\u001b[0m\u001b[0;34m\u001b[0m\n",
       "\u001b[0;34m\u001b[0m    \u001b[0mfill_value\u001b[0m\u001b[0;34m=\u001b[0m\u001b[0;34m-\u001b[0m\u001b[0;36m1\u001b[0m\u001b[0;34m,\u001b[0m\u001b[0;34m\u001b[0m\n",
       "\u001b[0;34m\u001b[0m    \u001b[0musemask\u001b[0m\u001b[0;34m=\u001b[0m\u001b[0;32mTrue\u001b[0m\u001b[0;34m,\u001b[0m\u001b[0;34m\u001b[0m\n",
       "\u001b[0;34m\u001b[0m    \u001b[0masrecarray\u001b[0m\u001b[0;34m=\u001b[0m\u001b[0;32mFalse\u001b[0m\u001b[0;34m,\u001b[0m\u001b[0;34m\u001b[0m\n",
       "\u001b[0;34m\u001b[0m\u001b[0;34m)\u001b[0m\u001b[0;34m\u001b[0m\u001b[0;34m\u001b[0m\u001b[0m\n",
       "\u001b[0;31mDocstring:\u001b[0m\n",
       "Add new fields to an existing array.\n",
       "\n",
       "The names of the fields are given with the `names` arguments,\n",
       "the corresponding values with the `data` arguments.\n",
       "If a single field is appended, `names`, `data` and `dtypes` do not have\n",
       "to be lists but just values.\n",
       "\n",
       "Parameters\n",
       "----------\n",
       "base : array\n",
       "    Input array to extend.\n",
       "names : string, sequence\n",
       "    String or sequence of strings corresponding to the names\n",
       "    of the new fields.\n",
       "data : array or sequence of arrays\n",
       "    Array or sequence of arrays storing the fields to add to the base.\n",
       "dtypes : sequence of datatypes, optional\n",
       "    Datatype or sequence of datatypes.\n",
       "    If None, the datatypes are estimated from the `data`.\n",
       "fill_value : {float}, optional\n",
       "    Filling value used to pad missing data on the shorter arrays.\n",
       "usemask : {False, True}, optional\n",
       "    Whether to return a masked array or not.\n",
       "asrecarray : {False, True}, optional\n",
       "    Whether to return a recarray (MaskedRecords) or not.\n",
       "\u001b[0;31mFile:\u001b[0m      ~/anaconda3/lib/python3.7/site-packages/numpy/lib/recfunctions.py\n",
       "\u001b[0;31mType:\u001b[0m      function\n"
      ]
     },
     "metadata": {},
     "output_type": "display_data"
    }
   ],
   "source": [
    "from numpy.lib.recfunctions import append_fields\n",
    "append_fields?"
   ]
  },
  {
   "cell_type": "code",
   "execution_count": 249,
   "metadata": {},
   "outputs": [],
   "source": [
    "ls = ls2\n",
    "\n",
    "def interpolate_z_linestring(ls, ix, z_start, z_end):\n",
    "    \n",
    "    rec = ix.intersect_linestring(ls)\n",
    "\n",
    "    z_interp = np.full(rec.size, np.nan)\n",
    "\n",
    "    for j, row in enumerate(rec):\n",
    "\n",
    "        intersect = row.ixshapes\n",
    "\n",
    "        if \"Multi\" in intersect.geom_type:    \n",
    "            print(\"Intersect is MultiLineString.\")\n",
    "            # empty array\n",
    "            xy = np.zeros((2*len(row.ixshapes), 2))\n",
    "            # fill with start and end points\n",
    "            for i, part in enumerate(row.ixshapes):\n",
    "                xypart = np.array(part.xy).T[[0, -1], :]\n",
    "                xy[2*i:2*i+2, :] = xypart\n",
    "        else:\n",
    "            # get start and end points\n",
    "            xy = np.array(row.ixshapes.xy).T[[0, -1], :]\n",
    "\n",
    "        # merge input linestring, to get single linestring if possible\n",
    "        try:\n",
    "            merged = linemerge(ls)\n",
    "        except ValueError:\n",
    "            merged = ls\n",
    "\n",
    "    #     if merged is still a multilinestring, it is non-continuous (it has gaps)\n",
    "        if \"Multi\" in merged.geom_type:\n",
    "            raise ValueError(\"Interpolating along non-continuous linestring is not supported.\")\n",
    "\n",
    "        # get start and end points\n",
    "        pts = [Point(p) for p in xy]\n",
    "\n",
    "        # calculate normalized distance along line\n",
    "        dist = np.array([merged.project(pt, normalized=True) for pt in pts]).reshape((len(pts)//2, 2))\n",
    "\n",
    "        if rec.size > 0:\n",
    "            # interpolate values\n",
    "\n",
    "            dz = z_end - z_start\n",
    "\n",
    "            z_interp[j] = np.mean(z_start + np.sign(dz) * (z_end - z_start) * np.mean(np.sign(dz) * dist, axis=1))\n",
    "\n",
    "        else:\n",
    "            print(\"Linestring does not intersect!\")\n",
    "\n",
    "    rec = append_fields(rec, \"z_interp\", z_interp, usemask=False, asrecarray=True)\n",
    "    return rec"
   ]
  },
  {
   "cell_type": "code",
   "execution_count": 250,
   "metadata": {},
   "outputs": [],
   "source": [
    "ix = GridIntersect(sgr, method=\"vertex\")"
   ]
  },
  {
   "cell_type": "code",
   "execution_count": 251,
   "metadata": {},
   "outputs": [
    {
     "name": "stdout",
     "output_type": "stream",
     "text": [
      "Intersect is MultiLineString.\n"
     ]
    },
    {
     "data": {
      "text/plain": [
       "array([0.8784769 , 0.56124913, 1.46412817, 1.1469004 , 2.04977944,\n",
       "       1.73255167, 2.63543071, 2.31820294, 3.22108198, 2.90385421,\n",
       "       3.71563065, 4.16788099, 4.42630976, 4.65243493, 5.07238168,\n",
       "       5.36311404, 5.58923921, 6.17624023, 8.08232704, 7.67961571,\n",
       "       7.25772766, 6.83583961, 6.58654212, 9.78905597, 9.36716792,\n",
       "       8.94527987, 8.52339182, 8.29327106])"
      ]
     },
     "execution_count": 251,
     "metadata": {},
     "output_type": "execute_result"
    }
   ],
   "source": [
    "rec = interpolate_z_linestring(mls, ix, 0, 10)\n",
    "rec[\"z_interp\"]"
   ]
  },
  {
   "cell_type": "code",
   "execution_count": 265,
   "metadata": {},
   "outputs": [],
   "source": [
    "import matplotlib as mpl"
   ]
  },
  {
   "cell_type": "code",
   "execution_count": 291,
   "metadata": {},
   "outputs": [],
   "source": [
    "def plot_linestring(rec, ax=None, **kwargs):\n",
    "    \"\"\"method to plot the linestring intersection results from the\n",
    "    resulting numpy.recarray.\n",
    "\n",
    "    Note: only works when recarray has 'intersects' column!\n",
    "\n",
    "    Parameters\n",
    "    ----------\n",
    "    rec : numpy.recarray\n",
    "        record array containing intersection results\n",
    "        (the resulting shapes)\n",
    "    ax : matplotlib.pyplot.axes, optional\n",
    "        axes to plot onto, if not provided, creates a new figure\n",
    "    **kwargs:\n",
    "        passed to the plot function\n",
    "\n",
    "    Returns\n",
    "    -------\n",
    "    ax: matplotlib.pyplot.axes\n",
    "        returns the axes handle\n",
    "    \"\"\"\n",
    "    if plt is None:\n",
    "        msg = \"matplotlib package needed for plotting polygons\"\n",
    "        raise ImportError(msg)\n",
    "\n",
    "    if ax is None:\n",
    "        _, ax = plt.subplots()\n",
    "\n",
    "    if \"c\" in kwargs:\n",
    "        c = kwargs.pop(\"c\", None)\n",
    "    elif \"color\" in kwargs:\n",
    "        c = kwargs.pop(\"color\", None)\n",
    "        \n",
    "    for i, ishp in enumerate(rec.ixshapes):\n",
    "        if c is None:\n",
    "            ci = \"C{}\".format(i % 10)\n",
    "        elif isinstance(c, np.ndarray) and c.shape[0] == rec.size:\n",
    "            ci = c[i]\n",
    "        else:\n",
    "            ci = c\n",
    "        if ishp.type == \"MultiLineString\":\n",
    "            for part in ishp:\n",
    "                ax.plot(part.xy[0], part.xy[1], ls=\"-\", c=ci, **kwargs)\n",
    "        else:\n",
    "            ax.plot(ishp.xy[0], ishp.xy[1], ls=\"-\", c=ci, **kwargs)\n",
    "\n",
    "    return ax"
   ]
  },
  {
   "cell_type": "code",
   "execution_count": 292,
   "metadata": {},
   "outputs": [
    {
     "data": {
      "image/png": "[encoded data removed]",
      "text/plain": [
       "<Figure size 576x576 with 2 Axes>"
      ]
     },
     "metadata": {
      "needs_background": "light"
     },
     "output_type": "display_data"
    }
   ],
   "source": [
    "fig, ax = plt.subplots(1, 1, figsize=(8, 8))\n",
    "sgr.plot(ax=ax)\n",
    "\n",
    "cmap = plt.get_cmap(\"viridis\")\n",
    "vmin = 0\n",
    "vmax = 10\n",
    "norm = mpl.colors.Normalize(vmin=vmin, vmax=vmax)\n",
    "\n",
    "# start and end pts\n",
    "ax.plot(mls[0].xy[0][0:1], mls[0].xy[1][0:1], \"go\", zorder=5, ms=10)\n",
    "ax.plot(mls[-1].xy[0][-1:], mls[-1].xy[1][-1:], \"rx\", zorder=5, ms=10)\n",
    "\n",
    "c = cmap(norm(rec.z_interp))\n",
    "plot_linestring(rec, ax=ax, c=c)\n",
    "\n",
    "cbar = fig.colorbar(mpl.cm.ScalarMappable(cmap=cmap, norm=norm), shrink=0.75)\n",
    "cbar.set_label(\"z-value\")\n",
    "\n",
    "ax.set_xlim(-10, 110)\n",
    "ax.set_ylim(-10, 110)\n",
    "ax.set_xlabel(\"x\")\n",
    "ax.set_ylabel(\"y\");"
   ]
  },
  {
   "cell_type": "code",
   "execution_count": null,
   "metadata": {},
   "outputs": [],
   "source": []
  }
 ],
 "metadata": {
  "kernelspec": {
   "display_name": "Python 3",
   "language": "python",
   "name": "python3"
  },
  "language_info": {
   "codemirror_mode": {
    "name": "ipython",
    "version": 3
   },
   "file_extension": ".py",
   "mimetype": "text/x-python",
   "name": "python",
   "nbconvert_exporter": "python",
   "pygments_lexer": "ipython3",
   "version": "3.7.6"
  }
 },
 "nbformat": 4,
 "nbformat_minor": 4
}
