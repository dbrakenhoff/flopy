{
 "cells": [
  {
   "cell_type": "markdown",
   "metadata": {},
   "source": [
    "# <a id=\"top\"></a>Performance of intersecting shapes with modelgrids using different spatial queries\n",
    "\n",
    "_Note: This feature requires the shapely and descartes packages (which are not a FloPy dependency) so must be installed by the user._\n",
    "\n",
    "This notebook studies the performance of intersections using different types of spatial queries.\n",
    "\n",
    "### Table of Contents\n",
    "- [Benchmarking](#benchmarking)"
   ]
  },
  {
   "cell_type": "markdown",
   "metadata": {},
   "source": [
    "Import some stuff"
   ]
  },
  {
   "cell_type": "code",
   "execution_count": 1,
   "metadata": {},
   "outputs": [
    {
     "name": "stdout",
     "output_type": "stream",
     "text": [
      "3.9.7 | packaged by conda-forge | (default, Sep 29 2021, 19:20:46) \n",
      "[GCC 9.4.0]\n",
      "numpy version: 1.21.2\n",
      "matplotlib version: 3.5.1\n",
      "flopy version: 3.3.5\n"
     ]
    }
   ],
   "source": [
    "import sys\n",
    "import os\n",
    "import platform\n",
    "import numpy as np\n",
    "import pandas as pd\n",
    "import matplotlib as mpl\n",
    "import matplotlib.pyplot as plt\n",
    "from matplotlib import cm\n",
    "# import pygeos\n",
    "\n",
    "sys.path.insert(1, \"../..\")\n",
    "\n",
    "# run installed version of flopy or add local path\n",
    "try:\n",
    "    1/0\n",
    "#     import flopy\n",
    "#     import flopy.discretization as fgrid\n",
    "#     import flopy.plot as fplot\n",
    "#     from flopy.utils.triangle import Triangle as Triangle\n",
    "#     from flopy.utils.gridintersect import GridIntersect\n",
    "except:\n",
    "    fpth = os.path.abspath(os.path.join('..', '..'))\n",
    "    sys.path.append(fpth)\n",
    "    import flopy\n",
    "    import flopy.discretization as fgrid\n",
    "    import flopy.plot as fplot\n",
    "    from flopy.utils.triangle import Triangle as Triangle\n",
    "    from flopy.utils.gridintersect import GridIntersect\n",
    "\n",
    "import shapely\n",
    "from shapely.geometry import Polygon, Point, LineString, MultiLineString, MultiPoint, MultiPolygon\n",
    "from shapely.strtree import STRtree    \n",
    "\n",
    "print(sys.version)\n",
    "print('numpy version: {}'.format(np.__version__))\n",
    "print('matplotlib version: {}'.format(mpl.__version__))\n",
    "print('flopy version: {}'.format(flopy.__version__))"
   ]
  },
  {
   "cell_type": "markdown",
   "metadata": {},
   "source": [
    "## <a id=\"benchmarking\"></a>[Benchmarking](#top)\n",
    "\n",
    "\n",
    "- List of shapes:\n",
    "  - Points\n",
    "    - 10 points on a quarter of the grid\n",
    "    - 100 points all over the grid\n",
    "  - LineString\n",
    "    - Half-diagonal (diagonal covering one quarter of the grid)\n",
    "    - Straight line (vertical line)\n",
    "  - Polygon\n",
    "    - Quarter grid (rectangle covering one quarter of the grid)\n",
    "    - Long thin rectangle (height grid x width 1 m)\n",
    "- List of grid sizes:\n",
    "  - 10x10\n",
    "  - 50x50\n",
    "  - 100x100\n",
    "  - 500x500\n",
    "  - 1000x1000\n",
    "    \n",
    "- List of methods:\n",
    "  - **STRtree**: Shapely STRtree implementation (this was implemented in the original GridIntersect)\n",
    "  - **Rtree**: From the RTree package, implemented because [this post on GIS StackExchange](https://gis.stackexchange.com/questions/353619/shapely-with-rtree-versus-strtree) suggested it might be faster\n",
    "  - **Filter**: Using `shapely.prepared.prep()` to prepare a polygon for a fast batch operations for intersects\n",
    "  - **Structured**: taking advantage of knowing the grid is structured to accelerate intersections (this was already implemented in the original GridIntersect)"
   ]
  },
  {
   "cell_type": "markdown",
   "metadata": {},
   "source": [
    "Helper function for obtaining a structured grid of 1000x1000 m with `nrnc` rows and columns:"
   ]
  },
  {
   "cell_type": "code",
   "execution_count": 2,
   "metadata": {},
   "outputs": [],
   "source": [
    "def get_structured_grid(nrnc):\n",
    "    delc = 1000/nrnc * np.ones(nrnc, dtype=float)\n",
    "    delr = 1000/nrnc * np.ones(nrnc, dtype=float)\n",
    "    sgr = fgrid.StructuredGrid(delc, delr, top=None, botm=None)\n",
    "    return sgr"
   ]
  },
  {
   "cell_type": "markdown",
   "metadata": {},
   "source": [
    "Define shapes to test intersection performance"
   ]
  },
  {
   "cell_type": "code",
   "execution_count": 3,
   "metadata": {},
   "outputs": [],
   "source": [
    "np.random.seed(10)\n",
    "shapes = [\n",
    "    MultiPoint(np.random.random((10, 2)) * 500), \n",
    "    MultiPoint(np.random.random((100, 2)) * 1000),\n",
    "    LineString([(0, 0), (500, 500)]),\n",
    "    LineString([(751, 0), (751, 1000)]),\n",
    "    Polygon([(0, 0), (0, 500), (500, 500), (500, 0), (0, 0)]),\n",
    "    Polygon([(1, 1), (1, 1000), (2, 1000), (2, 1), (1, 1)])\n",
    "]"
   ]
  },
  {
   "cell_type": "markdown",
   "metadata": {},
   "source": [
    "Set gridsizes to test intersection performance"
   ]
  },
  {
   "cell_type": "code",
   "execution_count": 4,
   "metadata": {},
   "outputs": [],
   "source": [
    "gridsizes = [10, 50, 100, 200, 500]"
   ]
  },
  {
   "cell_type": "markdown",
   "metadata": {},
   "source": [
    "Name each of the cases"
   ]
  },
  {
   "cell_type": "code",
   "execution_count": 5,
   "metadata": {},
   "outputs": [],
   "source": [
    "cases = [\n",
    "    \"Building Tree\", \n",
    "    \"Point:10\", \n",
    "    \"Point:100\", \n",
    "    \"Linestring:Halfdiag\", \n",
    "    \"Linestring:Straight\", \n",
    "    \"Polygon:Quarter\", \n",
    "    \"Polygon:Longthin\"]"
   ]
  },
  {
   "cell_type": "markdown",
   "metadata": {},
   "source": [
    "### STRtree"
   ]
  },
  {
   "cell_type": "code",
   "execution_count": 6,
   "metadata": {},
   "outputs": [
    {
     "name": "stdout",
     "output_type": "stream",
     "text": [
      "----------10x10----------\n",
      "6.08 ms ± 0 ns per loop (mean ± std. dev. of 1 run, 1 loop each)\n",
      "5.51 ms ± 0 ns per loop (mean ± std. dev. of 1 run, 1 loop each)\n",
      "13.4 ms ± 0 ns per loop (mean ± std. dev. of 1 run, 1 loop each)\n",
      "2.8 ms ± 0 ns per loop (mean ± std. dev. of 1 run, 1 loop each)\n",
      "2.02 ms ± 0 ns per loop (mean ± std. dev. of 1 run, 1 loop each)\n",
      "11.4 ms ± 0 ns per loop (mean ± std. dev. of 1 run, 1 loop each)\n",
      "3.5 ms ± 0 ns per loop (mean ± std. dev. of 1 run, 1 loop each)\n",
      "----------50x50----------\n",
      "59.9 ms ± 0 ns per loop (mean ± std. dev. of 1 run, 1 loop each)\n"
     ]
    },
    {
     "name": "stderr",
     "output_type": "stream",
     "text": [
      "/home/david/Github/flopy_db/examples/Notebooks/../../flopy/utils/gridintersect.py:301: ShapelyDeprecationWarning: Setting custom attributes on geometry objects is deprecated, and will raise an AttributeError in Shapely 2.0\n",
      "  p.name = (i, j)\n",
      "/home/david/Github/flopy_db/examples/Notebooks/../../flopy/utils/gridintersect.py:301: ShapelyDeprecationWarning: Setting custom attributes on geometry objects is deprecated, and will raise an AttributeError in Shapely 2.0\n",
      "  p.name = (i, j)\n"
     ]
    },
    {
     "name": "stdout",
     "output_type": "stream",
     "text": [
      "5.43 ms ± 0 ns per loop (mean ± std. dev. of 1 run, 1 loop each)\n",
      "45.6 ms ± 0 ns per loop (mean ± std. dev. of 1 run, 1 loop each)\n",
      "10.5 ms ± 0 ns per loop (mean ± std. dev. of 1 run, 1 loop each)\n",
      "6.92 ms ± 0 ns per loop (mean ± std. dev. of 1 run, 1 loop each)\n",
      "112 ms ± 0 ns per loop (mean ± std. dev. of 1 run, 1 loop each)\n",
      "14.8 ms ± 0 ns per loop (mean ± std. dev. of 1 run, 1 loop each)\n",
      "----------100x100----------\n"
     ]
    },
    {
     "name": "stderr",
     "output_type": "stream",
     "text": [
      "/home/david/Github/flopy_db/examples/Notebooks/../../flopy/utils/gridintersect.py:301: ShapelyDeprecationWarning: Setting custom attributes on geometry objects is deprecated, and will raise an AttributeError in Shapely 2.0\n",
      "  p.name = (i, j)\n"
     ]
    },
    {
     "name": "stdout",
     "output_type": "stream",
     "text": [
      "263 ms ± 0 ns per loop (mean ± std. dev. of 1 run, 1 loop each)\n",
      "27.3 ms ± 0 ns per loop (mean ± std. dev. of 1 run, 1 loop each)\n",
      "123 ms ± 0 ns per loop (mean ± std. dev. of 1 run, 1 loop each)\n",
      "22.7 ms ± 0 ns per loop (mean ± std. dev. of 1 run, 1 loop each)\n",
      "11.3 ms ± 0 ns per loop (mean ± std. dev. of 1 run, 1 loop each)\n",
      "351 ms ± 0 ns per loop (mean ± std. dev. of 1 run, 1 loop each)\n",
      "19.2 ms ± 0 ns per loop (mean ± std. dev. of 1 run, 1 loop each)\n",
      "----------200x200----------\n"
     ]
    },
    {
     "name": "stderr",
     "output_type": "stream",
     "text": [
      "/home/david/Github/flopy_db/examples/Notebooks/../../flopy/utils/gridintersect.py:301: ShapelyDeprecationWarning: Setting custom attributes on geometry objects is deprecated, and will raise an AttributeError in Shapely 2.0\n",
      "  p.name = (i, j)\n"
     ]
    },
    {
     "name": "stdout",
     "output_type": "stream",
     "text": [
      "859 ms ± 0 ns per loop (mean ± std. dev. of 1 run, 1 loop each)\n",
      "49.1 ms ± 0 ns per loop (mean ± std. dev. of 1 run, 1 loop each)\n",
      "408 ms ± 0 ns per loop (mean ± std. dev. of 1 run, 1 loop each)\n",
      "73.9 ms ± 0 ns per loop (mean ± std. dev. of 1 run, 1 loop each)\n",
      "21.5 ms ± 0 ns per loop (mean ± std. dev. of 1 run, 1 loop each)\n",
      "1.47 s ± 0 ns per loop (mean ± std. dev. of 1 run, 1 loop each)\n",
      "33.4 ms ± 0 ns per loop (mean ± std. dev. of 1 run, 1 loop each)\n",
      "----------500x500----------\n"
     ]
    },
    {
     "name": "stderr",
     "output_type": "stream",
     "text": [
      "/home/david/Github/flopy_db/examples/Notebooks/../../flopy/utils/gridintersect.py:301: ShapelyDeprecationWarning: Setting custom attributes on geometry objects is deprecated, and will raise an AttributeError in Shapely 2.0\n",
      "  p.name = (i, j)\n"
     ]
    },
    {
     "name": "stdout",
     "output_type": "stream",
     "text": [
      "5.34 s ± 0 ns per loop (mean ± std. dev. of 1 run, 1 loop each)\n",
      "311 ms ± 0 ns per loop (mean ± std. dev. of 1 run, 1 loop each)\n",
      "2.52 s ± 0 ns per loop (mean ± std. dev. of 1 run, 1 loop each)\n",
      "467 ms ± 0 ns per loop (mean ± std. dev. of 1 run, 1 loop each)\n",
      "55.1 ms ± 0 ns per loop (mean ± std. dev. of 1 run, 1 loop each)\n",
      "7.96 s ± 0 ns per loop (mean ± std. dev. of 1 run, 1 loop each)\n",
      "92.7 ms ± 0 ns per loop (mean ± std. dev. of 1 run, 1 loop each)\n"
     ]
    }
   ],
   "source": [
    "method = \"vertex\"\n",
    "rtree = True\n",
    "\n",
    "strtree_df = pd.DataFrame(index=cases, columns=[\"{0}x{0}\".format(s) for s in gridsizes])\n",
    "\n",
    "for nrnc in gridsizes:\n",
    "    print(\"-\"*10 + \"{0}x{0}\".format(nrnc) + \"-\"*10)\n",
    "    sgr = get_structured_grid(nrnc)\n",
    "    t = %timeit -o -r 1 -n 1 GridIntersect(sgr, method=\"vertex\", rtree=rtree)\n",
    "    strtree_df.loc[\"Building Tree\", \"{0}x{0}\".format(nrnc)] = t.average\n",
    "    \n",
    "    ix = GridIntersect(sgr, method=method, rtree=rtree)\n",
    "    for c, shp in zip(cases[1:], shapes):\n",
    "        if c.startswith(\"Point\"):\n",
    "            t = %timeit -o -r 1 -n 1 ix.intersect(shp, sort_by_cellid=False)\n",
    "        elif c.startswith(\"Linestring\"):\n",
    "            t = %timeit -o -r 1 -n 1 ix.intersect(shp, sort_by_cellid=False)\n",
    "        elif c.startswith(\"Polygon\"):\n",
    "            t = %timeit -o -r 1 -n 1 ix.intersect(shp, sort_by_cellid=False)\n",
    "        \n",
    "        strtree_df.loc[c, \"{0}x{0}\".format(nrnc)] = t.average"
   ]
  },
  {
   "cell_type": "markdown",
   "metadata": {},
   "source": [
    "### Filter"
   ]
  },
  {
   "cell_type": "code",
   "execution_count": 7,
   "metadata": {},
   "outputs": [
    {
     "name": "stdout",
     "output_type": "stream",
     "text": [
      "----------10x10----------\n",
      "22.4 µs ± 0 ns per loop (mean ± std. dev. of 1 run, 1 loop each)\n",
      "10.4 ms ± 0 ns per loop (mean ± std. dev. of 1 run, 1 loop each)\n",
      "26 ms ± 0 ns per loop (mean ± std. dev. of 1 run, 1 loop each)\n",
      "5.78 ms ± 0 ns per loop (mean ± std. dev. of 1 run, 1 loop each)\n",
      "5.52 ms ± 0 ns per loop (mean ± std. dev. of 1 run, 1 loop each)\n",
      "8.57 ms ± 0 ns per loop (mean ± std. dev. of 1 run, 1 loop each)\n",
      "11.8 ms ± 0 ns per loop (mean ± std. dev. of 1 run, 1 loop each)\n",
      "----------50x50----------\n",
      "6.85 µs ± 0 ns per loop (mean ± std. dev. of 1 run, 1 loop each)\n",
      "68.1 ms ± 0 ns per loop (mean ± std. dev. of 1 run, 1 loop each)\n"
     ]
    },
    {
     "name": "stderr",
     "output_type": "stream",
     "text": [
      "/home/david/Github/flopy_db/examples/Notebooks/../../flopy/utils/gridintersect.py:301: ShapelyDeprecationWarning: Setting custom attributes on geometry objects is deprecated, and will raise an AttributeError in Shapely 2.0\n",
      "  p.name = (i, j)\n",
      "/home/david/Github/flopy_db/examples/Notebooks/../../flopy/utils/gridintersect.py:301: ShapelyDeprecationWarning: Setting custom attributes on geometry objects is deprecated, and will raise an AttributeError in Shapely 2.0\n",
      "  p.name = (i, j)\n",
      "/home/david/Github/flopy_db/examples/Notebooks/../../flopy/utils/gridintersect.py:301: ShapelyDeprecationWarning: Setting custom attributes on geometry objects is deprecated, and will raise an AttributeError in Shapely 2.0\n",
      "  p.name = (i, j)\n",
      "/home/david/Github/flopy_db/examples/Notebooks/../../flopy/utils/gridintersect.py:301: ShapelyDeprecationWarning: Setting custom attributes on geometry objects is deprecated, and will raise an AttributeError in Shapely 2.0\n",
      "  p.name = (i, j)\n",
      "/home/david/Github/flopy_db/examples/Notebooks/../../flopy/utils/gridintersect.py:301: ShapelyDeprecationWarning: Setting custom attributes on geometry objects is deprecated, and will raise an AttributeError in Shapely 2.0\n",
      "  p.name = (i, j)\n",
      "/home/david/Github/flopy_db/examples/Notebooks/../../flopy/utils/gridintersect.py:301: ShapelyDeprecationWarning: Setting custom attributes on geometry objects is deprecated, and will raise an AttributeError in Shapely 2.0\n",
      "  p.name = (i, j)\n",
      "/home/david/Github/flopy_db/examples/Notebooks/../../flopy/utils/gridintersect.py:301: ShapelyDeprecationWarning: Setting custom attributes on geometry objects is deprecated, and will raise an AttributeError in Shapely 2.0\n",
      "  p.name = (i, j)\n",
      "/home/david/Github/flopy_db/examples/Notebooks/../../flopy/utils/gridintersect.py:301: ShapelyDeprecationWarning: Setting custom attributes on geometry objects is deprecated, and will raise an AttributeError in Shapely 2.0\n",
      "  p.name = (i, j)\n"
     ]
    },
    {
     "name": "stdout",
     "output_type": "stream",
     "text": [
      "122 ms ± 0 ns per loop (mean ± std. dev. of 1 run, 1 loop each)\n",
      "91.3 ms ± 0 ns per loop (mean ± std. dev. of 1 run, 1 loop each)\n",
      "79.3 ms ± 0 ns per loop (mean ± std. dev. of 1 run, 1 loop each)\n"
     ]
    },
    {
     "name": "stderr",
     "output_type": "stream",
     "text": [
      "/home/david/Github/flopy_db/examples/Notebooks/../../flopy/utils/gridintersect.py:301: ShapelyDeprecationWarning: Setting custom attributes on geometry objects is deprecated, and will raise an AttributeError in Shapely 2.0\n",
      "  p.name = (i, j)\n",
      "/home/david/Github/flopy_db/examples/Notebooks/../../flopy/utils/gridintersect.py:301: ShapelyDeprecationWarning: Setting custom attributes on geometry objects is deprecated, and will raise an AttributeError in Shapely 2.0\n",
      "  p.name = (i, j)\n",
      "/home/david/Github/flopy_db/examples/Notebooks/../../flopy/utils/gridintersect.py:301: ShapelyDeprecationWarning: Setting custom attributes on geometry objects is deprecated, and will raise an AttributeError in Shapely 2.0\n",
      "  p.name = (i, j)\n"
     ]
    },
    {
     "name": "stdout",
     "output_type": "stream",
     "text": [
      "211 ms ± 0 ns per loop (mean ± std. dev. of 1 run, 1 loop each)\n",
      "71.3 ms ± 0 ns per loop (mean ± std. dev. of 1 run, 1 loop each)\n",
      "----------100x100----------\n",
      "5.07 µs ± 0 ns per loop (mean ± std. dev. of 1 run, 1 loop each)\n"
     ]
    },
    {
     "name": "stderr",
     "output_type": "stream",
     "text": [
      "/home/david/Github/flopy_db/examples/Notebooks/../../flopy/utils/gridintersect.py:301: ShapelyDeprecationWarning: Setting custom attributes on geometry objects is deprecated, and will raise an AttributeError in Shapely 2.0\n",
      "  p.name = (i, j)\n",
      "/home/david/Github/flopy_db/examples/Notebooks/../../flopy/utils/gridintersect.py:301: ShapelyDeprecationWarning: Setting custom attributes on geometry objects is deprecated, and will raise an AttributeError in Shapely 2.0\n",
      "  p.name = (i, j)\n"
     ]
    },
    {
     "name": "stdout",
     "output_type": "stream",
     "text": [
      "245 ms ± 0 ns per loop (mean ± std. dev. of 1 run, 1 loop each)\n"
     ]
    },
    {
     "name": "stderr",
     "output_type": "stream",
     "text": [
      "/home/david/Github/flopy_db/examples/Notebooks/../../flopy/utils/gridintersect.py:301: ShapelyDeprecationWarning: Setting custom attributes on geometry objects is deprecated, and will raise an AttributeError in Shapely 2.0\n",
      "  p.name = (i, j)\n"
     ]
    },
    {
     "name": "stdout",
     "output_type": "stream",
     "text": [
      "350 ms ± 0 ns per loop (mean ± std. dev. of 1 run, 1 loop each)\n"
     ]
    },
    {
     "name": "stderr",
     "output_type": "stream",
     "text": [
      "/home/david/Github/flopy_db/examples/Notebooks/../../flopy/utils/gridintersect.py:301: ShapelyDeprecationWarning: Setting custom attributes on geometry objects is deprecated, and will raise an AttributeError in Shapely 2.0\n",
      "  p.name = (i, j)\n"
     ]
    },
    {
     "name": "stdout",
     "output_type": "stream",
     "text": [
      "323 ms ± 0 ns per loop (mean ± std. dev. of 1 run, 1 loop each)\n"
     ]
    },
    {
     "name": "stderr",
     "output_type": "stream",
     "text": [
      "/home/david/Github/flopy_db/examples/Notebooks/../../flopy/utils/gridintersect.py:301: ShapelyDeprecationWarning: Setting custom attributes on geometry objects is deprecated, and will raise an AttributeError in Shapely 2.0\n",
      "  p.name = (i, j)\n"
     ]
    },
    {
     "name": "stdout",
     "output_type": "stream",
     "text": [
      "293 ms ± 0 ns per loop (mean ± std. dev. of 1 run, 1 loop each)\n"
     ]
    },
    {
     "name": "stderr",
     "output_type": "stream",
     "text": [
      "/home/david/Github/flopy_db/examples/Notebooks/../../flopy/utils/gridintersect.py:301: ShapelyDeprecationWarning: Setting custom attributes on geometry objects is deprecated, and will raise an AttributeError in Shapely 2.0\n",
      "  p.name = (i, j)\n"
     ]
    },
    {
     "name": "stdout",
     "output_type": "stream",
     "text": [
      "774 ms ± 0 ns per loop (mean ± std. dev. of 1 run, 1 loop each)\n"
     ]
    },
    {
     "name": "stderr",
     "output_type": "stream",
     "text": [
      "/home/david/Github/flopy_db/examples/Notebooks/../../flopy/utils/gridintersect.py:301: ShapelyDeprecationWarning: Setting custom attributes on geometry objects is deprecated, and will raise an AttributeError in Shapely 2.0\n",
      "  p.name = (i, j)\n"
     ]
    },
    {
     "name": "stdout",
     "output_type": "stream",
     "text": [
      "318 ms ± 0 ns per loop (mean ± std. dev. of 1 run, 1 loop each)\n",
      "----------200x200----------\n",
      "11.3 µs ± 0 ns per loop (mean ± std. dev. of 1 run, 1 loop each)\n"
     ]
    },
    {
     "name": "stderr",
     "output_type": "stream",
     "text": [
      "/home/david/Github/flopy_db/examples/Notebooks/../../flopy/utils/gridintersect.py:301: ShapelyDeprecationWarning: Setting custom attributes on geometry objects is deprecated, and will raise an AttributeError in Shapely 2.0\n",
      "  p.name = (i, j)\n"
     ]
    },
    {
     "name": "stdout",
     "output_type": "stream",
     "text": [
      "1.09 s ± 0 ns per loop (mean ± std. dev. of 1 run, 1 loop each)\n"
     ]
    },
    {
     "name": "stderr",
     "output_type": "stream",
     "text": [
      "/home/david/Github/flopy_db/examples/Notebooks/../../flopy/utils/gridintersect.py:301: ShapelyDeprecationWarning: Setting custom attributes on geometry objects is deprecated, and will raise an AttributeError in Shapely 2.0\n",
      "  p.name = (i, j)\n"
     ]
    },
    {
     "name": "stdout",
     "output_type": "stream",
     "text": [
      "1.29 s ± 0 ns per loop (mean ± std. dev. of 1 run, 1 loop each)\n"
     ]
    },
    {
     "name": "stderr",
     "output_type": "stream",
     "text": [
      "/home/david/Github/flopy_db/examples/Notebooks/../../flopy/utils/gridintersect.py:301: ShapelyDeprecationWarning: Setting custom attributes on geometry objects is deprecated, and will raise an AttributeError in Shapely 2.0\n",
      "  p.name = (i, j)\n"
     ]
    },
    {
     "name": "stdout",
     "output_type": "stream",
     "text": [
      "1.19 s ± 0 ns per loop (mean ± std. dev. of 1 run, 1 loop each)\n"
     ]
    },
    {
     "name": "stderr",
     "output_type": "stream",
     "text": [
      "/home/david/Github/flopy_db/examples/Notebooks/../../flopy/utils/gridintersect.py:301: ShapelyDeprecationWarning: Setting custom attributes on geometry objects is deprecated, and will raise an AttributeError in Shapely 2.0\n",
      "  p.name = (i, j)\n"
     ]
    },
    {
     "name": "stdout",
     "output_type": "stream",
     "text": [
      "1.05 s ± 0 ns per loop (mean ± std. dev. of 1 run, 1 loop each)\n"
     ]
    },
    {
     "name": "stderr",
     "output_type": "stream",
     "text": [
      "/home/david/Github/flopy_db/examples/Notebooks/../../flopy/utils/gridintersect.py:301: ShapelyDeprecationWarning: Setting custom attributes on geometry objects is deprecated, and will raise an AttributeError in Shapely 2.0\n",
      "  p.name = (i, j)\n"
     ]
    },
    {
     "name": "stdout",
     "output_type": "stream",
     "text": [
      "2.43 s ± 0 ns per loop (mean ± std. dev. of 1 run, 1 loop each)\n"
     ]
    },
    {
     "name": "stderr",
     "output_type": "stream",
     "text": [
      "/home/david/Github/flopy_db/examples/Notebooks/../../flopy/utils/gridintersect.py:301: ShapelyDeprecationWarning: Setting custom attributes on geometry objects is deprecated, and will raise an AttributeError in Shapely 2.0\n",
      "  p.name = (i, j)\n"
     ]
    },
    {
     "name": "stdout",
     "output_type": "stream",
     "text": [
      "1.11 s ± 0 ns per loop (mean ± std. dev. of 1 run, 1 loop each)\n",
      "----------500x500----------\n",
      "5.18 µs ± 0 ns per loop (mean ± std. dev. of 1 run, 1 loop each)\n"
     ]
    },
    {
     "name": "stderr",
     "output_type": "stream",
     "text": [
      "/home/david/Github/flopy_db/examples/Notebooks/../../flopy/utils/gridintersect.py:301: ShapelyDeprecationWarning: Setting custom attributes on geometry objects is deprecated, and will raise an AttributeError in Shapely 2.0\n",
      "  p.name = (i, j)\n"
     ]
    },
    {
     "name": "stdout",
     "output_type": "stream",
     "text": [
      "6 s ± 0 ns per loop (mean ± std. dev. of 1 run, 1 loop each)\n"
     ]
    },
    {
     "name": "stderr",
     "output_type": "stream",
     "text": [
      "/home/david/Github/flopy_db/examples/Notebooks/../../flopy/utils/gridintersect.py:301: ShapelyDeprecationWarning: Setting custom attributes on geometry objects is deprecated, and will raise an AttributeError in Shapely 2.0\n",
      "  p.name = (i, j)\n"
     ]
    },
    {
     "name": "stdout",
     "output_type": "stream",
     "text": [
      "7.3 s ± 0 ns per loop (mean ± std. dev. of 1 run, 1 loop each)\n"
     ]
    },
    {
     "name": "stderr",
     "output_type": "stream",
     "text": [
      "/home/david/Github/flopy_db/examples/Notebooks/../../flopy/utils/gridintersect.py:301: ShapelyDeprecationWarning: Setting custom attributes on geometry objects is deprecated, and will raise an AttributeError in Shapely 2.0\n",
      "  p.name = (i, j)\n"
     ]
    },
    {
     "name": "stdout",
     "output_type": "stream",
     "text": [
      "6.35 s ± 0 ns per loop (mean ± std. dev. of 1 run, 1 loop each)\n"
     ]
    },
    {
     "name": "stderr",
     "output_type": "stream",
     "text": [
      "/home/david/Github/flopy_db/examples/Notebooks/../../flopy/utils/gridintersect.py:301: ShapelyDeprecationWarning: Setting custom attributes on geometry objects is deprecated, and will raise an AttributeError in Shapely 2.0\n",
      "  p.name = (i, j)\n"
     ]
    },
    {
     "name": "stdout",
     "output_type": "stream",
     "text": [
      "6.25 s ± 0 ns per loop (mean ± std. dev. of 1 run, 1 loop each)\n"
     ]
    },
    {
     "name": "stderr",
     "output_type": "stream",
     "text": [
      "/home/david/Github/flopy_db/examples/Notebooks/../../flopy/utils/gridintersect.py:301: ShapelyDeprecationWarning: Setting custom attributes on geometry objects is deprecated, and will raise an AttributeError in Shapely 2.0\n",
      "  p.name = (i, j)\n"
     ]
    },
    {
     "name": "stdout",
     "output_type": "stream",
     "text": [
      "14.8 s ± 0 ns per loop (mean ± std. dev. of 1 run, 1 loop each)\n"
     ]
    },
    {
     "name": "stderr",
     "output_type": "stream",
     "text": [
      "/home/david/Github/flopy_db/examples/Notebooks/../../flopy/utils/gridintersect.py:301: ShapelyDeprecationWarning: Setting custom attributes on geometry objects is deprecated, and will raise an AttributeError in Shapely 2.0\n",
      "  p.name = (i, j)\n"
     ]
    },
    {
     "name": "stdout",
     "output_type": "stream",
     "text": [
      "6.09 s ± 0 ns per loop (mean ± std. dev. of 1 run, 1 loop each)\n"
     ]
    }
   ],
   "source": [
    "method = \"vertex\"\n",
    "rtree = False\n",
    "\n",
    "filter_df = pd.DataFrame(index=cases, columns=[\"{0}x{0}\".format(s) for s in gridsizes])\n",
    "\n",
    "for nrnc in gridsizes:\n",
    "    print(\"-\"*10 + \"{0}x{0}\".format(nrnc) + \"-\"*10)\n",
    "    sgr = get_structured_grid(nrnc)\n",
    "    t = %timeit -o -r 1 -n 1 GridIntersect(sgr, method=method, rtree=rtree)\n",
    "    filter_df.loc[\"Building Tree\", \"{0}x{0}\".format(nrnc)] = t.average\n",
    "    \n",
    "    ix = GridIntersect(sgr, method=\"vertex\", rtree=rtree)\n",
    "    for c, shp in zip(cases[1:], shapes):\n",
    "        if c.startswith(\"Point\"):\n",
    "            t = %timeit -o -r 1 -n 1 ix.intersect(shp, sort_by_cellid=False)\n",
    "        elif c.startswith(\"Linestring\"):\n",
    "            t = %timeit -o -r 1 -n 1 ix.intersect(shp, sort_by_cellid=False)\n",
    "        elif c.startswith(\"Polygon\"):\n",
    "            t = %timeit -o -r 1 -n 1 ix.intersect(shp, sort_by_cellid=False)\n",
    "        \n",
    "        filter_df.loc[c, \"{0}x{0}\".format(nrnc)] = t.average"
   ]
  },
  {
   "cell_type": "markdown",
   "metadata": {},
   "source": [
    "### Structured"
   ]
  },
  {
   "cell_type": "code",
   "execution_count": 8,
   "metadata": {},
   "outputs": [
    {
     "name": "stdout",
     "output_type": "stream",
     "text": [
      "----------10x10----------\n",
      "4.44 µs ± 0 ns per loop (mean ± std. dev. of 1 run, 1 loop each)\n",
      "4.37 ms ± 0 ns per loop (mean ± std. dev. of 1 run, 1 loop each)\n",
      "7.12 ms ± 0 ns per loop (mean ± std. dev. of 1 run, 1 loop each)\n",
      "5.98 ms ± 0 ns per loop (mean ± std. dev. of 1 run, 1 loop each)\n",
      "8.22 ms ± 0 ns per loop (mean ± std. dev. of 1 run, 1 loop each)\n",
      "4.61 ms ± 0 ns per loop (mean ± std. dev. of 1 run, 1 loop each)\n",
      "----------50x50----------\n",
      "3.9 µs ± 0 ns per loop (mean ± std. dev. of 1 run, 1 loop each)\n",
      "2.66 ms ± 0 ns per loop (mean ± std. dev. of 1 run, 1 loop each)\n",
      "11.4 ms ± 0 ns per loop (mean ± std. dev. of 1 run, 1 loop each)\n",
      "23 ms ± 0 ns per loop (mean ± std. dev. of 1 run, 1 loop each)\n",
      "15.6 ms ± 0 ns per loop (mean ± std. dev. of 1 run, 1 loop each)\n"
     ]
    },
    {
     "name": "stderr",
     "output_type": "stream",
     "text": [
      "/home/david/anaconda3/envs/artesia/lib/python3.9/site-packages/shapely/geometry/multipoint.py:191: ShapelyDeprecationWarning: __len__ for multi-part geometries is deprecated and will be removed in Shapely 2.0. Check the length of the `geoms` property instead to get the  number of parts of a multi-part geometry.\n",
      "  n = len(ob[0])\n",
      "/home/david/anaconda3/envs/artesia/lib/python3.9/site-packages/shapely/geometry/point.py:257: ShapelyDeprecationWarning: __getitem__ for multi-part geometries is deprecated and will be removed in Shapely 2.0. Use the `geoms` property to access the constituent parts of a multi-part geometry.\n",
      "  if isinstance(ob[0], tuple):\n",
      "/home/david/anaconda3/envs/artesia/lib/python3.9/site-packages/shapely/geometry/point.py:261: ShapelyDeprecationWarning: __len__ for multi-part geometries is deprecated and will be removed in Shapely 2.0. Check the length of the `geoms` property instead to get the  number of parts of a multi-part geometry.\n",
      "  n = len(coords)\n",
      "/home/david/anaconda3/envs/artesia/lib/python3.9/site-packages/shapely/geometry/point.py:262: ShapelyDeprecationWarning: __getitem__ for multi-part geometries is deprecated and will be removed in Shapely 2.0. Use the `geoms` property to access the constituent parts of a multi-part geometry.\n",
      "  dx = c_double(coords[0])\n"
     ]
    },
    {
     "name": "stdout",
     "output_type": "stream",
     "text": [
      "174 ms ± 0 ns per loop (mean ± std. dev. of 1 run, 1 loop each)\n",
      "109 ms ± 0 ns per loop (mean ± std. dev. of 1 run, 1 loop each)\n",
      "----------100x100----------\n",
      "17.9 µs ± 0 ns per loop (mean ± std. dev. of 1 run, 1 loop each)\n",
      "2.93 ms ± 0 ns per loop (mean ± std. dev. of 1 run, 1 loop each)\n",
      "17.2 ms ± 0 ns per loop (mean ± std. dev. of 1 run, 1 loop each)\n",
      "45.9 ms ± 0 ns per loop (mean ± std. dev. of 1 run, 1 loop each)\n",
      "51 ms ± 0 ns per loop (mean ± std. dev. of 1 run, 1 loop each)\n",
      "688 ms ± 0 ns per loop (mean ± std. dev. of 1 run, 1 loop each)\n",
      "284 ms ± 0 ns per loop (mean ± std. dev. of 1 run, 1 loop each)\n",
      "----------200x200----------\n",
      "3.57 µs ± 0 ns per loop (mean ± std. dev. of 1 run, 1 loop each)\n",
      "4.34 ms ± 0 ns per loop (mean ± std. dev. of 1 run, 1 loop each)\n",
      "21.2 ms ± 0 ns per loop (mean ± std. dev. of 1 run, 1 loop each)\n",
      "72 ms ± 0 ns per loop (mean ± std. dev. of 1 run, 1 loop each)\n",
      "51.5 ms ± 0 ns per loop (mean ± std. dev. of 1 run, 1 loop each)\n",
      "2.31 s ± 0 ns per loop (mean ± std. dev. of 1 run, 1 loop each)\n",
      "1.07 s ± 0 ns per loop (mean ± std. dev. of 1 run, 1 loop each)\n",
      "----------500x500----------\n",
      "4.71 µs ± 0 ns per loop (mean ± std. dev. of 1 run, 1 loop each)\n",
      "5.79 ms ± 0 ns per loop (mean ± std. dev. of 1 run, 1 loop each)\n",
      "36.4 ms ± 0 ns per loop (mean ± std. dev. of 1 run, 1 loop each)\n",
      "229 ms ± 0 ns per loop (mean ± std. dev. of 1 run, 1 loop each)\n",
      "159 ms ± 0 ns per loop (mean ± std. dev. of 1 run, 1 loop each)\n",
      "15.1 s ± 0 ns per loop (mean ± std. dev. of 1 run, 1 loop each)\n",
      "5.82 s ± 0 ns per loop (mean ± std. dev. of 1 run, 1 loop each)\n"
     ]
    }
   ],
   "source": [
    "method = \"structured\"\n",
    "\n",
    "struct_df = pd.DataFrame(index=cases, columns=[\"{0}x{0}\".format(s) for s in gridsizes])\n",
    "\n",
    "for nrnc in gridsizes:\n",
    "    print(\"-\"*10 + \"{0}x{0}\".format(nrnc) + \"-\"*10)\n",
    "    sgr = get_structured_grid(nrnc)\n",
    "    t = %timeit -o -r 1 -n 1 GridIntersect(sgr, method=method)\n",
    "    struct_df.loc[\"Building Tree\", \"{0}x{0}\".format(nrnc)] = t.average\n",
    "    \n",
    "    ix = GridIntersect(sgr, method=method)\n",
    "    for c, shp in zip(cases[1:], shapes):\n",
    "        if c.startswith(\"Point\"):\n",
    "            try:\n",
    "                t = %timeit -o -r 1 -n 1 ix.intersect(shp)\n",
    "            except:\n",
    "                continue\n",
    "        elif c.startswith(\"Linestring\"):\n",
    "            t = %timeit -o -r 1 -n 1 ix.intersect(shp)\n",
    "        elif c.startswith(\"Polygon\"):\n",
    "            t = %timeit -o -r 1 -n 1 ix.intersect(shp)\n",
    "        \n",
    "        struct_df.loc[c, \"{0}x{0}\".format(nrnc)] = t.average"
   ]
  },
  {
   "cell_type": "markdown",
   "metadata": {},
   "source": [
    "## PyGeos"
   ]
  },
  {
   "cell_type": "code",
   "execution_count": 9,
   "metadata": {},
   "outputs": [],
   "source": [
    "import pygeos"
   ]
  },
  {
   "cell_type": "code",
   "execution_count": 10,
   "metadata": {},
   "outputs": [],
   "source": [
    "class GridIntersect_pygeos:\n",
    "    def __init__(self, mfgrid):\n",
    "        self.mfgrid = mfgrid\n",
    "        self._build_strtree()\n",
    "    \n",
    "    def _rect_grid_to_shapes_list(self):\n",
    "        \"\"\"internal method, generator yielding shapely polygons for structured\n",
    "        grid cells.\n",
    "\n",
    "        Returns\n",
    "        -------\n",
    "        generator :\n",
    "            generator of shapely Polygons\n",
    "        \"\"\"\n",
    "        nodelist = []\n",
    "        shps = []\n",
    "        for i in range(self.mfgrid.nrow):\n",
    "            for j in range(self.mfgrid.ncol):\n",
    "                xy = self.mfgrid.get_cell_vertices(i, j)\n",
    "                shps.append(xy)\n",
    "                nodelist.append((i, j))\n",
    "        return shps, nodelist\n",
    "    \n",
    "    def _build_strtree(self):\n",
    "        gridshps, nodelist = self._rect_grid_to_shapes_list()\n",
    "        self.rtree = pygeos.STRtree(pygeos.creation.polygons(gridshps))\n",
    "        self.nodelist = np.array(nodelist)\n",
    "        \n",
    "    def intersect(self, shp):\n",
    "        q = self.rtree.query(shp, predicate=\"intersects\")\n",
    "        ixresult = pygeos.intersection(self.rtree.geometries[q], shp)\n",
    "        shptype = pygeos.GeometryType(pygeos.get_type_id(shp)).name\n",
    "        names = [\"cellids\", \"ixshapes\"]\n",
    "        formats = [\"O\", \"O\"]\n",
    "        \n",
    "        if shptype.endswith(\"LINESTRING\"):\n",
    "            names += [\"lengths\"]\n",
    "            formats += [\"f8\"]\n",
    "        elif shptype.endswith(\"POLYGON\"):\n",
    "            names += [\"areas\"]\n",
    "            formats += [\"f8\"]\n",
    "        \n",
    "        rec = np.recarray(len(ixresult),\n",
    "                  names=names,\n",
    "                  formats=formats)\n",
    "        \n",
    "        rec.cellids = [tuple(i) for i in self.nodelist[q]]\n",
    "        rec.ixshapes = ixresult\n",
    "        \n",
    "        if shptype.endswith(\"LINESTRING\"):\n",
    "            rec.lenghts = pygeos.length(ixresult)\n",
    "        elif shptype.endswith(\"POLYGON\"):\n",
    "            rec.areas = pygeos.area(ixresult)\n",
    "        \n",
    "        return rec"
   ]
  },
  {
   "cell_type": "code",
   "execution_count": 11,
   "metadata": {},
   "outputs": [
    {
     "name": "stdout",
     "output_type": "stream",
     "text": [
      "----------10x10----------\n",
      "2.12 ms ± 0 ns per loop (mean ± std. dev. of 1 run, 1 loop each)\n",
      "402 µs ± 0 ns per loop (mean ± std. dev. of 1 run, 1 loop each)\n",
      "2.3 ms ± 0 ns per loop (mean ± std. dev. of 1 run, 1 loop each)\n",
      "1.08 ms ± 0 ns per loop (mean ± std. dev. of 1 run, 1 loop each)\n",
      "709 µs ± 0 ns per loop (mean ± std. dev. of 1 run, 1 loop each)\n",
      "1.78 ms ± 0 ns per loop (mean ± std. dev. of 1 run, 1 loop each)\n",
      "927 µs ± 0 ns per loop (mean ± std. dev. of 1 run, 1 loop each)\n",
      "----------50x50----------\n",
      "58.7 ms ± 0 ns per loop (mean ± std. dev. of 1 run, 1 loop each)\n",
      "1.65 ms ± 0 ns per loop (mean ± std. dev. of 1 run, 1 loop each)\n",
      "21.5 ms ± 0 ns per loop (mean ± std. dev. of 1 run, 1 loop each)\n",
      "5 ms ± 0 ns per loop (mean ± std. dev. of 1 run, 1 loop each)\n",
      "2.71 ms ± 0 ns per loop (mean ± std. dev. of 1 run, 1 loop each)\n",
      "17.4 ms ± 0 ns per loop (mean ± std. dev. of 1 run, 1 loop each)\n",
      "1.85 ms ± 0 ns per loop (mean ± std. dev. of 1 run, 1 loop each)\n",
      "----------100x100----------\n"
     ]
    },
    {
     "name": "stderr",
     "output_type": "stream",
     "text": [
      "/home/david/anaconda3/envs/artesia/lib/python3.9/site-packages/pygeos/io.py:85: UserWarning: The shapely GEOS version (3.10.2-CAPI-1.16.0) is incompatible with the PyGEOS GEOS version (3.10.1-CAPI-1.16.0). Conversions between both will be slow\n",
      "  warnings.warn(\n"
     ]
    },
    {
     "name": "stdout",
     "output_type": "stream",
     "text": [
      "136 ms ± 0 ns per loop (mean ± std. dev. of 1 run, 1 loop each)\n",
      "3.87 ms ± 0 ns per loop (mean ± std. dev. of 1 run, 1 loop each)\n",
      "65.7 ms ± 0 ns per loop (mean ± std. dev. of 1 run, 1 loop each)\n",
      "10.2 ms ± 0 ns per loop (mean ± std. dev. of 1 run, 1 loop each)\n",
      "3.86 ms ± 0 ns per loop (mean ± std. dev. of 1 run, 1 loop each)\n",
      "56.2 ms ± 0 ns per loop (mean ± std. dev. of 1 run, 1 loop each)\n",
      "5.36 ms ± 0 ns per loop (mean ± std. dev. of 1 run, 1 loop each)\n",
      "----------200x200----------\n",
      "596 ms ± 0 ns per loop (mean ± std. dev. of 1 run, 1 loop each)\n",
      "8.43 ms ± 0 ns per loop (mean ± std. dev. of 1 run, 1 loop each)\n",
      "242 ms ± 0 ns per loop (mean ± std. dev. of 1 run, 1 loop each)\n",
      "18.9 ms ± 0 ns per loop (mean ± std. dev. of 1 run, 1 loop each)\n",
      "6.95 ms ± 0 ns per loop (mean ± std. dev. of 1 run, 1 loop each)\n",
      "210 ms ± 0 ns per loop (mean ± std. dev. of 1 run, 1 loop each)\n",
      "10.8 ms ± 0 ns per loop (mean ± std. dev. of 1 run, 1 loop each)\n",
      "----------500x500----------\n",
      "3.46 s ± 0 ns per loop (mean ± std. dev. of 1 run, 1 loop each)\n",
      "43.8 ms ± 0 ns per loop (mean ± std. dev. of 1 run, 1 loop each)\n",
      "1.37 s ± 0 ns per loop (mean ± std. dev. of 1 run, 1 loop each)\n",
      "98.6 ms ± 0 ns per loop (mean ± std. dev. of 1 run, 1 loop each)\n",
      "13.7 ms ± 0 ns per loop (mean ± std. dev. of 1 run, 1 loop each)\n",
      "1.28 s ± 0 ns per loop (mean ± std. dev. of 1 run, 1 loop each)\n",
      "30.1 ms ± 0 ns per loop (mean ± std. dev. of 1 run, 1 loop each)\n"
     ]
    }
   ],
   "source": [
    "pygeos_df = pd.DataFrame(index=cases, columns=[\"{0}x{0}\".format(s) for s in gridsizes])\n",
    "\n",
    "for nrnc in gridsizes:\n",
    "    print(\"-\"*10 + \"{0}x{0}\".format(nrnc) + \"-\"*10)\n",
    "    sgr = get_structured_grid(nrnc)\n",
    "    t = %timeit -o -r 1 -n 1 GridIntersect_pygeos(sgr)\n",
    "    pygeos_df.loc[\"Building Tree\", \"{0}x{0}\".format(nrnc)] = t.average\n",
    "    \n",
    "    ix2 = GridIntersect_pygeos(sgr)\n",
    "    for c, shp in zip(cases[1:], shapes):\n",
    "        \n",
    "        geom = pygeos.io.from_shapely(shp)\n",
    "        \n",
    "        if c.startswith(\"Point\"):\n",
    "            t = %timeit -o -r 1 -n 1 ix2.intersect(geom)\n",
    "        elif c.startswith(\"Linestring\"):\n",
    "            t = %timeit -o -r 1 -n 1 ix2.intersect(geom)\n",
    "        elif c.startswith(\"Polygon\"):\n",
    "            t = %timeit -o -r 1 -n 1 ix2.intersect(geom)\n",
    "        \n",
    "        pygeos_df.loc[c, \"{0}x{0}\".format(nrnc)] = t.average"
   ]
  },
  {
   "cell_type": "markdown",
   "metadata": {},
   "source": [
    "### Results"
   ]
  },
  {
   "cell_type": "code",
   "execution_count": 12,
   "metadata": {},
   "outputs": [],
   "source": [
    "cmap = cm.Reds\n",
    "norm = mpl.colors.LogNorm(vmin=1e-6, \n",
    "                          vmax=60)\n",
    "\n",
    "def cbg(val):\n",
    "    color = mpl.colors.rgb2hex(cmap(norm(val)))\n",
    "    return f\"background-color: {color}\"\n",
    "\n",
    "def ctxt(val):\n",
    "    bg = cmap(norm(val))\n",
    "    c = \"White\" if np.mean(bg[:3]) < 0.4 else \"Black\"\n",
    "    return f\"color: {c}\""
   ]
  },
  {
   "cell_type": "code",
   "execution_count": 13,
   "metadata": {},
   "outputs": [
    {
     "name": "stderr",
     "output_type": "stream",
     "text": [
      "/tmp/ipykernel_71205/634716810.py:1: DeprecationWarning: `np.float` is a deprecated alias for the builtin `float`. To silence this warning, use `float` by itself. Doing this will not modify any behavior and is safe. If you specifically wanted the numpy scalar type, use `np.float64` here.\n",
      "Deprecated in NumPy 1.20; for more details and guidance: https://numpy.org/devdocs/release/1.20.0-notes.html#deprecations\n",
      "  strtree_df.astype(np.float)\n"
     ]
    },
    {
     "data": {
      "text/html": [
       "<div>\n",
       "<style scoped>\n",
       "    .dataframe tbody tr th:only-of-type {\n",
       "        vertical-align: middle;\n",
       "    }\n",
       "\n",
       "    .dataframe tbody tr th {\n",
       "        vertical-align: top;\n",
       "    }\n",
       "\n",
       "    .dataframe thead th {\n",
       "        text-align: right;\n",
       "    }\n",
       "</style>\n",
       "<table border=\"1\" class=\"dataframe\">\n",
       "  <thead>\n",
       "    <tr style=\"text-align: right;\">\n",
       "      <th></th>\n",
       "      <th>10x10</th>\n",
       "      <th>50x50</th>\n",
       "      <th>100x100</th>\n",
       "      <th>200x200</th>\n",
       "      <th>500x500</th>\n",
       "    </tr>\n",
       "  </thead>\n",
       "  <tbody>\n",
       "    <tr>\n",
       "      <th>Building Tree</th>\n",
       "      <td>0.006076</td>\n",
       "      <td>0.059942</td>\n",
       "      <td>0.263129</td>\n",
       "      <td>0.858822</td>\n",
       "      <td>5.344073</td>\n",
       "    </tr>\n",
       "    <tr>\n",
       "      <th>Point:10</th>\n",
       "      <td>0.005513</td>\n",
       "      <td>0.005432</td>\n",
       "      <td>0.027270</td>\n",
       "      <td>0.049129</td>\n",
       "      <td>0.310694</td>\n",
       "    </tr>\n",
       "    <tr>\n",
       "      <th>Point:100</th>\n",
       "      <td>0.013362</td>\n",
       "      <td>0.045614</td>\n",
       "      <td>0.123249</td>\n",
       "      <td>0.408191</td>\n",
       "      <td>2.516122</td>\n",
       "    </tr>\n",
       "    <tr>\n",
       "      <th>Linestring:Halfdiag</th>\n",
       "      <td>0.002804</td>\n",
       "      <td>0.010514</td>\n",
       "      <td>0.022703</td>\n",
       "      <td>0.073890</td>\n",
       "      <td>0.467046</td>\n",
       "    </tr>\n",
       "    <tr>\n",
       "      <th>Linestring:Straight</th>\n",
       "      <td>0.002020</td>\n",
       "      <td>0.006922</td>\n",
       "      <td>0.011277</td>\n",
       "      <td>0.021532</td>\n",
       "      <td>0.055132</td>\n",
       "    </tr>\n",
       "    <tr>\n",
       "      <th>Polygon:Quarter</th>\n",
       "      <td>0.011428</td>\n",
       "      <td>0.112324</td>\n",
       "      <td>0.350897</td>\n",
       "      <td>1.474390</td>\n",
       "      <td>7.960527</td>\n",
       "    </tr>\n",
       "    <tr>\n",
       "      <th>Polygon:Longthin</th>\n",
       "      <td>0.003500</td>\n",
       "      <td>0.014839</td>\n",
       "      <td>0.019209</td>\n",
       "      <td>0.033377</td>\n",
       "      <td>0.092699</td>\n",
       "    </tr>\n",
       "  </tbody>\n",
       "</table>\n",
       "</div>"
      ],
      "text/plain": [
       "                        10x10     50x50   100x100   200x200   500x500\n",
       "Building Tree        0.006076  0.059942  0.263129  0.858822  5.344073\n",
       "Point:10             0.005513  0.005432  0.027270  0.049129  0.310694\n",
       "Point:100            0.013362  0.045614  0.123249  0.408191  2.516122\n",
       "Linestring:Halfdiag  0.002804  0.010514  0.022703  0.073890  0.467046\n",
       "Linestring:Straight  0.002020  0.006922  0.011277  0.021532  0.055132\n",
       "Polygon:Quarter      0.011428  0.112324  0.350897  1.474390  7.960527\n",
       "Polygon:Longthin     0.003500  0.014839  0.019209  0.033377  0.092699"
      ]
     },
     "execution_count": 13,
     "metadata": {},
     "output_type": "execute_result"
    }
   ],
   "source": [
    "strtree_df.astype(np.float) "
   ]
  },
  {
   "cell_type": "code",
   "execution_count": 14,
   "metadata": {},
   "outputs": [
    {
     "data": {
      "text/html": [
       "<style type=\"text/css\">\n",
       "#T_f0cef_row0_col0 {\n",
       "  background-color: #fdd2bf;\n",
       "  color: Black;\n",
       "}\n",
       "#T_f0cef_row0_col1 {\n",
       "  background-color: #fee3d7;\n",
       "  color: Black;\n",
       "}\n",
       "#T_f0cef_row0_col2, #T_f0cef_row0_col4 {\n",
       "  background-color: #fee6da;\n",
       "  color: Black;\n",
       "}\n",
       "#T_f0cef_row0_col3 {\n",
       "  background-color: #fedecf;\n",
       "  color: Black;\n",
       "}\n",
       "#T_f0cef_row1_col0 {\n",
       "  background-color: #f96346;\n",
       "  color: Black;\n",
       "}\n",
       "#T_f0cef_row1_col1, #T_f0cef_row6_col1 {\n",
       "  background-color: #ef3c2c;\n",
       "  color: Black;\n",
       "}\n",
       "#T_f0cef_row1_col2 {\n",
       "  background-color: #db2824;\n",
       "  color: White;\n",
       "}\n",
       "#T_f0cef_row1_col3, #T_f0cef_row4_col3 {\n",
       "  background-color: #c3161b;\n",
       "  color: White;\n",
       "}\n",
       "#T_f0cef_row1_col4, #T_f0cef_row3_col4, #T_f0cef_row4_col4, #T_f0cef_row6_col4 {\n",
       "  background-color: #a50f15;\n",
       "  color: White;\n",
       "}\n",
       "#T_f0cef_row2_col0 {\n",
       "  background-color: #f4503a;\n",
       "  color: Black;\n",
       "}\n",
       "#T_f0cef_row2_col1 {\n",
       "  background-color: #e63328;\n",
       "  color: Black;\n",
       "}\n",
       "#T_f0cef_row2_col2 {\n",
       "  background-color: #d52221;\n",
       "  color: White;\n",
       "}\n",
       "#T_f0cef_row2_col3 {\n",
       "  background-color: #bf151b;\n",
       "  color: White;\n",
       "}\n",
       "#T_f0cef_row2_col4 {\n",
       "  background-color: #a10e15;\n",
       "  color: White;\n",
       "}\n",
       "#T_f0cef_row3_col0, #T_f0cef_row4_col0 {\n",
       "  background-color: #fb7050;\n",
       "  color: Black;\n",
       "}\n",
       "#T_f0cef_row3_col1 {\n",
       "  background-color: #eb372a;\n",
       "  color: Black;\n",
       "}\n",
       "#T_f0cef_row3_col2, #T_f0cef_row6_col2 {\n",
       "  background-color: #d72322;\n",
       "  color: White;\n",
       "}\n",
       "#T_f0cef_row3_col3 {\n",
       "  background-color: #c1161b;\n",
       "  color: White;\n",
       "}\n",
       "#T_f0cef_row4_col1 {\n",
       "  background-color: #ed392b;\n",
       "  color: Black;\n",
       "}\n",
       "#T_f0cef_row4_col2 {\n",
       "  background-color: #d92523;\n",
       "  color: White;\n",
       "}\n",
       "#T_f0cef_row5_col0 {\n",
       "  background-color: #fa6849;\n",
       "  color: Black;\n",
       "}\n",
       "#T_f0cef_row5_col1 {\n",
       "  background-color: #dd2a25;\n",
       "  color: White;\n",
       "}\n",
       "#T_f0cef_row5_col2 {\n",
       "  background-color: #c9181d;\n",
       "  color: White;\n",
       "}\n",
       "#T_f0cef_row5_col3 {\n",
       "  background-color: #b51318;\n",
       "  color: White;\n",
       "}\n",
       "#T_f0cef_row5_col4 {\n",
       "  background-color: #8e0912;\n",
       "  color: White;\n",
       "}\n",
       "#T_f0cef_row6_col0 {\n",
       "  background-color: #f96044;\n",
       "  color: Black;\n",
       "}\n",
       "#T_f0cef_row6_col3 {\n",
       "  background-color: #c2161b;\n",
       "  color: White;\n",
       "}\n",
       "</style>\n",
       "<table id=\"T_f0cef\">\n",
       "  <thead>\n",
       "    <tr>\n",
       "      <th class=\"blank level0\" >&nbsp;</th>\n",
       "      <th id=\"T_f0cef_level0_col0\" class=\"col_heading level0 col0\" >10x10</th>\n",
       "      <th id=\"T_f0cef_level0_col1\" class=\"col_heading level0 col1\" >50x50</th>\n",
       "      <th id=\"T_f0cef_level0_col2\" class=\"col_heading level0 col2\" >100x100</th>\n",
       "      <th id=\"T_f0cef_level0_col3\" class=\"col_heading level0 col3\" >200x200</th>\n",
       "      <th id=\"T_f0cef_level0_col4\" class=\"col_heading level0 col4\" >500x500</th>\n",
       "    </tr>\n",
       "  </thead>\n",
       "  <tbody>\n",
       "    <tr>\n",
       "      <th id=\"T_f0cef_level0_row0\" class=\"row_heading level0 row0\" >Building Tree</th>\n",
       "      <td id=\"T_f0cef_row0_col0\" class=\"data row0 col0\" >0.000022</td>\n",
       "      <td id=\"T_f0cef_row0_col1\" class=\"data row0 col1\" >0.000007</td>\n",
       "      <td id=\"T_f0cef_row0_col2\" class=\"data row0 col2\" >0.000005</td>\n",
       "      <td id=\"T_f0cef_row0_col3\" class=\"data row0 col3\" >0.000011</td>\n",
       "      <td id=\"T_f0cef_row0_col4\" class=\"data row0 col4\" >0.000005</td>\n",
       "    </tr>\n",
       "    <tr>\n",
       "      <th id=\"T_f0cef_level0_row1\" class=\"row_heading level0 row1\" >Point:10</th>\n",
       "      <td id=\"T_f0cef_row1_col0\" class=\"data row1 col0\" >0.010421</td>\n",
       "      <td id=\"T_f0cef_row1_col1\" class=\"data row1 col1\" >0.068054</td>\n",
       "      <td id=\"T_f0cef_row1_col2\" class=\"data row1 col2\" >0.245436</td>\n",
       "      <td id=\"T_f0cef_row1_col3\" class=\"data row1 col3\" >1.089037</td>\n",
       "      <td id=\"T_f0cef_row1_col4\" class=\"data row1 col4\" >6.004118</td>\n",
       "    </tr>\n",
       "    <tr>\n",
       "      <th id=\"T_f0cef_level0_row2\" class=\"row_heading level0 row2\" >Point:100</th>\n",
       "      <td id=\"T_f0cef_row2_col0\" class=\"data row2 col0\" >0.026004</td>\n",
       "      <td id=\"T_f0cef_row2_col1\" class=\"data row2 col1\" >0.121547</td>\n",
       "      <td id=\"T_f0cef_row2_col2\" class=\"data row2 col2\" >0.349733</td>\n",
       "      <td id=\"T_f0cef_row2_col3\" class=\"data row2 col3\" >1.294968</td>\n",
       "      <td id=\"T_f0cef_row2_col4\" class=\"data row2 col4\" >7.300232</td>\n",
       "    </tr>\n",
       "    <tr>\n",
       "      <th id=\"T_f0cef_level0_row3\" class=\"row_heading level0 row3\" >Linestring:Halfdiag</th>\n",
       "      <td id=\"T_f0cef_row3_col0\" class=\"data row3 col0\" >0.005777</td>\n",
       "      <td id=\"T_f0cef_row3_col1\" class=\"data row3 col1\" >0.091343</td>\n",
       "      <td id=\"T_f0cef_row3_col2\" class=\"data row3 col2\" >0.322822</td>\n",
       "      <td id=\"T_f0cef_row3_col3\" class=\"data row3 col3\" >1.193355</td>\n",
       "      <td id=\"T_f0cef_row3_col4\" class=\"data row3 col4\" >6.348072</td>\n",
       "    </tr>\n",
       "    <tr>\n",
       "      <th id=\"T_f0cef_level0_row4\" class=\"row_heading level0 row4\" >Linestring:Straight</th>\n",
       "      <td id=\"T_f0cef_row4_col0\" class=\"data row4 col0\" >0.005519</td>\n",
       "      <td id=\"T_f0cef_row4_col1\" class=\"data row4 col1\" >0.079271</td>\n",
       "      <td id=\"T_f0cef_row4_col2\" class=\"data row4 col2\" >0.292944</td>\n",
       "      <td id=\"T_f0cef_row4_col3\" class=\"data row4 col3\" >1.051010</td>\n",
       "      <td id=\"T_f0cef_row4_col4\" class=\"data row4 col4\" >6.252372</td>\n",
       "    </tr>\n",
       "    <tr>\n",
       "      <th id=\"T_f0cef_level0_row5\" class=\"row_heading level0 row5\" >Polygon:Quarter</th>\n",
       "      <td id=\"T_f0cef_row5_col0\" class=\"data row5 col0\" >0.008568</td>\n",
       "      <td id=\"T_f0cef_row5_col1\" class=\"data row5 col1\" >0.210682</td>\n",
       "      <td id=\"T_f0cef_row5_col2\" class=\"data row5 col2\" >0.774168</td>\n",
       "      <td id=\"T_f0cef_row5_col3\" class=\"data row5 col3\" >2.426789</td>\n",
       "      <td id=\"T_f0cef_row5_col4\" class=\"data row5 col4\" >14.798314</td>\n",
       "    </tr>\n",
       "    <tr>\n",
       "      <th id=\"T_f0cef_level0_row6\" class=\"row_heading level0 row6\" >Polygon:Longthin</th>\n",
       "      <td id=\"T_f0cef_row6_col0\" class=\"data row6 col0\" >0.011813</td>\n",
       "      <td id=\"T_f0cef_row6_col1\" class=\"data row6 col1\" >0.071300</td>\n",
       "      <td id=\"T_f0cef_row6_col2\" class=\"data row6 col2\" >0.318064</td>\n",
       "      <td id=\"T_f0cef_row6_col3\" class=\"data row6 col3\" >1.113513</td>\n",
       "      <td id=\"T_f0cef_row6_col4\" class=\"data row6 col4\" >6.093867</td>\n",
       "    </tr>\n",
       "  </tbody>\n",
       "</table>\n"
      ],
      "text/plain": [
       "<pandas.io.formats.style.Styler at 0x7f2f0efe0d30>"
      ]
     },
     "execution_count": 14,
     "metadata": {},
     "output_type": "execute_result"
    }
   ],
   "source": [
    "filter_df.astype(float).style.applymap(cbg).applymap(ctxt)"
   ]
  },
  {
   "cell_type": "code",
   "execution_count": 15,
   "metadata": {},
   "outputs": [
    {
     "data": {
      "text/html": [
       "<style type=\"text/css\">\n",
       "#T_65f39_row0_col0 {\n",
       "  background-color: #fee7dc;\n",
       "  color: Black;\n",
       "}\n",
       "#T_65f39_row0_col1 {\n",
       "  background-color: #fee8de;\n",
       "  color: Black;\n",
       "}\n",
       "#T_65f39_row0_col2 {\n",
       "  background-color: #fdd5c4;\n",
       "  color: Black;\n",
       "}\n",
       "#T_65f39_row0_col3 {\n",
       "  background-color: #fee9df;\n",
       "  color: Black;\n",
       "}\n",
       "#T_65f39_row0_col4 {\n",
       "  background-color: #fee7db;\n",
       "  color: Black;\n",
       "}\n",
       "#T_65f39_row1_col0, #T_65f39_row1_col3 {\n",
       "  background-color: #fb7555;\n",
       "  color: Black;\n",
       "}\n",
       "#T_65f39_row1_col1 {\n",
       "  background-color: #fb7d5d;\n",
       "  color: Black;\n",
       "}\n",
       "#T_65f39_row1_col2 {\n",
       "  background-color: #fb7b5b;\n",
       "  color: Black;\n",
       "}\n",
       "#T_65f39_row1_col4 {\n",
       "  background-color: #fb7050;\n",
       "  color: Black;\n",
       "}\n",
       "#T_65f39_row2_col0 {\n",
       "  background-color: #000000;\n",
       "  color: White;\n",
       "  background-color: white;\n",
       "}\n",
       "#T_65f39_row2_col1 {\n",
       "  background-color: #f96245;\n",
       "  color: Black;\n",
       "}\n",
       "#T_65f39_row2_col2 {\n",
       "  background-color: #f7593f;\n",
       "  color: Black;\n",
       "}\n",
       "#T_65f39_row2_col3 {\n",
       "  background-color: #f6553c;\n",
       "  color: Black;\n",
       "}\n",
       "#T_65f39_row2_col4 {\n",
       "  background-color: #f34935;\n",
       "  color: Black;\n",
       "}\n",
       "#T_65f39_row3_col0 {\n",
       "  background-color: #fb6c4c;\n",
       "  color: Black;\n",
       "}\n",
       "#T_65f39_row3_col1 {\n",
       "  background-color: #f5533b;\n",
       "  color: Black;\n",
       "}\n",
       "#T_65f39_row3_col2 {\n",
       "  background-color: #f14432;\n",
       "  color: Black;\n",
       "}\n",
       "#T_65f39_row3_col3 {\n",
       "  background-color: #ef3c2c;\n",
       "  color: Black;\n",
       "}\n",
       "#T_65f39_row3_col4 {\n",
       "  background-color: #dc2924;\n",
       "  color: White;\n",
       "}\n",
       "#T_65f39_row4_col0 {\n",
       "  background-color: #fb6e4e;\n",
       "  color: Black;\n",
       "}\n",
       "#T_65f39_row4_col1 {\n",
       "  background-color: #f75c41;\n",
       "  color: Black;\n",
       "}\n",
       "#T_65f39_row4_col2 {\n",
       "  background-color: #f14331;\n",
       "  color: Black;\n",
       "}\n",
       "#T_65f39_row4_col3 {\n",
       "  background-color: #f14130;\n",
       "  color: Black;\n",
       "}\n",
       "#T_65f39_row4_col4 {\n",
       "  background-color: #e22e27;\n",
       "  color: Black;\n",
       "}\n",
       "#T_65f39_row5_col0 {\n",
       "  background-color: #fb694a;\n",
       "  color: Black;\n",
       "}\n",
       "#T_65f39_row5_col1 {\n",
       "  background-color: #e12d26;\n",
       "  color: Black;\n",
       "}\n",
       "#T_65f39_row5_col2 {\n",
       "  background-color: #ca181d;\n",
       "  color: White;\n",
       "}\n",
       "#T_65f39_row5_col3 {\n",
       "  background-color: #b61319;\n",
       "  color: White;\n",
       "}\n",
       "#T_65f39_row5_col4 {\n",
       "  background-color: #8c0912;\n",
       "  color: White;\n",
       "}\n",
       "#T_65f39_row6_col0 {\n",
       "  background-color: #fb7353;\n",
       "  color: Black;\n",
       "}\n",
       "#T_65f39_row6_col1 {\n",
       "  background-color: #e93529;\n",
       "  color: Black;\n",
       "}\n",
       "#T_65f39_row6_col2 {\n",
       "  background-color: #d92523;\n",
       "  color: White;\n",
       "}\n",
       "#T_65f39_row6_col3 {\n",
       "  background-color: #c3161b;\n",
       "  color: White;\n",
       "}\n",
       "#T_65f39_row6_col4 {\n",
       "  background-color: #a60f15;\n",
       "  color: White;\n",
       "}\n",
       "</style>\n",
       "<table id=\"T_65f39\">\n",
       "  <thead>\n",
       "    <tr>\n",
       "      <th class=\"blank level0\" >&nbsp;</th>\n",
       "      <th id=\"T_65f39_level0_col0\" class=\"col_heading level0 col0\" >10x10</th>\n",
       "      <th id=\"T_65f39_level0_col1\" class=\"col_heading level0 col1\" >50x50</th>\n",
       "      <th id=\"T_65f39_level0_col2\" class=\"col_heading level0 col2\" >100x100</th>\n",
       "      <th id=\"T_65f39_level0_col3\" class=\"col_heading level0 col3\" >200x200</th>\n",
       "      <th id=\"T_65f39_level0_col4\" class=\"col_heading level0 col4\" >500x500</th>\n",
       "    </tr>\n",
       "  </thead>\n",
       "  <tbody>\n",
       "    <tr>\n",
       "      <th id=\"T_65f39_level0_row0\" class=\"row_heading level0 row0\" >Building Tree</th>\n",
       "      <td id=\"T_65f39_row0_col0\" class=\"data row0 col0\" >0.000004</td>\n",
       "      <td id=\"T_65f39_row0_col1\" class=\"data row0 col1\" >0.000004</td>\n",
       "      <td id=\"T_65f39_row0_col2\" class=\"data row0 col2\" >0.000018</td>\n",
       "      <td id=\"T_65f39_row0_col3\" class=\"data row0 col3\" >0.000004</td>\n",
       "      <td id=\"T_65f39_row0_col4\" class=\"data row0 col4\" >0.000005</td>\n",
       "    </tr>\n",
       "    <tr>\n",
       "      <th id=\"T_65f39_level0_row1\" class=\"row_heading level0 row1\" >Point:10</th>\n",
       "      <td id=\"T_65f39_row1_col0\" class=\"data row1 col0\" >0.004368</td>\n",
       "      <td id=\"T_65f39_row1_col1\" class=\"data row1 col1\" >0.002655</td>\n",
       "      <td id=\"T_65f39_row1_col2\" class=\"data row1 col2\" >0.002933</td>\n",
       "      <td id=\"T_65f39_row1_col3\" class=\"data row1 col3\" >0.004336</td>\n",
       "      <td id=\"T_65f39_row1_col4\" class=\"data row1 col4\" >0.005788</td>\n",
       "    </tr>\n",
       "    <tr>\n",
       "      <th id=\"T_65f39_level0_row2\" class=\"row_heading level0 row2\" >Point:100</th>\n",
       "      <td id=\"T_65f39_row2_col0\" class=\"data row2 col0\" >nan</td>\n",
       "      <td id=\"T_65f39_row2_col1\" class=\"data row2 col1\" >0.011428</td>\n",
       "      <td id=\"T_65f39_row2_col2\" class=\"data row2 col2\" >0.017155</td>\n",
       "      <td id=\"T_65f39_row2_col3\" class=\"data row2 col3\" >0.021175</td>\n",
       "      <td id=\"T_65f39_row2_col4\" class=\"data row2 col4\" >0.036392</td>\n",
       "    </tr>\n",
       "    <tr>\n",
       "      <th id=\"T_65f39_level0_row3\" class=\"row_heading level0 row3\" >Linestring:Halfdiag</th>\n",
       "      <td id=\"T_65f39_row3_col0\" class=\"data row3 col0\" >0.007116</td>\n",
       "      <td id=\"T_65f39_row3_col1\" class=\"data row3 col1\" >0.022954</td>\n",
       "      <td id=\"T_65f39_row3_col2\" class=\"data row3 col2\" >0.045882</td>\n",
       "      <td id=\"T_65f39_row3_col3\" class=\"data row3 col3\" >0.072006</td>\n",
       "      <td id=\"T_65f39_row3_col4\" class=\"data row3 col4\" >0.228762</td>\n",
       "    </tr>\n",
       "    <tr>\n",
       "      <th id=\"T_65f39_level0_row4\" class=\"row_heading level0 row4\" >Linestring:Straight</th>\n",
       "      <td id=\"T_65f39_row4_col0\" class=\"data row4 col0\" >0.005979</td>\n",
       "      <td id=\"T_65f39_row4_col1\" class=\"data row4 col1\" >0.015565</td>\n",
       "      <td id=\"T_65f39_row4_col2\" class=\"data row4 col2\" >0.051015</td>\n",
       "      <td id=\"T_65f39_row4_col3\" class=\"data row4 col3\" >0.051532</td>\n",
       "      <td id=\"T_65f39_row4_col4\" class=\"data row4 col4\" >0.158616</td>\n",
       "    </tr>\n",
       "    <tr>\n",
       "      <th id=\"T_65f39_level0_row5\" class=\"row_heading level0 row5\" >Polygon:Quarter</th>\n",
       "      <td id=\"T_65f39_row5_col0\" class=\"data row5 col0\" >0.008220</td>\n",
       "      <td id=\"T_65f39_row5_col1\" class=\"data row5 col1\" >0.173617</td>\n",
       "      <td id=\"T_65f39_row5_col2\" class=\"data row5 col2\" >0.688380</td>\n",
       "      <td id=\"T_65f39_row5_col3\" class=\"data row5 col3\" >2.308174</td>\n",
       "      <td id=\"T_65f39_row5_col4\" class=\"data row5 col4\" >15.131841</td>\n",
       "    </tr>\n",
       "    <tr>\n",
       "      <th id=\"T_65f39_level0_row6\" class=\"row_heading level0 row6\" >Polygon:Longthin</th>\n",
       "      <td id=\"T_65f39_row6_col0\" class=\"data row6 col0\" >0.004614</td>\n",
       "      <td id=\"T_65f39_row6_col1\" class=\"data row6 col1\" >0.108835</td>\n",
       "      <td id=\"T_65f39_row6_col2\" class=\"data row6 col2\" >0.283911</td>\n",
       "      <td id=\"T_65f39_row6_col3\" class=\"data row6 col3\" >1.065838</td>\n",
       "      <td id=\"T_65f39_row6_col4\" class=\"data row6 col4\" >5.816833</td>\n",
       "    </tr>\n",
       "  </tbody>\n",
       "</table>\n"
      ],
      "text/plain": [
       "<pandas.io.formats.style.Styler at 0x7f2f0c909e80>"
      ]
     },
     "execution_count": 15,
     "metadata": {},
     "output_type": "execute_result"
    }
   ],
   "source": [
    "struct_df.astype(float).style.applymap(cbg).applymap(ctxt).highlight_null(null_color=\"white\")"
   ]
  },
  {
   "cell_type": "code",
   "execution_count": 16,
   "metadata": {},
   "outputs": [
    {
     "data": {
      "text/html": [
       "<style type=\"text/css\">\n",
       "#T_da8ea_row0_col0 {\n",
       "  background-color: #fc8161;\n",
       "  color: Black;\n",
       "}\n",
       "#T_da8ea_row0_col1, #T_da8ea_row5_col2 {\n",
       "  background-color: #f0402f;\n",
       "  color: Black;\n",
       "}\n",
       "#T_da8ea_row0_col2 {\n",
       "  background-color: #e53228;\n",
       "  color: Black;\n",
       "}\n",
       "#T_da8ea_row0_col3 {\n",
       "  background-color: #cc191e;\n",
       "  color: White;\n",
       "}\n",
       "#T_da8ea_row0_col4 {\n",
       "  background-color: #af1117;\n",
       "  color: White;\n",
       "}\n",
       "#T_da8ea_row1_col0 {\n",
       "  background-color: #fca082;\n",
       "  color: Black;\n",
       "}\n",
       "#T_da8ea_row1_col1 {\n",
       "  background-color: #fc8666;\n",
       "  color: Black;\n",
       "}\n",
       "#T_da8ea_row1_col2, #T_da8ea_row4_col2 {\n",
       "  background-color: #fb7656;\n",
       "  color: Black;\n",
       "}\n",
       "#T_da8ea_row1_col3 {\n",
       "  background-color: #fa6849;\n",
       "  color: Black;\n",
       "}\n",
       "#T_da8ea_row1_col4 {\n",
       "  background-color: #f24633;\n",
       "  color: Black;\n",
       "}\n",
       "#T_da8ea_row2_col0 {\n",
       "  background-color: #fc8060;\n",
       "  color: Black;\n",
       "}\n",
       "#T_da8ea_row2_col1 {\n",
       "  background-color: #f6553c;\n",
       "  color: Black;\n",
       "}\n",
       "#T_da8ea_row2_col2 {\n",
       "  background-color: #f03d2d;\n",
       "  color: Black;\n",
       "}\n",
       "#T_da8ea_row2_col3 {\n",
       "  background-color: #db2824;\n",
       "  color: White;\n",
       "}\n",
       "#T_da8ea_row2_col4, #T_da8ea_row5_col4 {\n",
       "  background-color: #bf151b;\n",
       "  color: White;\n",
       "}\n",
       "#T_da8ea_row3_col0 {\n",
       "  background-color: #fc8e6e;\n",
       "  color: Black;\n",
       "}\n",
       "#T_da8ea_row3_col1 {\n",
       "  background-color: #fb7252;\n",
       "  color: Black;\n",
       "}\n",
       "#T_da8ea_row3_col2 {\n",
       "  background-color: #fa6547;\n",
       "  color: Black;\n",
       "}\n",
       "#T_da8ea_row3_col3 {\n",
       "  background-color: #f6583e;\n",
       "  color: Black;\n",
       "}\n",
       "#T_da8ea_row3_col4 {\n",
       "  background-color: #ea362a;\n",
       "  color: Black;\n",
       "}\n",
       "#T_da8ea_row4_col0 {\n",
       "  background-color: #fc9576;\n",
       "  color: Black;\n",
       "}\n",
       "#T_da8ea_row4_col1 {\n",
       "  background-color: #fb7d5d;\n",
       "  color: Black;\n",
       "}\n",
       "#T_da8ea_row4_col3 {\n",
       "  background-color: #fb6c4c;\n",
       "  color: Black;\n",
       "}\n",
       "#T_da8ea_row4_col4 {\n",
       "  background-color: #f85d42;\n",
       "  color: Black;\n",
       "}\n",
       "#T_da8ea_row5_col0 {\n",
       "  background-color: #fc8565;\n",
       "  color: Black;\n",
       "}\n",
       "#T_da8ea_row5_col1 {\n",
       "  background-color: #f7593f;\n",
       "  color: Black;\n",
       "}\n",
       "#T_da8ea_row5_col3 {\n",
       "  background-color: #dd2a25;\n",
       "  color: White;\n",
       "}\n",
       "#T_da8ea_row6_col0 {\n",
       "  background-color: #fc9070;\n",
       "  color: Black;\n",
       "}\n",
       "#T_da8ea_row6_col1 {\n",
       "  background-color: #fc8464;\n",
       "  color: Black;\n",
       "}\n",
       "#T_da8ea_row6_col2 {\n",
       "  background-color: #fb7151;\n",
       "  color: Black;\n",
       "}\n",
       "#T_da8ea_row6_col3 {\n",
       "  background-color: #f96346;\n",
       "  color: Black;\n",
       "}\n",
       "#T_da8ea_row6_col4 {\n",
       "  background-color: #f44d38;\n",
       "  color: Black;\n",
       "}\n",
       "</style>\n",
       "<table id=\"T_da8ea\">\n",
       "  <thead>\n",
       "    <tr>\n",
       "      <th class=\"blank level0\" >&nbsp;</th>\n",
       "      <th id=\"T_da8ea_level0_col0\" class=\"col_heading level0 col0\" >10x10</th>\n",
       "      <th id=\"T_da8ea_level0_col1\" class=\"col_heading level0 col1\" >50x50</th>\n",
       "      <th id=\"T_da8ea_level0_col2\" class=\"col_heading level0 col2\" >100x100</th>\n",
       "      <th id=\"T_da8ea_level0_col3\" class=\"col_heading level0 col3\" >200x200</th>\n",
       "      <th id=\"T_da8ea_level0_col4\" class=\"col_heading level0 col4\" >500x500</th>\n",
       "    </tr>\n",
       "  </thead>\n",
       "  <tbody>\n",
       "    <tr>\n",
       "      <th id=\"T_da8ea_level0_row0\" class=\"row_heading level0 row0\" >Building Tree</th>\n",
       "      <td id=\"T_da8ea_row0_col0\" class=\"data row0 col0\" >0.002125</td>\n",
       "      <td id=\"T_da8ea_row0_col1\" class=\"data row0 col1\" >0.058696</td>\n",
       "      <td id=\"T_da8ea_row0_col2\" class=\"data row0 col2\" >0.135587</td>\n",
       "      <td id=\"T_da8ea_row0_col3\" class=\"data row0 col3\" >0.595585</td>\n",
       "      <td id=\"T_da8ea_row0_col4\" class=\"data row0 col4\" >3.456951</td>\n",
       "    </tr>\n",
       "    <tr>\n",
       "      <th id=\"T_da8ea_level0_row1\" class=\"row_heading level0 row1\" >Point:10</th>\n",
       "      <td id=\"T_da8ea_row1_col0\" class=\"data row1 col0\" >0.000402</td>\n",
       "      <td id=\"T_da8ea_row1_col1\" class=\"data row1 col1\" >0.001650</td>\n",
       "      <td id=\"T_da8ea_row1_col2\" class=\"data row1 col2\" >0.003868</td>\n",
       "      <td id=\"T_da8ea_row1_col3\" class=\"data row1 col3\" >0.008428</td>\n",
       "      <td id=\"T_da8ea_row1_col4\" class=\"data row1 col4\" >0.043756</td>\n",
       "    </tr>\n",
       "    <tr>\n",
       "      <th id=\"T_da8ea_level0_row2\" class=\"row_heading level0 row2\" >Point:100</th>\n",
       "      <td id=\"T_da8ea_row2_col0\" class=\"data row2 col0\" >0.002304</td>\n",
       "      <td id=\"T_da8ea_row2_col1\" class=\"data row2 col1\" >0.021528</td>\n",
       "      <td id=\"T_da8ea_row2_col2\" class=\"data row2 col2\" >0.065669</td>\n",
       "      <td id=\"T_da8ea_row2_col3\" class=\"data row2 col3\" >0.241989</td>\n",
       "      <td id=\"T_da8ea_row2_col4\" class=\"data row2 col4\" >1.370588</td>\n",
       "    </tr>\n",
       "    <tr>\n",
       "      <th id=\"T_da8ea_level0_row3\" class=\"row_heading level0 row3\" >Linestring:Halfdiag</th>\n",
       "      <td id=\"T_da8ea_row3_col0\" class=\"data row3 col0\" >0.001079</td>\n",
       "      <td id=\"T_da8ea_row3_col1\" class=\"data row3 col1\" >0.005000</td>\n",
       "      <td id=\"T_da8ea_row3_col2\" class=\"data row3 col2\" >0.010186</td>\n",
       "      <td id=\"T_da8ea_row3_col3\" class=\"data row3 col3\" >0.018900</td>\n",
       "      <td id=\"T_da8ea_row3_col4\" class=\"data row3 col4\" >0.098604</td>\n",
       "    </tr>\n",
       "    <tr>\n",
       "      <th id=\"T_da8ea_level0_row4\" class=\"row_heading level0 row4\" >Linestring:Straight</th>\n",
       "      <td id=\"T_da8ea_row4_col0\" class=\"data row4 col0\" >0.000709</td>\n",
       "      <td id=\"T_da8ea_row4_col1\" class=\"data row4 col1\" >0.002709</td>\n",
       "      <td id=\"T_da8ea_row4_col2\" class=\"data row4 col2\" >0.003856</td>\n",
       "      <td id=\"T_da8ea_row4_col3\" class=\"data row4 col3\" >0.006948</td>\n",
       "      <td id=\"T_da8ea_row4_col4\" class=\"data row4 col4\" >0.013706</td>\n",
       "    </tr>\n",
       "    <tr>\n",
       "      <th id=\"T_da8ea_level0_row5\" class=\"row_heading level0 row5\" >Polygon:Quarter</th>\n",
       "      <td id=\"T_da8ea_row5_col0\" class=\"data row5 col0\" >0.001777</td>\n",
       "      <td id=\"T_da8ea_row5_col1\" class=\"data row5 col1\" >0.017433</td>\n",
       "      <td id=\"T_da8ea_row5_col2\" class=\"data row5 col2\" >0.056226</td>\n",
       "      <td id=\"T_da8ea_row5_col3\" class=\"data row5 col3\" >0.210041</td>\n",
       "      <td id=\"T_da8ea_row5_col4\" class=\"data row5 col4\" >1.281770</td>\n",
       "    </tr>\n",
       "    <tr>\n",
       "      <th id=\"T_da8ea_level0_row6\" class=\"row_heading level0 row6\" >Polygon:Longthin</th>\n",
       "      <td id=\"T_da8ea_row6_col0\" class=\"data row6 col0\" >0.000927</td>\n",
       "      <td id=\"T_da8ea_row6_col1\" class=\"data row6 col1\" >0.001847</td>\n",
       "      <td id=\"T_da8ea_row6_col2\" class=\"data row6 col2\" >0.005357</td>\n",
       "      <td id=\"T_da8ea_row6_col3\" class=\"data row6 col3\" >0.010816</td>\n",
       "      <td id=\"T_da8ea_row6_col4\" class=\"data row6 col4\" >0.030056</td>\n",
       "    </tr>\n",
       "  </tbody>\n",
       "</table>\n"
      ],
      "text/plain": [
       "<pandas.io.formats.style.Styler at 0x7f2f0f04adc0>"
      ]
     },
     "execution_count": 16,
     "metadata": {},
     "output_type": "execute_result"
    }
   ],
   "source": [
    "pygeos_df.astype(float).style.applymap(cbg).applymap(ctxt).highlight_null(null_color=\"white\")"
   ]
  },
  {
   "cell_type": "code",
   "execution_count": 17,
   "metadata": {},
   "outputs": [],
   "source": [
    "df = pd.concat([strtree_df, filter_df, struct_df, pygeos_df], keys=[\"strtree\", \"filter\", \"structured\", \"pygeos\"], axis=1)\n",
    "df_trees = pd.concat([strtree_df, filter_df, pygeos_df], keys=[\"strtree\", \"filter\", \"pygeos\"], axis=1)"
   ]
  },
  {
   "cell_type": "code",
   "execution_count": 18,
   "metadata": {},
   "outputs": [],
   "source": [
    "fastest = pd.DataFrame(index=cases, columns=[\"{0}x{0}\".format(s) for s in gridsizes])\n",
    "timings = pd.DataFrame(index=cases, columns=[\"{0}x{0}\".format(s) for s in gridsizes])\n",
    "for c in cases:\n",
    "    for size in gridsizes:\n",
    "        sizecol = \"{0}x{0}\".format(size)\n",
    "        fastest.loc[c, sizecol] = pd.to_numeric(df.loc[c, pd.IndexSlice[:, sizecol]]).idxmin()[0]\n",
    "        timings.loc[c, sizecol] = pd.to_numeric(df.loc[c, pd.IndexSlice[:, sizecol]]).min()\n"
   ]
  },
  {
   "cell_type": "code",
   "execution_count": 19,
   "metadata": {},
   "outputs": [
    {
     "data": {
      "text/html": [
       "<style type=\"text/css\">\n",
       "#T_7f2a8_row0_col0, #T_7f2a8_row0_col1, #T_7f2a8_row0_col3, #T_7f2a8_row0_col4, #T_7f2a8_row1_col2, #T_7f2a8_row1_col3, #T_7f2a8_row1_col4, #T_7f2a8_row2_col1, #T_7f2a8_row2_col2, #T_7f2a8_row2_col3, #T_7f2a8_row2_col4 {\n",
       "  color: #2ca02c;\n",
       "}\n",
       "#T_7f2a8_row0_col2 {\n",
       "  color: #ff7f0e;\n",
       "}\n",
       "#T_7f2a8_row1_col0, #T_7f2a8_row1_col1, #T_7f2a8_row2_col0, #T_7f2a8_row3_col0, #T_7f2a8_row3_col1, #T_7f2a8_row3_col2, #T_7f2a8_row3_col3, #T_7f2a8_row3_col4, #T_7f2a8_row4_col0, #T_7f2a8_row4_col1, #T_7f2a8_row4_col2, #T_7f2a8_row4_col3, #T_7f2a8_row4_col4, #T_7f2a8_row5_col0, #T_7f2a8_row5_col1, #T_7f2a8_row5_col2, #T_7f2a8_row5_col3, #T_7f2a8_row5_col4, #T_7f2a8_row6_col0, #T_7f2a8_row6_col1, #T_7f2a8_row6_col2, #T_7f2a8_row6_col3, #T_7f2a8_row6_col4 {\n",
       "  color: #d62728;\n",
       "}\n",
       "</style>\n",
       "<table id=\"T_7f2a8\">\n",
       "  <caption>Fastest intersection method for each case and gridsize.</caption>\n",
       "  <thead>\n",
       "    <tr>\n",
       "      <th class=\"blank level0\" >&nbsp;</th>\n",
       "      <th id=\"T_7f2a8_level0_col0\" class=\"col_heading level0 col0\" >10x10</th>\n",
       "      <th id=\"T_7f2a8_level0_col1\" class=\"col_heading level0 col1\" >50x50</th>\n",
       "      <th id=\"T_7f2a8_level0_col2\" class=\"col_heading level0 col2\" >100x100</th>\n",
       "      <th id=\"T_7f2a8_level0_col3\" class=\"col_heading level0 col3\" >200x200</th>\n",
       "      <th id=\"T_7f2a8_level0_col4\" class=\"col_heading level0 col4\" >500x500</th>\n",
       "    </tr>\n",
       "  </thead>\n",
       "  <tbody>\n",
       "    <tr>\n",
       "      <th id=\"T_7f2a8_level0_row0\" class=\"row_heading level0 row0\" >Building Tree</th>\n",
       "      <td id=\"T_7f2a8_row0_col0\" class=\"data row0 col0\" >structured</td>\n",
       "      <td id=\"T_7f2a8_row0_col1\" class=\"data row0 col1\" >structured</td>\n",
       "      <td id=\"T_7f2a8_row0_col2\" class=\"data row0 col2\" >filter</td>\n",
       "      <td id=\"T_7f2a8_row0_col3\" class=\"data row0 col3\" >structured</td>\n",
       "      <td id=\"T_7f2a8_row0_col4\" class=\"data row0 col4\" >structured</td>\n",
       "    </tr>\n",
       "    <tr>\n",
       "      <th id=\"T_7f2a8_level0_row1\" class=\"row_heading level0 row1\" >Point:10</th>\n",
       "      <td id=\"T_7f2a8_row1_col0\" class=\"data row1 col0\" >pygeos</td>\n",
       "      <td id=\"T_7f2a8_row1_col1\" class=\"data row1 col1\" >pygeos</td>\n",
       "      <td id=\"T_7f2a8_row1_col2\" class=\"data row1 col2\" >structured</td>\n",
       "      <td id=\"T_7f2a8_row1_col3\" class=\"data row1 col3\" >structured</td>\n",
       "      <td id=\"T_7f2a8_row1_col4\" class=\"data row1 col4\" >structured</td>\n",
       "    </tr>\n",
       "    <tr>\n",
       "      <th id=\"T_7f2a8_level0_row2\" class=\"row_heading level0 row2\" >Point:100</th>\n",
       "      <td id=\"T_7f2a8_row2_col0\" class=\"data row2 col0\" >pygeos</td>\n",
       "      <td id=\"T_7f2a8_row2_col1\" class=\"data row2 col1\" >structured</td>\n",
       "      <td id=\"T_7f2a8_row2_col2\" class=\"data row2 col2\" >structured</td>\n",
       "      <td id=\"T_7f2a8_row2_col3\" class=\"data row2 col3\" >structured</td>\n",
       "      <td id=\"T_7f2a8_row2_col4\" class=\"data row2 col4\" >structured</td>\n",
       "    </tr>\n",
       "    <tr>\n",
       "      <th id=\"T_7f2a8_level0_row3\" class=\"row_heading level0 row3\" >Linestring:Halfdiag</th>\n",
       "      <td id=\"T_7f2a8_row3_col0\" class=\"data row3 col0\" >pygeos</td>\n",
       "      <td id=\"T_7f2a8_row3_col1\" class=\"data row3 col1\" >pygeos</td>\n",
       "      <td id=\"T_7f2a8_row3_col2\" class=\"data row3 col2\" >pygeos</td>\n",
       "      <td id=\"T_7f2a8_row3_col3\" class=\"data row3 col3\" >pygeos</td>\n",
       "      <td id=\"T_7f2a8_row3_col4\" class=\"data row3 col4\" >pygeos</td>\n",
       "    </tr>\n",
       "    <tr>\n",
       "      <th id=\"T_7f2a8_level0_row4\" class=\"row_heading level0 row4\" >Linestring:Straight</th>\n",
       "      <td id=\"T_7f2a8_row4_col0\" class=\"data row4 col0\" >pygeos</td>\n",
       "      <td id=\"T_7f2a8_row4_col1\" class=\"data row4 col1\" >pygeos</td>\n",
       "      <td id=\"T_7f2a8_row4_col2\" class=\"data row4 col2\" >pygeos</td>\n",
       "      <td id=\"T_7f2a8_row4_col3\" class=\"data row4 col3\" >pygeos</td>\n",
       "      <td id=\"T_7f2a8_row4_col4\" class=\"data row4 col4\" >pygeos</td>\n",
       "    </tr>\n",
       "    <tr>\n",
       "      <th id=\"T_7f2a8_level0_row5\" class=\"row_heading level0 row5\" >Polygon:Quarter</th>\n",
       "      <td id=\"T_7f2a8_row5_col0\" class=\"data row5 col0\" >pygeos</td>\n",
       "      <td id=\"T_7f2a8_row5_col1\" class=\"data row5 col1\" >pygeos</td>\n",
       "      <td id=\"T_7f2a8_row5_col2\" class=\"data row5 col2\" >pygeos</td>\n",
       "      <td id=\"T_7f2a8_row5_col3\" class=\"data row5 col3\" >pygeos</td>\n",
       "      <td id=\"T_7f2a8_row5_col4\" class=\"data row5 col4\" >pygeos</td>\n",
       "    </tr>\n",
       "    <tr>\n",
       "      <th id=\"T_7f2a8_level0_row6\" class=\"row_heading level0 row6\" >Polygon:Longthin</th>\n",
       "      <td id=\"T_7f2a8_row6_col0\" class=\"data row6 col0\" >pygeos</td>\n",
       "      <td id=\"T_7f2a8_row6_col1\" class=\"data row6 col1\" >pygeos</td>\n",
       "      <td id=\"T_7f2a8_row6_col2\" class=\"data row6 col2\" >pygeos</td>\n",
       "      <td id=\"T_7f2a8_row6_col3\" class=\"data row6 col3\" >pygeos</td>\n",
       "      <td id=\"T_7f2a8_row6_col4\" class=\"data row6 col4\" >pygeos</td>\n",
       "    </tr>\n",
       "  </tbody>\n",
       "</table>\n"
      ],
      "text/plain": [
       "<pandas.io.formats.style.Styler at 0x7f2f0f03edc0>"
      ]
     },
     "execution_count": 19,
     "metadata": {},
     "output_type": "execute_result"
    }
   ],
   "source": [
    "cdict = {\n",
    "    \"strtree\": '#1f77b4',\n",
    "    \"filter\":  '#ff7f0e',\n",
    "    \"structured\": '#2ca02c',\n",
    "    \"pygeos\": '#d62728'\n",
    "}\n",
    "def c(val):\n",
    "    return f\"color: {cdict[val]}\"\n",
    "\n",
    "fastest.style.applymap(c).set_caption(\"Fastest intersection method for each case and gridsize.\")"
   ]
  },
  {
   "cell_type": "code",
   "execution_count": 20,
   "metadata": {},
   "outputs": [
    {
     "name": "stderr",
     "output_type": "stream",
     "text": [
      "/tmp/ipykernel_71205/1382799437.py:14: DeprecationWarning: `np.float` is a deprecated alias for the builtin `float`. To silence this warning, use `float` by itself. Doing this will not modify any behavior and is safe. If you specifically wanted the numpy scalar type, use `np.float64` here.\n",
      "Deprecated in NumPy 1.20; for more details and guidance: https://numpy.org/devdocs/release/1.20.0-notes.html#deprecations\n",
      "  timings.astype(np.float).style.applymap(cbg).applymap(ctxt).set_caption(\"Fastest runtimes for all intersection methods.\")\n"
     ]
    },
    {
     "data": {
      "text/html": [
       "<style type=\"text/css\">\n",
       "#T_dca8e_row0_col0 {\n",
       "  background-color: #fff2ec;\n",
       "  color: Black;\n",
       "}\n",
       "#T_dca8e_row0_col1 {\n",
       "  background-color: #fff4ef;\n",
       "  color: Black;\n",
       "}\n",
       "#T_dca8e_row0_col2 {\n",
       "  background-color: #fff0e9;\n",
       "  color: Black;\n",
       "}\n",
       "#T_dca8e_row0_col3 {\n",
       "  background-color: #fff5f0;\n",
       "  color: Black;\n",
       "}\n",
       "#T_dca8e_row0_col4 {\n",
       "  background-color: #fff2eb;\n",
       "  color: Black;\n",
       "}\n",
       "#T_dca8e_row1_col0 {\n",
       "  background-color: #fc9474;\n",
       "  color: Black;\n",
       "}\n",
       "#T_dca8e_row1_col1 {\n",
       "  background-color: #fb7151;\n",
       "  color: Black;\n",
       "}\n",
       "#T_dca8e_row1_col2 {\n",
       "  background-color: #f96044;\n",
       "  color: Black;\n",
       "}\n",
       "#T_dca8e_row1_col3 {\n",
       "  background-color: #f6553c;\n",
       "  color: Black;\n",
       "}\n",
       "#T_dca8e_row1_col4 {\n",
       "  background-color: #f44d38;\n",
       "  color: Black;\n",
       "}\n",
       "#T_dca8e_row2_col0 {\n",
       "  background-color: #fa6849;\n",
       "  color: Black;\n",
       "}\n",
       "#T_dca8e_row2_col1 {\n",
       "  background-color: #ed392b;\n",
       "  color: Black;\n",
       "}\n",
       "#T_dca8e_row2_col2, #T_dca8e_row5_col1 {\n",
       "  background-color: #e43027;\n",
       "  color: Black;\n",
       "}\n",
       "#T_dca8e_row2_col3 {\n",
       "  background-color: #e02c26;\n",
       "  color: White;\n",
       "}\n",
       "#T_dca8e_row2_col4 {\n",
       "  background-color: #d32020;\n",
       "  color: White;\n",
       "}\n",
       "#T_dca8e_row3_col0 {\n",
       "  background-color: #fb7b5b;\n",
       "  color: Black;\n",
       "}\n",
       "#T_dca8e_row3_col1 {\n",
       "  background-color: #f5523a;\n",
       "  color: Black;\n",
       "}\n",
       "#T_dca8e_row3_col2 {\n",
       "  background-color: #ef3c2c;\n",
       "  color: Black;\n",
       "}\n",
       "#T_dca8e_row3_col3 {\n",
       "  background-color: #e22e27;\n",
       "  color: Black;\n",
       "}\n",
       "#T_dca8e_row3_col4 {\n",
       "  background-color: #bc141a;\n",
       "  color: White;\n",
       "}\n",
       "#T_dca8e_row4_col0 {\n",
       "  background-color: #fc8666;\n",
       "  color: Black;\n",
       "}\n",
       "#T_dca8e_row4_col1 {\n",
       "  background-color: #f96346;\n",
       "  color: Black;\n",
       "}\n",
       "#T_dca8e_row4_col2 {\n",
       "  background-color: #f7593f;\n",
       "  color: Black;\n",
       "}\n",
       "#T_dca8e_row4_col3 {\n",
       "  background-color: #f24734;\n",
       "  color: Black;\n",
       "}\n",
       "#T_dca8e_row4_col4 {\n",
       "  background-color: #e93529;\n",
       "  color: Black;\n",
       "}\n",
       "#T_dca8e_row5_col0 {\n",
       "  background-color: #fb6e4e;\n",
       "  color: Black;\n",
       "}\n",
       "#T_dca8e_row5_col2 {\n",
       "  background-color: #c9181d;\n",
       "  color: White;\n",
       "}\n",
       "#T_dca8e_row5_col3 {\n",
       "  background-color: #aa1016;\n",
       "  color: White;\n",
       "}\n",
       "#T_dca8e_row5_col4 {\n",
       "  background-color: #67000d;\n",
       "  color: White;\n",
       "}\n",
       "#T_dca8e_row6_col0 {\n",
       "  background-color: #fc7f5f;\n",
       "  color: Black;\n",
       "}\n",
       "#T_dca8e_row6_col1 {\n",
       "  background-color: #fb6d4d;\n",
       "  color: Black;\n",
       "}\n",
       "#T_dca8e_row6_col2 {\n",
       "  background-color: #f44f39;\n",
       "  color: Black;\n",
       "}\n",
       "#T_dca8e_row6_col3 {\n",
       "  background-color: #ee3a2c;\n",
       "  color: Black;\n",
       "}\n",
       "#T_dca8e_row6_col4 {\n",
       "  background-color: #d82422;\n",
       "  color: White;\n",
       "}\n",
       "</style>\n",
       "<table id=\"T_dca8e\">\n",
       "  <caption>Fastest runtimes for all intersection methods.</caption>\n",
       "  <thead>\n",
       "    <tr>\n",
       "      <th class=\"blank level0\" >&nbsp;</th>\n",
       "      <th id=\"T_dca8e_level0_col0\" class=\"col_heading level0 col0\" >10x10</th>\n",
       "      <th id=\"T_dca8e_level0_col1\" class=\"col_heading level0 col1\" >50x50</th>\n",
       "      <th id=\"T_dca8e_level0_col2\" class=\"col_heading level0 col2\" >100x100</th>\n",
       "      <th id=\"T_dca8e_level0_col3\" class=\"col_heading level0 col3\" >200x200</th>\n",
       "      <th id=\"T_dca8e_level0_col4\" class=\"col_heading level0 col4\" >500x500</th>\n",
       "    </tr>\n",
       "  </thead>\n",
       "  <tbody>\n",
       "    <tr>\n",
       "      <th id=\"T_dca8e_level0_row0\" class=\"row_heading level0 row0\" >Building Tree</th>\n",
       "      <td id=\"T_dca8e_row0_col0\" class=\"data row0 col0\" >0.000004</td>\n",
       "      <td id=\"T_dca8e_row0_col1\" class=\"data row0 col1\" >0.000004</td>\n",
       "      <td id=\"T_dca8e_row0_col2\" class=\"data row0 col2\" >0.000005</td>\n",
       "      <td id=\"T_dca8e_row0_col3\" class=\"data row0 col3\" >0.000004</td>\n",
       "      <td id=\"T_dca8e_row0_col4\" class=\"data row0 col4\" >0.000005</td>\n",
       "    </tr>\n",
       "    <tr>\n",
       "      <th id=\"T_dca8e_level0_row1\" class=\"row_heading level0 row1\" >Point:10</th>\n",
       "      <td id=\"T_dca8e_row1_col0\" class=\"data row1 col0\" >0.000402</td>\n",
       "      <td id=\"T_dca8e_row1_col1\" class=\"data row1 col1\" >0.001650</td>\n",
       "      <td id=\"T_dca8e_row1_col2\" class=\"data row1 col2\" >0.002933</td>\n",
       "      <td id=\"T_dca8e_row1_col3\" class=\"data row1 col3\" >0.004336</td>\n",
       "      <td id=\"T_dca8e_row1_col4\" class=\"data row1 col4\" >0.005788</td>\n",
       "    </tr>\n",
       "    <tr>\n",
       "      <th id=\"T_dca8e_level0_row2\" class=\"row_heading level0 row2\" >Point:100</th>\n",
       "      <td id=\"T_dca8e_row2_col0\" class=\"data row2 col0\" >0.002304</td>\n",
       "      <td id=\"T_dca8e_row2_col1\" class=\"data row2 col1\" >0.011428</td>\n",
       "      <td id=\"T_dca8e_row2_col2\" class=\"data row2 col2\" >0.017155</td>\n",
       "      <td id=\"T_dca8e_row2_col3\" class=\"data row2 col3\" >0.021175</td>\n",
       "      <td id=\"T_dca8e_row2_col4\" class=\"data row2 col4\" >0.036392</td>\n",
       "    </tr>\n",
       "    <tr>\n",
       "      <th id=\"T_dca8e_level0_row3\" class=\"row_heading level0 row3\" >Linestring:Halfdiag</th>\n",
       "      <td id=\"T_dca8e_row3_col0\" class=\"data row3 col0\" >0.001079</td>\n",
       "      <td id=\"T_dca8e_row3_col1\" class=\"data row3 col1\" >0.005000</td>\n",
       "      <td id=\"T_dca8e_row3_col2\" class=\"data row3 col2\" >0.010186</td>\n",
       "      <td id=\"T_dca8e_row3_col3\" class=\"data row3 col3\" >0.018900</td>\n",
       "      <td id=\"T_dca8e_row3_col4\" class=\"data row3 col4\" >0.098604</td>\n",
       "    </tr>\n",
       "    <tr>\n",
       "      <th id=\"T_dca8e_level0_row4\" class=\"row_heading level0 row4\" >Linestring:Straight</th>\n",
       "      <td id=\"T_dca8e_row4_col0\" class=\"data row4 col0\" >0.000709</td>\n",
       "      <td id=\"T_dca8e_row4_col1\" class=\"data row4 col1\" >0.002709</td>\n",
       "      <td id=\"T_dca8e_row4_col2\" class=\"data row4 col2\" >0.003856</td>\n",
       "      <td id=\"T_dca8e_row4_col3\" class=\"data row4 col3\" >0.006948</td>\n",
       "      <td id=\"T_dca8e_row4_col4\" class=\"data row4 col4\" >0.013706</td>\n",
       "    </tr>\n",
       "    <tr>\n",
       "      <th id=\"T_dca8e_level0_row5\" class=\"row_heading level0 row5\" >Polygon:Quarter</th>\n",
       "      <td id=\"T_dca8e_row5_col0\" class=\"data row5 col0\" >0.001777</td>\n",
       "      <td id=\"T_dca8e_row5_col1\" class=\"data row5 col1\" >0.017433</td>\n",
       "      <td id=\"T_dca8e_row5_col2\" class=\"data row5 col2\" >0.056226</td>\n",
       "      <td id=\"T_dca8e_row5_col3\" class=\"data row5 col3\" >0.210041</td>\n",
       "      <td id=\"T_dca8e_row5_col4\" class=\"data row5 col4\" >1.281770</td>\n",
       "    </tr>\n",
       "    <tr>\n",
       "      <th id=\"T_dca8e_level0_row6\" class=\"row_heading level0 row6\" >Polygon:Longthin</th>\n",
       "      <td id=\"T_dca8e_row6_col0\" class=\"data row6 col0\" >0.000927</td>\n",
       "      <td id=\"T_dca8e_row6_col1\" class=\"data row6 col1\" >0.001847</td>\n",
       "      <td id=\"T_dca8e_row6_col2\" class=\"data row6 col2\" >0.005357</td>\n",
       "      <td id=\"T_dca8e_row6_col3\" class=\"data row6 col3\" >0.010816</td>\n",
       "      <td id=\"T_dca8e_row6_col4\" class=\"data row6 col4\" >0.030056</td>\n",
       "    </tr>\n",
       "  </tbody>\n",
       "</table>\n"
      ],
      "text/plain": [
       "<pandas.io.formats.style.Styler at 0x7f2f0f03ed60>"
      ]
     },
     "execution_count": 20,
     "metadata": {},
     "output_type": "execute_result"
    }
   ],
   "source": [
    "cmap = cm.Reds\n",
    "norm = mpl.colors.LogNorm(vmin=timings.min().min(), \n",
    "                          vmax=timings.max().max())\n",
    "\n",
    "def cbg(val):\n",
    "    color = mpl.colors.rgb2hex(cmap(norm(val)))\n",
    "    return f\"background-color: {color}\"\n",
    "\n",
    "def ctxt(val):\n",
    "    bg = cmap(norm(val))\n",
    "    c = \"White\" if np.mean(bg[:3]) < 0.4 else \"Black\"\n",
    "    return f\"color: {c}\"\n",
    "\n",
    "timings.astype(np.float).style.applymap(cbg).applymap(ctxt).set_caption(\"Fastest runtimes for all intersection methods.\")"
   ]
  },
  {
   "cell_type": "code",
   "execution_count": 21,
   "metadata": {},
   "outputs": [],
   "source": [
    "fastest_trees = pd.DataFrame(index=cases, columns=[\"{0}x{0}\".format(s) for s in gridsizes])\n",
    "timings_trees = pd.DataFrame(index=cases, columns=[\"{0}x{0}\".format(s) for s in gridsizes])\n",
    "for ci in cases:\n",
    "    for size in gridsizes:\n",
    "        sizecol = \"{0}x{0}\".format(size)\n",
    "        fastest_trees.loc[ci, sizecol] = pd.to_numeric(df_trees.loc[ci, pd.IndexSlice[:, sizecol]]).idxmin()[0]\n",
    "        timings_trees.loc[ci, sizecol] = pd.to_numeric(df_trees.loc[ci, pd.IndexSlice[:, sizecol]]).min()"
   ]
  },
  {
   "cell_type": "code",
   "execution_count": 22,
   "metadata": {},
   "outputs": [
    {
     "data": {
      "text/html": [
       "<style type=\"text/css\">\n",
       "#T_74a91_row0_col0, #T_74a91_row0_col1, #T_74a91_row0_col2, #T_74a91_row0_col3, #T_74a91_row0_col4 {\n",
       "  color: #ff7f0e;\n",
       "}\n",
       "#T_74a91_row1_col0, #T_74a91_row1_col1, #T_74a91_row1_col2, #T_74a91_row1_col3, #T_74a91_row1_col4, #T_74a91_row2_col0, #T_74a91_row2_col1, #T_74a91_row2_col2, #T_74a91_row2_col3, #T_74a91_row2_col4, #T_74a91_row3_col0, #T_74a91_row3_col1, #T_74a91_row3_col2, #T_74a91_row3_col3, #T_74a91_row3_col4, #T_74a91_row4_col0, #T_74a91_row4_col1, #T_74a91_row4_col2, #T_74a91_row4_col3, #T_74a91_row4_col4, #T_74a91_row5_col0, #T_74a91_row5_col1, #T_74a91_row5_col2, #T_74a91_row5_col3, #T_74a91_row5_col4, #T_74a91_row6_col0, #T_74a91_row6_col1, #T_74a91_row6_col2, #T_74a91_row6_col3, #T_74a91_row6_col4 {\n",
       "  color: #d62728;\n",
       "}\n",
       "</style>\n",
       "<table id=\"T_74a91\">\n",
       "  <caption>Fastest intersection method using R-trees for each case and gridsize.</caption>\n",
       "  <thead>\n",
       "    <tr>\n",
       "      <th class=\"blank level0\" >&nbsp;</th>\n",
       "      <th id=\"T_74a91_level0_col0\" class=\"col_heading level0 col0\" >10x10</th>\n",
       "      <th id=\"T_74a91_level0_col1\" class=\"col_heading level0 col1\" >50x50</th>\n",
       "      <th id=\"T_74a91_level0_col2\" class=\"col_heading level0 col2\" >100x100</th>\n",
       "      <th id=\"T_74a91_level0_col3\" class=\"col_heading level0 col3\" >200x200</th>\n",
       "      <th id=\"T_74a91_level0_col4\" class=\"col_heading level0 col4\" >500x500</th>\n",
       "    </tr>\n",
       "  </thead>\n",
       "  <tbody>\n",
       "    <tr>\n",
       "      <th id=\"T_74a91_level0_row0\" class=\"row_heading level0 row0\" >Building Tree</th>\n",
       "      <td id=\"T_74a91_row0_col0\" class=\"data row0 col0\" >filter</td>\n",
       "      <td id=\"T_74a91_row0_col1\" class=\"data row0 col1\" >filter</td>\n",
       "      <td id=\"T_74a91_row0_col2\" class=\"data row0 col2\" >filter</td>\n",
       "      <td id=\"T_74a91_row0_col3\" class=\"data row0 col3\" >filter</td>\n",
       "      <td id=\"T_74a91_row0_col4\" class=\"data row0 col4\" >filter</td>\n",
       "    </tr>\n",
       "    <tr>\n",
       "      <th id=\"T_74a91_level0_row1\" class=\"row_heading level0 row1\" >Point:10</th>\n",
       "      <td id=\"T_74a91_row1_col0\" class=\"data row1 col0\" >pygeos</td>\n",
       "      <td id=\"T_74a91_row1_col1\" class=\"data row1 col1\" >pygeos</td>\n",
       "      <td id=\"T_74a91_row1_col2\" class=\"data row1 col2\" >pygeos</td>\n",
       "      <td id=\"T_74a91_row1_col3\" class=\"data row1 col3\" >pygeos</td>\n",
       "      <td id=\"T_74a91_row1_col4\" class=\"data row1 col4\" >pygeos</td>\n",
       "    </tr>\n",
       "    <tr>\n",
       "      <th id=\"T_74a91_level0_row2\" class=\"row_heading level0 row2\" >Point:100</th>\n",
       "      <td id=\"T_74a91_row2_col0\" class=\"data row2 col0\" >pygeos</td>\n",
       "      <td id=\"T_74a91_row2_col1\" class=\"data row2 col1\" >pygeos</td>\n",
       "      <td id=\"T_74a91_row2_col2\" class=\"data row2 col2\" >pygeos</td>\n",
       "      <td id=\"T_74a91_row2_col3\" class=\"data row2 col3\" >pygeos</td>\n",
       "      <td id=\"T_74a91_row2_col4\" class=\"data row2 col4\" >pygeos</td>\n",
       "    </tr>\n",
       "    <tr>\n",
       "      <th id=\"T_74a91_level0_row3\" class=\"row_heading level0 row3\" >Linestring:Halfdiag</th>\n",
       "      <td id=\"T_74a91_row3_col0\" class=\"data row3 col0\" >pygeos</td>\n",
       "      <td id=\"T_74a91_row3_col1\" class=\"data row3 col1\" >pygeos</td>\n",
       "      <td id=\"T_74a91_row3_col2\" class=\"data row3 col2\" >pygeos</td>\n",
       "      <td id=\"T_74a91_row3_col3\" class=\"data row3 col3\" >pygeos</td>\n",
       "      <td id=\"T_74a91_row3_col4\" class=\"data row3 col4\" >pygeos</td>\n",
       "    </tr>\n",
       "    <tr>\n",
       "      <th id=\"T_74a91_level0_row4\" class=\"row_heading level0 row4\" >Linestring:Straight</th>\n",
       "      <td id=\"T_74a91_row4_col0\" class=\"data row4 col0\" >pygeos</td>\n",
       "      <td id=\"T_74a91_row4_col1\" class=\"data row4 col1\" >pygeos</td>\n",
       "      <td id=\"T_74a91_row4_col2\" class=\"data row4 col2\" >pygeos</td>\n",
       "      <td id=\"T_74a91_row4_col3\" class=\"data row4 col3\" >pygeos</td>\n",
       "      <td id=\"T_74a91_row4_col4\" class=\"data row4 col4\" >pygeos</td>\n",
       "    </tr>\n",
       "    <tr>\n",
       "      <th id=\"T_74a91_level0_row5\" class=\"row_heading level0 row5\" >Polygon:Quarter</th>\n",
       "      <td id=\"T_74a91_row5_col0\" class=\"data row5 col0\" >pygeos</td>\n",
       "      <td id=\"T_74a91_row5_col1\" class=\"data row5 col1\" >pygeos</td>\n",
       "      <td id=\"T_74a91_row5_col2\" class=\"data row5 col2\" >pygeos</td>\n",
       "      <td id=\"T_74a91_row5_col3\" class=\"data row5 col3\" >pygeos</td>\n",
       "      <td id=\"T_74a91_row5_col4\" class=\"data row5 col4\" >pygeos</td>\n",
       "    </tr>\n",
       "    <tr>\n",
       "      <th id=\"T_74a91_level0_row6\" class=\"row_heading level0 row6\" >Polygon:Longthin</th>\n",
       "      <td id=\"T_74a91_row6_col0\" class=\"data row6 col0\" >pygeos</td>\n",
       "      <td id=\"T_74a91_row6_col1\" class=\"data row6 col1\" >pygeos</td>\n",
       "      <td id=\"T_74a91_row6_col2\" class=\"data row6 col2\" >pygeos</td>\n",
       "      <td id=\"T_74a91_row6_col3\" class=\"data row6 col3\" >pygeos</td>\n",
       "      <td id=\"T_74a91_row6_col4\" class=\"data row6 col4\" >pygeos</td>\n",
       "    </tr>\n",
       "  </tbody>\n",
       "</table>\n"
      ],
      "text/plain": [
       "<pandas.io.formats.style.Styler at 0x7f2f0c907d30>"
      ]
     },
     "execution_count": 22,
     "metadata": {},
     "output_type": "execute_result"
    }
   ],
   "source": [
    "fastest_trees.style.applymap(c).set_caption(\"Fastest intersection method using R-trees for each case and gridsize.\")"
   ]
  },
  {
   "cell_type": "code",
   "execution_count": 23,
   "metadata": {},
   "outputs": [
    {
     "name": "stderr",
     "output_type": "stream",
     "text": [
      "/tmp/ipykernel_71205/2948525160.py:14: DeprecationWarning: `np.float` is a deprecated alias for the builtin `float`. To silence this warning, use `float` by itself. Doing this will not modify any behavior and is safe. If you specifically wanted the numpy scalar type, use `np.float64` here.\n",
      "Deprecated in NumPy 1.20; for more details and guidance: https://numpy.org/devdocs/release/1.20.0-notes.html#deprecations\n",
      "  timings_trees.astype(np.float).style.applymap(cbg).applymap(ctxt).set_caption(\"Fastest runtimes for methods using R-trees.\")\n"
     ]
    },
    {
     "data": {
      "text/html": [
       "<style type=\"text/css\">\n",
       "#T_fb283_row0_col0 {\n",
       "  background-color: #fedbcc;\n",
       "  color: Black;\n",
       "}\n",
       "#T_fb283_row0_col1 {\n",
       "  background-color: #ffece4;\n",
       "  color: Black;\n",
       "}\n",
       "#T_fb283_row0_col2, #T_fb283_row0_col4 {\n",
       "  background-color: #fff0e9;\n",
       "  color: Black;\n",
       "}\n",
       "#T_fb283_row0_col3 {\n",
       "  background-color: #fee7db;\n",
       "  color: Black;\n",
       "}\n",
       "#T_fb283_row1_col0 {\n",
       "  background-color: #fc9474;\n",
       "  color: Black;\n",
       "}\n",
       "#T_fb283_row1_col1 {\n",
       "  background-color: #fb7151;\n",
       "  color: Black;\n",
       "}\n",
       "#T_fb283_row1_col2, #T_fb283_row4_col2 {\n",
       "  background-color: #f7593f;\n",
       "  color: Black;\n",
       "}\n",
       "#T_fb283_row1_col3 {\n",
       "  background-color: #f14130;\n",
       "  color: Black;\n",
       "}\n",
       "#T_fb283_row1_col4 {\n",
       "  background-color: #cf1c1f;\n",
       "  color: White;\n",
       "}\n",
       "#T_fb283_row2_col0 {\n",
       "  background-color: #fa6849;\n",
       "  color: Black;\n",
       "}\n",
       "#T_fb283_row2_col1 {\n",
       "  background-color: #de2b25;\n",
       "  color: White;\n",
       "}\n",
       "#T_fb283_row2_col2 {\n",
       "  background-color: #c5171c;\n",
       "  color: White;\n",
       "}\n",
       "#T_fb283_row2_col3 {\n",
       "  background-color: #a60f15;\n",
       "  color: White;\n",
       "}\n",
       "#T_fb283_row2_col4, #T_fb283_row5_col4 {\n",
       "  background-color: #67000d;\n",
       "  color: White;\n",
       "}\n",
       "#T_fb283_row3_col0 {\n",
       "  background-color: #fb7b5b;\n",
       "  color: Black;\n",
       "}\n",
       "#T_fb283_row3_col1 {\n",
       "  background-color: #f5523a;\n",
       "  color: Black;\n",
       "}\n",
       "#T_fb283_row3_col2 {\n",
       "  background-color: #ef3c2c;\n",
       "  color: Black;\n",
       "}\n",
       "#T_fb283_row3_col3 {\n",
       "  background-color: #e22e27;\n",
       "  color: Black;\n",
       "}\n",
       "#T_fb283_row3_col4 {\n",
       "  background-color: #bc141a;\n",
       "  color: White;\n",
       "}\n",
       "#T_fb283_row4_col0 {\n",
       "  background-color: #fc8666;\n",
       "  color: Black;\n",
       "}\n",
       "#T_fb283_row4_col1 {\n",
       "  background-color: #f96346;\n",
       "  color: Black;\n",
       "}\n",
       "#T_fb283_row4_col3 {\n",
       "  background-color: #f24734;\n",
       "  color: Black;\n",
       "}\n",
       "#T_fb283_row4_col4 {\n",
       "  background-color: #e93529;\n",
       "  color: Black;\n",
       "}\n",
       "#T_fb283_row5_col0 {\n",
       "  background-color: #fb6e4e;\n",
       "  color: Black;\n",
       "}\n",
       "#T_fb283_row5_col1 {\n",
       "  background-color: #e43027;\n",
       "  color: Black;\n",
       "}\n",
       "#T_fb283_row5_col2 {\n",
       "  background-color: #c9181d;\n",
       "  color: White;\n",
       "}\n",
       "#T_fb283_row5_col3 {\n",
       "  background-color: #aa1016;\n",
       "  color: White;\n",
       "}\n",
       "#T_fb283_row6_col0 {\n",
       "  background-color: #fc7f5f;\n",
       "  color: Black;\n",
       "}\n",
       "#T_fb283_row6_col1 {\n",
       "  background-color: #fb6d4d;\n",
       "  color: Black;\n",
       "}\n",
       "#T_fb283_row6_col2 {\n",
       "  background-color: #f44f39;\n",
       "  color: Black;\n",
       "}\n",
       "#T_fb283_row6_col3 {\n",
       "  background-color: #ee3a2c;\n",
       "  color: Black;\n",
       "}\n",
       "#T_fb283_row6_col4 {\n",
       "  background-color: #d82422;\n",
       "  color: White;\n",
       "}\n",
       "</style>\n",
       "<table id=\"T_fb283\">\n",
       "  <caption>Fastest runtimes for methods using R-trees.</caption>\n",
       "  <thead>\n",
       "    <tr>\n",
       "      <th class=\"blank level0\" >&nbsp;</th>\n",
       "      <th id=\"T_fb283_level0_col0\" class=\"col_heading level0 col0\" >10x10</th>\n",
       "      <th id=\"T_fb283_level0_col1\" class=\"col_heading level0 col1\" >50x50</th>\n",
       "      <th id=\"T_fb283_level0_col2\" class=\"col_heading level0 col2\" >100x100</th>\n",
       "      <th id=\"T_fb283_level0_col3\" class=\"col_heading level0 col3\" >200x200</th>\n",
       "      <th id=\"T_fb283_level0_col4\" class=\"col_heading level0 col4\" >500x500</th>\n",
       "    </tr>\n",
       "  </thead>\n",
       "  <tbody>\n",
       "    <tr>\n",
       "      <th id=\"T_fb283_level0_row0\" class=\"row_heading level0 row0\" >Building Tree</th>\n",
       "      <td id=\"T_fb283_row0_col0\" class=\"data row0 col0\" >0.000022</td>\n",
       "      <td id=\"T_fb283_row0_col1\" class=\"data row0 col1\" >0.000007</td>\n",
       "      <td id=\"T_fb283_row0_col2\" class=\"data row0 col2\" >0.000005</td>\n",
       "      <td id=\"T_fb283_row0_col3\" class=\"data row0 col3\" >0.000011</td>\n",
       "      <td id=\"T_fb283_row0_col4\" class=\"data row0 col4\" >0.000005</td>\n",
       "    </tr>\n",
       "    <tr>\n",
       "      <th id=\"T_fb283_level0_row1\" class=\"row_heading level0 row1\" >Point:10</th>\n",
       "      <td id=\"T_fb283_row1_col0\" class=\"data row1 col0\" >0.000402</td>\n",
       "      <td id=\"T_fb283_row1_col1\" class=\"data row1 col1\" >0.001650</td>\n",
       "      <td id=\"T_fb283_row1_col2\" class=\"data row1 col2\" >0.003868</td>\n",
       "      <td id=\"T_fb283_row1_col3\" class=\"data row1 col3\" >0.008428</td>\n",
       "      <td id=\"T_fb283_row1_col4\" class=\"data row1 col4\" >0.043756</td>\n",
       "    </tr>\n",
       "    <tr>\n",
       "      <th id=\"T_fb283_level0_row2\" class=\"row_heading level0 row2\" >Point:100</th>\n",
       "      <td id=\"T_fb283_row2_col0\" class=\"data row2 col0\" >0.002304</td>\n",
       "      <td id=\"T_fb283_row2_col1\" class=\"data row2 col1\" >0.021528</td>\n",
       "      <td id=\"T_fb283_row2_col2\" class=\"data row2 col2\" >0.065669</td>\n",
       "      <td id=\"T_fb283_row2_col3\" class=\"data row2 col3\" >0.241989</td>\n",
       "      <td id=\"T_fb283_row2_col4\" class=\"data row2 col4\" >1.370588</td>\n",
       "    </tr>\n",
       "    <tr>\n",
       "      <th id=\"T_fb283_level0_row3\" class=\"row_heading level0 row3\" >Linestring:Halfdiag</th>\n",
       "      <td id=\"T_fb283_row3_col0\" class=\"data row3 col0\" >0.001079</td>\n",
       "      <td id=\"T_fb283_row3_col1\" class=\"data row3 col1\" >0.005000</td>\n",
       "      <td id=\"T_fb283_row3_col2\" class=\"data row3 col2\" >0.010186</td>\n",
       "      <td id=\"T_fb283_row3_col3\" class=\"data row3 col3\" >0.018900</td>\n",
       "      <td id=\"T_fb283_row3_col4\" class=\"data row3 col4\" >0.098604</td>\n",
       "    </tr>\n",
       "    <tr>\n",
       "      <th id=\"T_fb283_level0_row4\" class=\"row_heading level0 row4\" >Linestring:Straight</th>\n",
       "      <td id=\"T_fb283_row4_col0\" class=\"data row4 col0\" >0.000709</td>\n",
       "      <td id=\"T_fb283_row4_col1\" class=\"data row4 col1\" >0.002709</td>\n",
       "      <td id=\"T_fb283_row4_col2\" class=\"data row4 col2\" >0.003856</td>\n",
       "      <td id=\"T_fb283_row4_col3\" class=\"data row4 col3\" >0.006948</td>\n",
       "      <td id=\"T_fb283_row4_col4\" class=\"data row4 col4\" >0.013706</td>\n",
       "    </tr>\n",
       "    <tr>\n",
       "      <th id=\"T_fb283_level0_row5\" class=\"row_heading level0 row5\" >Polygon:Quarter</th>\n",
       "      <td id=\"T_fb283_row5_col0\" class=\"data row5 col0\" >0.001777</td>\n",
       "      <td id=\"T_fb283_row5_col1\" class=\"data row5 col1\" >0.017433</td>\n",
       "      <td id=\"T_fb283_row5_col2\" class=\"data row5 col2\" >0.056226</td>\n",
       "      <td id=\"T_fb283_row5_col3\" class=\"data row5 col3\" >0.210041</td>\n",
       "      <td id=\"T_fb283_row5_col4\" class=\"data row5 col4\" >1.281770</td>\n",
       "    </tr>\n",
       "    <tr>\n",
       "      <th id=\"T_fb283_level0_row6\" class=\"row_heading level0 row6\" >Polygon:Longthin</th>\n",
       "      <td id=\"T_fb283_row6_col0\" class=\"data row6 col0\" >0.000927</td>\n",
       "      <td id=\"T_fb283_row6_col1\" class=\"data row6 col1\" >0.001847</td>\n",
       "      <td id=\"T_fb283_row6_col2\" class=\"data row6 col2\" >0.005357</td>\n",
       "      <td id=\"T_fb283_row6_col3\" class=\"data row6 col3\" >0.010816</td>\n",
       "      <td id=\"T_fb283_row6_col4\" class=\"data row6 col4\" >0.030056</td>\n",
       "    </tr>\n",
       "  </tbody>\n",
       "</table>\n"
      ],
      "text/plain": [
       "<pandas.io.formats.style.Styler at 0x7f2f0c9036a0>"
      ]
     },
     "execution_count": 23,
     "metadata": {},
     "output_type": "execute_result"
    }
   ],
   "source": [
    "cmap = cm.Reds\n",
    "norm = mpl.colors.LogNorm(vmin=timings.min().min(), \n",
    "                          vmax=timings.max().max())\n",
    "\n",
    "def cbg(val):\n",
    "    color = mpl.colors.rgb2hex(cmap(norm(val)))\n",
    "    return f\"background-color: {color}\"\n",
    "\n",
    "def ctxt(val):\n",
    "    bg = cmap(norm(val))\n",
    "    c = \"White\" if np.mean(bg[:3]) < 0.4 else \"Black\"\n",
    "    return f\"color: {c}\"\n",
    "\n",
    "timings_trees.astype(np.float).style.applymap(cbg).applymap(ctxt).set_caption(\"Fastest runtimes for methods using R-trees.\")"
   ]
  },
  {
   "cell_type": "code",
   "execution_count": 24,
   "metadata": {},
   "outputs": [
    {
     "name": "stderr",
     "output_type": "stream",
     "text": [
      "/tmp/ipykernel_71205/2282509067.py:8: MatplotlibDeprecationWarning: The 'b' parameter of grid() has been renamed 'visible' since Matplotlib 3.5; support for the old name will be dropped two minor releases later.\n",
      "  ax.grid(b=True)\n",
      "/tmp/ipykernel_71205/2282509067.py:8: MatplotlibDeprecationWarning: The 'b' parameter of grid() has been renamed 'visible' since Matplotlib 3.5; support for the old name will be dropped two minor releases later.\n",
      "  ax.grid(b=True)\n",
      "/tmp/ipykernel_71205/2282509067.py:8: MatplotlibDeprecationWarning: The 'b' parameter of grid() has been renamed 'visible' since Matplotlib 3.5; support for the old name will be dropped two minor releases later.\n",
      "  ax.grid(b=True)\n",
      "/tmp/ipykernel_71205/2282509067.py:8: MatplotlibDeprecationWarning: The 'b' parameter of grid() has been renamed 'visible' since Matplotlib 3.5; support for the old name will be dropped two minor releases later.\n",
      "  ax.grid(b=True)\n",
      "/tmp/ipykernel_71205/2282509067.py:8: MatplotlibDeprecationWarning: The 'b' parameter of grid() has been renamed 'visible' since Matplotlib 3.5; support for the old name will be dropped two minor releases later.\n",
      "  ax.grid(b=True)\n",
      "/tmp/ipykernel_71205/2282509067.py:8: MatplotlibDeprecationWarning: The 'b' parameter of grid() has been renamed 'visible' since Matplotlib 3.5; support for the old name will be dropped two minor releases later.\n",
      "  ax.grid(b=True)\n",
      "/tmp/ipykernel_71205/2282509067.py:8: MatplotlibDeprecationWarning: The 'b' parameter of grid() has been renamed 'visible' since Matplotlib 3.5; support for the old name will be dropped two minor releases later.\n",
      "  ax.grid(b=True)\n"
     ]
    },
    {
     "data": {
      "image/png": "[encoded data removed]",
      "text/plain": [
       "<Figure size 864x1008 with 8 Axes>"
      ]
     },
     "metadata": {
      "needs_background": "light"
     },
     "output_type": "display_data"
    }
   ],
   "source": [
    "fig, axes = plt.subplots(int(np.ceil(len(cases)/2)), 2, figsize=(12, 14), sharex=True)\n",
    "for i, c in enumerate(cases):\n",
    "    ax = axes.ravel()[i]\n",
    "    row = df.loc[[c]].stack()\n",
    "    row.loc[c].plot.bar(ax=ax)\n",
    "    ax.set_ylabel(\"time (s)\")\n",
    "    ax.set_title(c)\n",
    "    ax.grid(visible=True)\n",
    "    ax.set_yscale(\"log\")\n",
    "    if len(cases)%2 != 0:\n",
    "        axes[-1, -1].set_visible(False)\n",
    "    if i>0:\n",
    "        ax.set_ylim(1e-2, 60)\n",
    "fig.tight_layout()"
   ]
  },
  {
   "cell_type": "markdown",
   "metadata": {},
   "source": [
    "How much faster is `X` than `Y`?"
   ]
  },
  {
   "cell_type": "code",
   "execution_count": 25,
   "metadata": {},
   "outputs": [
    {
     "data": {
      "text/html": [
       "<div>\n",
       "<style scoped>\n",
       "    .dataframe tbody tr th:only-of-type {\n",
       "        vertical-align: middle;\n",
       "    }\n",
       "\n",
       "    .dataframe tbody tr th {\n",
       "        vertical-align: top;\n",
       "    }\n",
       "\n",
       "    .dataframe thead th {\n",
       "        text-align: right;\n",
       "    }\n",
       "</style>\n",
       "<table border=\"1\" class=\"dataframe\">\n",
       "  <thead>\n",
       "    <tr style=\"text-align: right;\">\n",
       "      <th></th>\n",
       "      <th>10x10</th>\n",
       "      <th>50x50</th>\n",
       "      <th>100x100</th>\n",
       "      <th>200x200</th>\n",
       "      <th>500x500</th>\n",
       "    </tr>\n",
       "  </thead>\n",
       "  <tbody>\n",
       "    <tr>\n",
       "      <th>Building Tree</th>\n",
       "      <td>0.000731</td>\n",
       "      <td>0.000065</td>\n",
       "      <td>0.000068</td>\n",
       "      <td>0.000004</td>\n",
       "      <td>0.000001</td>\n",
       "    </tr>\n",
       "    <tr>\n",
       "      <th>Point:10</th>\n",
       "      <td>0.792365</td>\n",
       "      <td>0.48887</td>\n",
       "      <td>0.107536</td>\n",
       "      <td>0.088251</td>\n",
       "      <td>0.018631</td>\n",
       "    </tr>\n",
       "    <tr>\n",
       "      <th>Point:100</th>\n",
       "      <td>NaN</td>\n",
       "      <td>0.250542</td>\n",
       "      <td>0.139194</td>\n",
       "      <td>0.051876</td>\n",
       "      <td>0.014463</td>\n",
       "    </tr>\n",
       "    <tr>\n",
       "      <th>Linestring:Halfdiag</th>\n",
       "      <td>2.537968</td>\n",
       "      <td>2.183167</td>\n",
       "      <td>2.020972</td>\n",
       "      <td>0.974496</td>\n",
       "      <td>0.489805</td>\n",
       "    </tr>\n",
       "    <tr>\n",
       "      <th>Linestring:Straight</th>\n",
       "      <td>2.960316</td>\n",
       "      <td>2.248672</td>\n",
       "      <td>4.523994</td>\n",
       "      <td>2.393316</td>\n",
       "      <td>2.877007</td>\n",
       "    </tr>\n",
       "    <tr>\n",
       "      <th>Polygon:Quarter</th>\n",
       "      <td>0.719221</td>\n",
       "      <td>1.545687</td>\n",
       "      <td>1.961772</td>\n",
       "      <td>1.565511</td>\n",
       "      <td>1.900859</td>\n",
       "    </tr>\n",
       "    <tr>\n",
       "      <th>Polygon:Longthin</th>\n",
       "      <td>1.318367</td>\n",
       "      <td>7.334208</td>\n",
       "      <td>14.779888</td>\n",
       "      <td>31.933184</td>\n",
       "      <td>62.749413</td>\n",
       "    </tr>\n",
       "  </tbody>\n",
       "</table>\n",
       "</div>"
      ],
      "text/plain": [
       "                        10x10     50x50    100x100    200x200    500x500\n",
       "Building Tree        0.000731  0.000065   0.000068   0.000004   0.000001\n",
       "Point:10             0.792365   0.48887   0.107536   0.088251   0.018631\n",
       "Point:100                 NaN  0.250542   0.139194   0.051876   0.014463\n",
       "Linestring:Halfdiag  2.537968  2.183167   2.020972   0.974496   0.489805\n",
       "Linestring:Straight  2.960316  2.248672   4.523994   2.393316   2.877007\n",
       "Polygon:Quarter      0.719221  1.545687   1.961772   1.565511   1.900859\n",
       "Polygon:Longthin     1.318367  7.334208  14.779888  31.933184  62.749413"
      ]
     },
     "execution_count": 25,
     "metadata": {},
     "output_type": "execute_result"
    }
   ],
   "source": [
    "struct_df / strtree_df"
   ]
  },
  {
   "cell_type": "code",
   "execution_count": 26,
   "metadata": {},
   "outputs": [
    {
     "data": {
      "text/html": [
       "<div>\n",
       "<style scoped>\n",
       "    .dataframe tbody tr th:only-of-type {\n",
       "        vertical-align: middle;\n",
       "    }\n",
       "\n",
       "    .dataframe tbody tr th {\n",
       "        vertical-align: top;\n",
       "    }\n",
       "\n",
       "    .dataframe thead th {\n",
       "        text-align: right;\n",
       "    }\n",
       "</style>\n",
       "<table border=\"1\" class=\"dataframe\">\n",
       "  <thead>\n",
       "    <tr style=\"text-align: right;\">\n",
       "      <th></th>\n",
       "      <th>10x10</th>\n",
       "      <th>50x50</th>\n",
       "      <th>100x100</th>\n",
       "      <th>200x200</th>\n",
       "      <th>500x500</th>\n",
       "    </tr>\n",
       "  </thead>\n",
       "  <tbody>\n",
       "    <tr>\n",
       "      <th>Building Tree</th>\n",
       "      <td>2.859636</td>\n",
       "      <td>1.021219</td>\n",
       "      <td>1.940666</td>\n",
       "      <td>1.441979</td>\n",
       "      <td>1.545892</td>\n",
       "    </tr>\n",
       "    <tr>\n",
       "      <th>Point:10</th>\n",
       "      <td>13.698273</td>\n",
       "      <td>3.291287</td>\n",
       "      <td>7.050704</td>\n",
       "      <td>5.829301</td>\n",
       "      <td>7.100645</td>\n",
       "    </tr>\n",
       "    <tr>\n",
       "      <th>Point:100</th>\n",
       "      <td>5.798845</td>\n",
       "      <td>2.118838</td>\n",
       "      <td>1.876827</td>\n",
       "      <td>1.686815</td>\n",
       "      <td>1.835797</td>\n",
       "    </tr>\n",
       "    <tr>\n",
       "      <th>Linestring:Halfdiag</th>\n",
       "      <td>2.598924</td>\n",
       "      <td>2.102957</td>\n",
       "      <td>2.228777</td>\n",
       "      <td>3.909445</td>\n",
       "      <td>4.736566</td>\n",
       "    </tr>\n",
       "    <tr>\n",
       "      <th>Linestring:Straight</th>\n",
       "      <td>2.848213</td>\n",
       "      <td>2.55553</td>\n",
       "      <td>2.92461</td>\n",
       "      <td>3.099097</td>\n",
       "      <td>4.022425</td>\n",
       "    </tr>\n",
       "    <tr>\n",
       "      <th>Polygon:Quarter</th>\n",
       "      <td>6.430908</td>\n",
       "      <td>6.443166</td>\n",
       "      <td>6.240788</td>\n",
       "      <td>7.019544</td>\n",
       "      <td>6.210573</td>\n",
       "    </tr>\n",
       "    <tr>\n",
       "      <th>Polygon:Longthin</th>\n",
       "      <td>3.777643</td>\n",
       "      <td>8.036048</td>\n",
       "      <td>3.586074</td>\n",
       "      <td>3.085785</td>\n",
       "      <td>3.084189</td>\n",
       "    </tr>\n",
       "  </tbody>\n",
       "</table>\n",
       "</div>"
      ],
      "text/plain": [
       "                         10x10     50x50   100x100   200x200   500x500\n",
       "Building Tree         2.859636  1.021219  1.940666  1.441979  1.545892\n",
       "Point:10             13.698273  3.291287  7.050704  5.829301  7.100645\n",
       "Point:100             5.798845  2.118838  1.876827  1.686815  1.835797\n",
       "Linestring:Halfdiag   2.598924  2.102957  2.228777  3.909445  4.736566\n",
       "Linestring:Straight   2.848213   2.55553   2.92461  3.099097  4.022425\n",
       "Polygon:Quarter       6.430908  6.443166  6.240788  7.019544  6.210573\n",
       "Polygon:Longthin      3.777643  8.036048  3.586074  3.085785  3.084189"
      ]
     },
     "execution_count": 26,
     "metadata": {},
     "output_type": "execute_result"
    }
   ],
   "source": [
    "strtree_df / pygeos_df"
   ]
  },
  {
   "cell_type": "code",
   "execution_count": 28,
   "metadata": {},
   "outputs": [],
   "source": [
    "import numpy as np\n",
    "import pygeos\n",
    "\n",
    "# array with pygeos geometries\n",
    "arr =  ix2.rtree.geometries\n",
    "\n",
    "# shape\n",
    "geom = pygeos.io.from_wkb(shp.wkb)"
   ]
  },
  {
   "cell_type": "code",
   "execution_count": 29,
   "metadata": {},
   "outputs": [],
   "source": [
    "# convert to chunked dask array\n",
    "import dask.array\n",
    "arr_dask = dask.array.from_array(ix2.rtree.geometries, chunks=50_000)"
   ]
  },
  {
   "cell_type": "code",
   "execution_count": 30,
   "metadata": {},
   "outputs": [],
   "source": [
    "# %%timeit\n",
    "# calculate single-threaded\n",
    "res1 = pygeos.intersection(arr, geom)"
   ]
  },
  {
   "cell_type": "code",
   "execution_count": 31,
   "metadata": {},
   "outputs": [],
   "source": [
    "def ix_area(icell, geom):\n",
    "    return pygeos.area(pygeos.intersection(icell, geom))"
   ]
  },
  {
   "cell_type": "code",
   "execution_count": 33,
   "metadata": {},
   "outputs": [],
   "source": [
    "import time"
   ]
  },
  {
   "cell_type": "code",
   "execution_count": 34,
   "metadata": {},
   "outputs": [],
   "source": [
    "time_mean = []\n",
    "\n",
    "for n in (1, 2, 3, 4, 6, 8):\n",
    "    # define the operation\n",
    "    arr_dask = dask.array.from_array(arr, chunks=int(len(arr) / n))\n",
    "    res = arr_dask.map_blocks(pygeos.distance, geom, dtype=float)\n",
    "\n",
    "    # run the benchmark 10 times\n",
    "    times = []\n",
    "    for _ in range(10):\n",
    "        before = time.time()\n",
    "        if n == 1:\n",
    "            res.compute(scheduler=\"single-threaded\", optimize_graph=False)\n",
    "        else:\n",
    "            res.compute(scheduler=\"threads\", optimize_graph=False, num_workers=n)\n",
    "        times.append(time.time() - before)\n",
    "\n",
    "    time_mean.append(np.mean(times))"
   ]
  },
  {
   "cell_type": "code",
   "execution_count": 35,
   "metadata": {},
   "outputs": [
    {
     "data": {
      "text/plain": [
       "[0.3379242420196533,\n",
       " 0.17082784175872803,\n",
       " 0.11625323295593262,\n",
       " 0.09478495121002198,\n",
       " 0.09290294647216797,\n",
       " 0.08215615749359131]"
      ]
     },
     "execution_count": 35,
     "metadata": {},
     "output_type": "execute_result"
    }
   ],
   "source": [
    "time_mean"
   ]
  },
  {
   "cell_type": "code",
   "execution_count": 36,
   "metadata": {},
   "outputs": [],
   "source": [
    "# %%timeit\n",
    "# threaded with dask\n",
    "res2 = arr_dask.map_blocks(ix_area, geom, dtype=float)\n",
    "a = res2.compute()"
   ]
  },
  {
   "cell_type": "code",
   "execution_count": 37,
   "metadata": {},
   "outputs": [],
   "source": [
    "a0 = pygeos.area(res1)"
   ]
  },
  {
   "cell_type": "code",
   "execution_count": 38,
   "metadata": {},
   "outputs": [
    {
     "data": {
      "text/plain": [
       "array([4., 4., 4., ..., 4., 4., 4.])"
      ]
     },
     "execution_count": 38,
     "metadata": {},
     "output_type": "execute_result"
    }
   ],
   "source": [
    "pygeos.area(arr)"
   ]
  },
  {
   "cell_type": "code",
   "execution_count": 39,
   "metadata": {},
   "outputs": [
    {
     "data": {
      "text/plain": [
       "2.0"
      ]
     },
     "execution_count": 39,
     "metadata": {},
     "output_type": "execute_result"
    }
   ],
   "source": [
    "pygeos.area(res1[0])"
   ]
  },
  {
   "cell_type": "code",
   "execution_count": 40,
   "metadata": {},
   "outputs": [
    {
     "data": {
      "text/plain": [
       "array([2., 2., 2., 2., 2., 2., 2., 2., 2., 2., 2., 2., 2., 2., 2., 2., 2.,\n",
       "       2., 2., 2., 2., 2., 2., 2., 2., 2., 2., 2., 2., 2., 2., 2., 2., 2.,\n",
       "       2., 2., 2., 2., 2., 2., 2., 2., 2., 2., 2., 2., 2., 2., 2., 2., 2.,\n",
       "       2., 2., 2., 2., 2., 2., 2., 2., 2., 2., 2., 2., 2., 2., 2., 2., 2.,\n",
       "       2., 2., 2., 2., 2., 2., 2., 2., 2., 2., 2., 2., 2., 2., 2., 2., 2.,\n",
       "       2., 2., 2., 2., 2., 2., 2., 2., 2., 2., 2., 2., 2., 2., 2., 2., 2.,\n",
       "       2., 2., 2., 2., 2., 2., 2., 2., 2., 2., 2., 2., 2., 2., 2., 2., 2.,\n",
       "       2., 2., 2., 2., 2., 2., 2., 2., 2., 2., 2., 2., 2., 2., 2., 2., 2.,\n",
       "       2., 2., 2., 2., 2., 2., 2., 2., 2., 2., 2., 2., 2., 2., 2., 2., 2.,\n",
       "       2., 2., 2., 2., 2., 2., 2., 2., 2., 2., 2., 2., 2., 2., 2., 2., 2.,\n",
       "       2., 2., 2., 2., 2., 2., 2., 2., 2., 2., 2., 2., 2., 2., 2., 2., 2.,\n",
       "       2., 2., 2., 2., 2., 2., 2., 2., 2., 2., 2., 2., 2., 2., 2., 2., 2.,\n",
       "       2., 2., 2., 2., 2., 2., 2., 2., 2., 2., 2., 2., 2., 2., 2., 2., 2.,\n",
       "       2., 2., 2., 2., 2., 2., 2., 2., 2., 2., 2., 2., 2., 2., 2., 2., 2.,\n",
       "       2., 2., 2., 2., 2., 2., 2., 2., 2., 2., 2., 2., 2., 2., 2., 2., 2.,\n",
       "       2., 2., 2., 2., 2., 2., 2., 2., 2., 2., 2., 2., 2., 2., 2., 2., 2.,\n",
       "       2., 2., 2., 2., 2., 2., 2., 2., 2., 2., 2., 2., 2., 2., 2., 2., 2.,\n",
       "       2., 2., 2., 2., 2., 2., 2., 2., 2., 2., 2., 2., 2., 2., 2., 2., 2.,\n",
       "       2., 2., 2., 2., 2., 2., 2., 2., 2., 2., 2., 2., 2., 2., 2., 2., 2.,\n",
       "       2., 2., 2., 2., 2., 2., 2., 2., 2., 2., 2., 2., 2., 2., 2., 2., 2.,\n",
       "       2., 2., 2., 2., 2., 2., 2., 2., 2., 2., 2., 2., 2., 2., 2., 2., 2.,\n",
       "       2., 2., 2., 2., 2., 2., 2., 2., 2., 2., 2., 2., 2., 2., 2., 2., 2.,\n",
       "       2., 2., 2., 2., 2., 2., 2., 2., 2., 2., 2., 2., 2., 2., 2., 2., 2.,\n",
       "       2., 2., 2., 2., 2., 2., 2., 2., 2., 2., 2., 2., 2., 2., 2., 2., 2.,\n",
       "       2., 2., 2., 2., 2., 2., 2., 2., 2., 2., 2., 2., 2., 2., 2., 2., 2.,\n",
       "       2., 2., 2., 2., 2., 2., 2., 2., 2., 2., 2., 2., 2., 2., 2., 2., 2.,\n",
       "       2., 2., 2., 2., 2., 2., 2., 2., 2., 2., 2., 2., 2., 2., 2., 2., 2.,\n",
       "       2., 2., 2., 2., 2., 2., 2., 2., 2., 2., 2., 2., 2., 2., 2., 2., 2.,\n",
       "       2., 2., 2., 2., 2., 2., 2., 2., 2., 2., 2., 2., 2., 2., 2., 2., 2.,\n",
       "       2., 2., 2., 2., 2., 2., 1.])"
      ]
     },
     "execution_count": 40,
     "metadata": {},
     "output_type": "execute_result"
    }
   ],
   "source": [
    "a[a > 0]"
   ]
  },
  {
   "cell_type": "code",
   "execution_count": 41,
   "metadata": {},
   "outputs": [
    {
     "data": {
      "text/plain": [
       "array([[     0,      0,      0, ...,      0,      0,      0],\n",
       "       [249500, 249501, 249000, ...,    501,      0,      1]])"
      ]
     },
     "execution_count": 41,
     "metadata": {},
     "output_type": "execute_result"
    }
   ],
   "source": [
    "ix2.rtree.query_bulk(geom, predicate=\"intersects\")"
   ]
  },
  {
   "cell_type": "code",
   "execution_count": 42,
   "metadata": {},
   "outputs": [],
   "source": [
    "# from pandas.util.testing\n",
    "from functools import wraps\n",
    "\n",
    "def test_parallel(num_threads=2, kwargs_list=None):\n",
    "    \"\"\"Decorator to run the same function multiple times in parallel.\n",
    "\n",
    "    Parameters\n",
    "    ----------\n",
    "    num_threads : int, optional\n",
    "        The number of times the function is run in parallel.\n",
    "    kwargs_list : list of dicts, optional\n",
    "        The list of kwargs to update original\n",
    "        function kwargs on different threads.\n",
    "    Notes\n",
    "    -----\n",
    "    This decorator does not pass the return value of the decorated function.\n",
    "\n",
    "    Original from scikit-image:\n",
    "\n",
    "    https://github.com/scikit-image/scikit-image/pull/1519\n",
    "\n",
    "    \"\"\"\n",
    "\n",
    "    assert num_threads > 0\n",
    "    has_kwargs_list = kwargs_list is not None\n",
    "    if has_kwargs_list:\n",
    "        assert len(kwargs_list) == num_threads\n",
    "    import threading\n",
    "\n",
    "    def wrapper(func):\n",
    "        @wraps(func)\n",
    "        def inner(*args, **kwargs):\n",
    "            if has_kwargs_list:\n",
    "                update_kwargs = lambda i: dict(kwargs, **kwargs_list[i])\n",
    "            else:\n",
    "                update_kwargs = lambda i: kwargs\n",
    "            threads = []\n",
    "            for i in range(num_threads):\n",
    "                updated_kwargs = update_kwargs(i)\n",
    "                thread = threading.Thread(target=func, args=args, kwargs=updated_kwargs)\n",
    "                threads.append(thread)\n",
    "            for thread in threads:\n",
    "                thread.start()\n",
    "            for thread in threads:\n",
    "                thread.join()\n",
    "\n",
    "        return inner\n",
    "\n",
    "    return wrapper"
   ]
  },
  {
   "cell_type": "code",
   "execution_count": 43,
   "metadata": {},
   "outputs": [
    {
     "name": "stdout",
     "output_type": "stream",
     "text": [
      "46 ms ± 3.3 ms per loop (mean ± std. dev. of 7 runs, 10 loops each)\n",
      "11.2 ms ± 951 µs per loop (mean ± std. dev. of 7 runs, 100 loops each)\n"
     ]
    }
   ],
   "source": [
    "arr = pygeos.polygons(np.random.rand(100_000, 4, 2))\n",
    "\n",
    "# Running this 4 times sequentially:\n",
    "def f():\n",
    "    for i in range(6):\n",
    "        pygeos.area(arr)\n",
    "\n",
    "%timeit f()\n",
    "\n",
    "# Running this 4 times but in parallel:\n",
    "@test_parallel(6)\n",
    "def g():\n",
    "    pygeos.area(arr)\n",
    "\n",
    "%timeit g()"
   ]
  },
  {
   "cell_type": "markdown",
   "metadata": {},
   "source": [
    "## Testing performance with 900 shapes"
   ]
  },
  {
   "cell_type": "code",
   "execution_count": 44,
   "metadata": {},
   "outputs": [],
   "source": [
    "from tqdm import tqdm"
   ]
  },
  {
   "cell_type": "code",
   "execution_count": 45,
   "metadata": {},
   "outputs": [
    {
     "name": "stdout",
     "output_type": "stream",
     "text": [
      "----------500x500----------\n"
     ]
    },
    {
     "name": "stderr",
     "output_type": "stream",
     "text": [
      "/home/david/Github/flopy_db/examples/Notebooks/../../flopy/utils/gridintersect.py:301: ShapelyDeprecationWarning: Setting custom attributes on geometry objects is deprecated, and will raise an AttributeError in Shapely 2.0\n",
      "  p.name = (i, j)\n"
     ]
    },
    {
     "name": "stdout",
     "output_type": "stream",
     "text": [
      "5.58 s ± 0 ns per loop (mean ± std. dev. of 1 run, 1 loop each)\n",
      "Building Tree 500x500 5.58 seconds\n"
     ]
    },
    {
     "name": "stderr",
     "output_type": "stream",
     "text": [
      "  8%|▊         | 8/100 [01:12<13:50,  9.03s/it]\n"
     ]
    },
    {
     "ename": "KeyboardInterrupt",
     "evalue": "",
     "output_type": "error",
     "traceback": [
      "\u001b[0;31m---------------------------------------------------------------------------\u001b[0m",
      "\u001b[0;31mKeyboardInterrupt\u001b[0m                         Traceback (most recent call last)",
      "\u001b[0;32m/tmp/ipykernel_71205/1338163931.py\u001b[0m in \u001b[0;36m<module>\u001b[0;34m\u001b[0m\n\u001b[1;32m     21\u001b[0m \u001b[0;34m\u001b[0m\u001b[0m\n\u001b[1;32m     22\u001b[0m \u001b[0;32mfor\u001b[0m \u001b[0mi\u001b[0m \u001b[0;32min\u001b[0m \u001b[0mtqdm\u001b[0m\u001b[0;34m(\u001b[0m\u001b[0mrange\u001b[0m\u001b[0;34m(\u001b[0m\u001b[0mN\u001b[0m\u001b[0;34m)\u001b[0m\u001b[0;34m)\u001b[0m\u001b[0;34m:\u001b[0m\u001b[0;34m\u001b[0m\u001b[0;34m\u001b[0m\u001b[0m\n\u001b[0;32m---> 23\u001b[0;31m     \u001b[0mresults\u001b[0m\u001b[0;34m.\u001b[0m\u001b[0mappend\u001b[0m\u001b[0;34m(\u001b[0m\u001b[0mix\u001b[0m\u001b[0;34m.\u001b[0m\u001b[0mintersect\u001b[0m\u001b[0;34m(\u001b[0m\u001b[0mshp\u001b[0m\u001b[0;34m,\u001b[0m \u001b[0msort_by_cellid\u001b[0m\u001b[0;34m=\u001b[0m\u001b[0;32mFalse\u001b[0m\u001b[0;34m)\u001b[0m\u001b[0;34m)\u001b[0m\u001b[0;34m\u001b[0m\u001b[0;34m\u001b[0m\u001b[0m\n\u001b[0m\u001b[1;32m     24\u001b[0m \u001b[0;34m\u001b[0m\u001b[0m\n\u001b[1;32m     25\u001b[0m \u001b[0;31m#     df.loc[i, \"{0}x{0}\".format(nrnc)] = t.average\u001b[0m\u001b[0;34m\u001b[0m\u001b[0;34m\u001b[0m\u001b[0m\n",
      "\u001b[0;32m~/Github/flopy_db/examples/Notebooks/../../flopy/utils/gridintersect.py\u001b[0m in \u001b[0;36mintersect\u001b[0;34m(self, shp, shapetype, sort_by_cellid, keepzerolengths, contains_centroid, min_area_fraction)\u001b[0m\n\u001b[1;32m    261\u001b[0m                 )\n\u001b[1;32m    262\u001b[0m             \u001b[0;32melse\u001b[0m\u001b[0;34m:\u001b[0m\u001b[0;34m\u001b[0m\u001b[0;34m\u001b[0m\u001b[0m\n\u001b[0;32m--> 263\u001b[0;31m                 rec = self._intersect_polygon_shapely(\n\u001b[0m\u001b[1;32m    264\u001b[0m                     \u001b[0mshp\u001b[0m\u001b[0;34m,\u001b[0m\u001b[0;34m\u001b[0m\u001b[0;34m\u001b[0m\u001b[0m\n\u001b[1;32m    265\u001b[0m                     \u001b[0msort_by_cellid\u001b[0m\u001b[0;34m=\u001b[0m\u001b[0msort_by_cellid\u001b[0m\u001b[0;34m,\u001b[0m\u001b[0;34m\u001b[0m\u001b[0;34m\u001b[0m\u001b[0m\n",
      "\u001b[0;32m~/Github/flopy_db/examples/Notebooks/../../flopy/utils/gridintersect.py\u001b[0m in \u001b[0;36m_intersect_polygon_shapely\u001b[0;34m(self, shp, sort_by_cellid, contains_centroid, min_area_fraction)\u001b[0m\n\u001b[1;32m    665\u001b[0m             \u001b[0mname\u001b[0m \u001b[0;34m=\u001b[0m \u001b[0mr\u001b[0m\u001b[0;34m.\u001b[0m\u001b[0mname\u001b[0m\u001b[0;34m\u001b[0m\u001b[0;34m\u001b[0m\u001b[0m\n\u001b[1;32m    666\u001b[0m             \u001b[0;31m# do intersection\u001b[0m\u001b[0;34m\u001b[0m\u001b[0;34m\u001b[0m\u001b[0m\n\u001b[0;32m--> 667\u001b[0;31m             \u001b[0mintersect\u001b[0m \u001b[0;34m=\u001b[0m \u001b[0mshp\u001b[0m\u001b[0;34m.\u001b[0m\u001b[0mintersection\u001b[0m\u001b[0;34m(\u001b[0m\u001b[0mr\u001b[0m\u001b[0;34m)\u001b[0m\u001b[0;34m\u001b[0m\u001b[0;34m\u001b[0m\u001b[0m\n\u001b[0m\u001b[1;32m    668\u001b[0m             \u001b[0;31m# parse result\u001b[0m\u001b[0;34m\u001b[0m\u001b[0;34m\u001b[0m\u001b[0m\n\u001b[1;32m    669\u001b[0m             collection = parse_shapely_ix_result(\n",
      "\u001b[0;32m~/anaconda3/envs/artesia/lib/python3.9/site-packages/shapely/geometry/base.py\u001b[0m in \u001b[0;36mintersection\u001b[0;34m(self, other)\u001b[0m\n\u001b[1;32m    687\u001b[0m     \u001b[0;32mdef\u001b[0m \u001b[0mintersection\u001b[0m\u001b[0;34m(\u001b[0m\u001b[0mself\u001b[0m\u001b[0;34m,\u001b[0m \u001b[0mother\u001b[0m\u001b[0;34m)\u001b[0m\u001b[0;34m:\u001b[0m\u001b[0;34m\u001b[0m\u001b[0;34m\u001b[0m\u001b[0m\n\u001b[1;32m    688\u001b[0m         \u001b[0;34m\"\"\"Returns the intersection of the geometries\"\"\"\u001b[0m\u001b[0;34m\u001b[0m\u001b[0;34m\u001b[0m\u001b[0m\n\u001b[0;32m--> 689\u001b[0;31m         \u001b[0;32mreturn\u001b[0m \u001b[0mgeom_factory\u001b[0m\u001b[0;34m(\u001b[0m\u001b[0mself\u001b[0m\u001b[0;34m.\u001b[0m\u001b[0mimpl\u001b[0m\u001b[0;34m[\u001b[0m\u001b[0;34m'intersection'\u001b[0m\u001b[0;34m]\u001b[0m\u001b[0;34m(\u001b[0m\u001b[0mself\u001b[0m\u001b[0;34m,\u001b[0m \u001b[0mother\u001b[0m\u001b[0;34m)\u001b[0m\u001b[0;34m)\u001b[0m\u001b[0;34m\u001b[0m\u001b[0;34m\u001b[0m\u001b[0m\n\u001b[0m\u001b[1;32m    690\u001b[0m \u001b[0;34m\u001b[0m\u001b[0m\n\u001b[1;32m    691\u001b[0m     \u001b[0;32mdef\u001b[0m \u001b[0msymmetric_difference\u001b[0m\u001b[0;34m(\u001b[0m\u001b[0mself\u001b[0m\u001b[0;34m,\u001b[0m \u001b[0mother\u001b[0m\u001b[0;34m)\u001b[0m\u001b[0;34m:\u001b[0m\u001b[0;34m\u001b[0m\u001b[0;34m\u001b[0m\u001b[0m\n",
      "\u001b[0;32m~/anaconda3/envs/artesia/lib/python3.9/site-packages/shapely/topology.py\u001b[0m in \u001b[0;36m__call__\u001b[0;34m(self, this, other, *args)\u001b[0m\n\u001b[1;32m     66\u001b[0m         \u001b[0mself\u001b[0m\u001b[0;34m.\u001b[0m\u001b[0m_validate\u001b[0m\u001b[0;34m(\u001b[0m\u001b[0mthis\u001b[0m\u001b[0;34m)\u001b[0m\u001b[0;34m\u001b[0m\u001b[0;34m\u001b[0m\u001b[0m\n\u001b[1;32m     67\u001b[0m         \u001b[0mself\u001b[0m\u001b[0;34m.\u001b[0m\u001b[0m_validate\u001b[0m\u001b[0;34m(\u001b[0m\u001b[0mother\u001b[0m\u001b[0;34m,\u001b[0m \u001b[0mstop_prepared\u001b[0m\u001b[0;34m=\u001b[0m\u001b[0;32mTrue\u001b[0m\u001b[0;34m)\u001b[0m\u001b[0;34m\u001b[0m\u001b[0;34m\u001b[0m\u001b[0m\n\u001b[0;32m---> 68\u001b[0;31m         \u001b[0mproduct\u001b[0m \u001b[0;34m=\u001b[0m \u001b[0mself\u001b[0m\u001b[0;34m.\u001b[0m\u001b[0mfn\u001b[0m\u001b[0;34m(\u001b[0m\u001b[0mthis\u001b[0m\u001b[0;34m.\u001b[0m\u001b[0m_geom\u001b[0m\u001b[0;34m,\u001b[0m \u001b[0mother\u001b[0m\u001b[0;34m.\u001b[0m\u001b[0m_geom\u001b[0m\u001b[0;34m,\u001b[0m \u001b[0;34m*\u001b[0m\u001b[0margs\u001b[0m\u001b[0;34m)\u001b[0m\u001b[0;34m\u001b[0m\u001b[0;34m\u001b[0m\u001b[0m\n\u001b[0m\u001b[1;32m     69\u001b[0m         \u001b[0;32mif\u001b[0m \u001b[0mproduct\u001b[0m \u001b[0;32mis\u001b[0m \u001b[0;32mNone\u001b[0m\u001b[0;34m:\u001b[0m\u001b[0;34m\u001b[0m\u001b[0;34m\u001b[0m\u001b[0m\n\u001b[1;32m     70\u001b[0m             err = TopologicalError(\n",
      "\u001b[0;31mKeyboardInterrupt\u001b[0m: "
     ]
    }
   ],
   "source": [
    "method = \"vertex\"\n",
    "rtree = True\n",
    "\n",
    "N = 100\n",
    "\n",
    "df = pd.DataFrame(index=range(N), columns=[\"{0}x{0}\".format(s) for s in [500]])\n",
    "\n",
    "nrnc = 500\n",
    "print(\"-\"*10 + \"{0}x{0}\".format(nrnc) + \"-\"*10)\n",
    "\n",
    "# build tree\n",
    "sgr = get_structured_grid(nrnc)\n",
    "t = %timeit -o -r 1 -n 1 GridIntersect(sgr, method=\"vertex\", rtree=rtree)\n",
    "print(\"Building Tree\", \"{0}x{0}\".format(nrnc) + f\" {t.average:.2f} seconds\")\n",
    "\n",
    "ix = GridIntersect(sgr, method=method, rtree=rtree)\n",
    "\n",
    "results = []\n",
    "\n",
    "shp = Polygon([(1, 1), (999, 999), (750, 1000), (2, 250), (1, 1)])\n",
    "\n",
    "for i in tqdm(range(N)):\n",
    "    results.append(ix.intersect(shp, sort_by_cellid=False))\n",
    "\n",
    "#     df.loc[i, \"{0}x{0}\".format(nrnc)] = t.average"
   ]
  },
  {
   "cell_type": "code",
   "execution_count": null,
   "metadata": {},
   "outputs": [
    {
     "data": {
      "text/plain": [
       "<AxesSubplot:>"
      ]
     },
     "execution_count": 32,
     "metadata": {},
     "output_type": "execute_result"
    },
    {
     "data": {
      "image/png": "[encoded data removed]",
      "text/plain": [
       "<Figure size 1152x1152 with 1 Axes>"
      ]
     },
     "metadata": {
      "needs_background": "light"
     },
     "output_type": "display_data"
    }
   ],
   "source": [
    "fig, ax =plt.subplots(1, 1, figsize=(16, 16))\n",
    "sgr.plot(ax=ax, lw=0.1)\n",
    "ix.plot_polygon(results[0], ax=ax)"
   ]
  },
  {
   "cell_type": "code",
   "execution_count": 46,
   "metadata": {},
   "outputs": [
    {
     "name": "stderr",
     "output_type": "stream",
     "text": [
      "/home/david/anaconda3/envs/artesia/lib/python3.9/site-packages/geopandas/_compat.py:111: UserWarning: The Shapely GEOS version (3.10.2-CAPI-1.16.0) is incompatible with the GEOS version PyGEOS was compiled with (3.10.1-CAPI-1.16.0). Conversions between both will be slow.\n",
      "  warnings.warn(\n"
     ]
    },
    {
     "ename": "AttributeError",
     "evalue": "'StructuredGrid' object has no attribute '_cell2d'",
     "output_type": "error",
     "traceback": [
      "\u001b[0;31m---------------------------------------------------------------------------\u001b[0m",
      "\u001b[0;31mAttributeError\u001b[0m                            Traceback (most recent call last)",
      "\u001b[0;32m/tmp/ipykernel_71205/17517110.py\u001b[0m in \u001b[0;36m<module>\u001b[0;34m\u001b[0m\n\u001b[1;32m      1\u001b[0m \u001b[0;32mimport\u001b[0m \u001b[0mgeopandas\u001b[0m \u001b[0;32mas\u001b[0m \u001b[0mgpd\u001b[0m\u001b[0;34m\u001b[0m\u001b[0;34m\u001b[0m\u001b[0m\n\u001b[1;32m      2\u001b[0m \u001b[0;34m\u001b[0m\u001b[0m\n\u001b[0;32m----> 3\u001b[0;31m \u001b[0mix\u001b[0m\u001b[0;34m.\u001b[0m\u001b[0m_vtx_grid_to_shape_list\u001b[0m\u001b[0;34m(\u001b[0m\u001b[0;34m)\u001b[0m\u001b[0;34m\u001b[0m\u001b[0;34m\u001b[0m\u001b[0m\n\u001b[0m",
      "\u001b[0;32m~/Github/flopy_db/examples/Notebooks/../../flopy/utils/gridintersect.py\u001b[0m in \u001b[0;36m_vtx_grid_to_shape_list\u001b[0;34m(self)\u001b[0m\n\u001b[1;32m    392\u001b[0m             \u001b[0mlist\u001b[0m \u001b[0mof\u001b[0m \u001b[0mshapely\u001b[0m \u001b[0mPolygons\u001b[0m\u001b[0;34m\u001b[0m\u001b[0;34m\u001b[0m\u001b[0m\n\u001b[1;32m    393\u001b[0m         \"\"\"\n\u001b[0;32m--> 394\u001b[0;31m         \u001b[0;32mreturn\u001b[0m \u001b[0mlist\u001b[0m\u001b[0;34m(\u001b[0m\u001b[0mself\u001b[0m\u001b[0;34m.\u001b[0m\u001b[0m_vtx_grid_to_shape_generator\u001b[0m\u001b[0;34m(\u001b[0m\u001b[0;34m)\u001b[0m\u001b[0;34m)\u001b[0m\u001b[0;34m\u001b[0m\u001b[0;34m\u001b[0m\u001b[0m\n\u001b[0m\u001b[1;32m    395\u001b[0m \u001b[0;34m\u001b[0m\u001b[0m\n\u001b[1;32m    396\u001b[0m     \u001b[0;32mdef\u001b[0m \u001b[0mquery_grid\u001b[0m\u001b[0;34m(\u001b[0m\u001b[0mself\u001b[0m\u001b[0;34m,\u001b[0m \u001b[0mshp\u001b[0m\u001b[0;34m)\u001b[0m\u001b[0;34m:\u001b[0m\u001b[0;34m\u001b[0m\u001b[0;34m\u001b[0m\u001b[0m\n",
      "\u001b[0;32m~/Github/flopy_db/examples/Notebooks/../../flopy/utils/gridintersect.py\u001b[0m in \u001b[0;36m_vtx_grid_to_shape_generator\u001b[0;34m(self)\u001b[0m\n\u001b[1;32m    325\u001b[0m \u001b[0;34m\u001b[0m\u001b[0m\n\u001b[1;32m    326\u001b[0m         \u001b[0;31m# for cell2d rec-arrays\u001b[0m\u001b[0;34m\u001b[0m\u001b[0;34m\u001b[0m\u001b[0m\n\u001b[0;32m--> 327\u001b[0;31m         \u001b[0;32mif\u001b[0m \u001b[0misinstance\u001b[0m\u001b[0;34m(\u001b[0m\u001b[0mself\u001b[0m\u001b[0;34m.\u001b[0m\u001b[0mmfgrid\u001b[0m\u001b[0;34m.\u001b[0m\u001b[0m_cell2d\u001b[0m\u001b[0;34m,\u001b[0m \u001b[0mnp\u001b[0m\u001b[0;34m.\u001b[0m\u001b[0mrecarray\u001b[0m\u001b[0;34m)\u001b[0m\u001b[0;34m:\u001b[0m\u001b[0;34m\u001b[0m\u001b[0;34m\u001b[0m\u001b[0m\n\u001b[0m\u001b[1;32m    328\u001b[0m             \u001b[0;32mfor\u001b[0m \u001b[0micell\u001b[0m \u001b[0;32min\u001b[0m \u001b[0mself\u001b[0m\u001b[0;34m.\u001b[0m\u001b[0mmfgrid\u001b[0m\u001b[0;34m.\u001b[0m\u001b[0m_cell2d\u001b[0m\u001b[0;34m.\u001b[0m\u001b[0micell2d\u001b[0m\u001b[0;34m:\u001b[0m\u001b[0;34m\u001b[0m\u001b[0;34m\u001b[0m\u001b[0m\n\u001b[1;32m    329\u001b[0m                 \u001b[0mpoints\u001b[0m \u001b[0;34m=\u001b[0m \u001b[0;34m[\u001b[0m\u001b[0;34m]\u001b[0m\u001b[0;34m\u001b[0m\u001b[0;34m\u001b[0m\u001b[0m\n",
      "\u001b[0;31mAttributeError\u001b[0m: 'StructuredGrid' object has no attribute '_cell2d'"
     ]
    }
   ],
   "source": [
    "import geopandas as gpd\n",
    "\n",
    "ix._vtx_grid_to_shape_list()"
   ]
  },
  {
   "cell_type": "code",
   "execution_count": 47,
   "metadata": {},
   "outputs": [
    {
     "name": "stderr",
     "output_type": "stream",
     "text": [
      "/home/david/Github/flopy_db/examples/Notebooks/../../flopy/utils/gridintersect.py:301: ShapelyDeprecationWarning: Setting custom attributes on geometry objects is deprecated, and will raise an AttributeError in Shapely 2.0\n",
      "  p.name = (i, j)\n"
     ]
    }
   ],
   "source": [
    "df = pd.DataFrame(index=range(sgr.nrow * sgr.ncol), columns=[\"geometry\"], data=ix._rect_grid_to_shape_list())"
   ]
  },
  {
   "cell_type": "code",
   "execution_count": 48,
   "metadata": {},
   "outputs": [],
   "source": [
    "griddf = gpd.GeoDataFrame(df)"
   ]
  },
  {
   "cell_type": "code",
   "execution_count": 49,
   "metadata": {},
   "outputs": [],
   "source": [
    "shapes = gpd.GeoDataFrame(geometry=[shp]*1)"
   ]
  },
  {
   "cell_type": "code",
   "execution_count": 50,
   "metadata": {},
   "outputs": [
    {
     "name": "stdout",
     "output_type": "stream",
     "text": [
      "607 ms ± 0 ns per loop (mean ± std. dev. of 1 run, 1 loop each)\n"
     ]
    }
   ],
   "source": [
    "t = %timeit -o -r 1 -n 1 gpd.sjoin(shapes, griddf, how=\"left\")"
   ]
  },
  {
   "cell_type": "code",
   "execution_count": 51,
   "metadata": {},
   "outputs": [],
   "source": [
    "result = gpd.sjoin(shapes, griddf, how=\"left\")"
   ]
  },
  {
   "cell_type": "code",
   "execution_count": 52,
   "metadata": {},
   "outputs": [
    {
     "data": {
      "text/html": [
       "<div>\n",
       "<style scoped>\n",
       "    .dataframe tbody tr th:only-of-type {\n",
       "        vertical-align: middle;\n",
       "    }\n",
       "\n",
       "    .dataframe tbody tr th {\n",
       "        vertical-align: top;\n",
       "    }\n",
       "\n",
       "    .dataframe thead th {\n",
       "        text-align: right;\n",
       "    }\n",
       "</style>\n",
       "<table border=\"1\" class=\"dataframe\">\n",
       "  <thead>\n",
       "    <tr style=\"text-align: right;\">\n",
       "      <th></th>\n",
       "      <th>geometry</th>\n",
       "      <th>index_right</th>\n",
       "    </tr>\n",
       "  </thead>\n",
       "  <tbody>\n",
       "    <tr>\n",
       "      <th>0</th>\n",
       "      <td>POLYGON ((1.000 1.000, 999.000 999.000, 750.00...</td>\n",
       "      <td>235529</td>\n",
       "    </tr>\n",
       "    <tr>\n",
       "      <th>0</th>\n",
       "      <td>POLYGON ((1.000 1.000, 999.000 999.000, 750.00...</td>\n",
       "      <td>235030</td>\n",
       "    </tr>\n",
       "    <tr>\n",
       "      <th>0</th>\n",
       "      <td>POLYGON ((1.000 1.000, 999.000 999.000, 750.00...</td>\n",
       "      <td>249500</td>\n",
       "    </tr>\n",
       "    <tr>\n",
       "      <th>0</th>\n",
       "      <td>POLYGON ((1.000 1.000, 999.000 999.000, 750.00...</td>\n",
       "      <td>249501</td>\n",
       "    </tr>\n",
       "    <tr>\n",
       "      <th>0</th>\n",
       "      <td>POLYGON ((1.000 1.000, 999.000 999.000, 750.00...</td>\n",
       "      <td>249000</td>\n",
       "    </tr>\n",
       "    <tr>\n",
       "      <th>...</th>\n",
       "      <td>...</td>\n",
       "      <td>...</td>\n",
       "    </tr>\n",
       "    <tr>\n",
       "      <th>0</th>\n",
       "      <td>POLYGON ((1.000 1.000, 999.000 999.000, 750.00...</td>\n",
       "      <td>60753</td>\n",
       "    </tr>\n",
       "    <tr>\n",
       "      <th>0</th>\n",
       "      <td>POLYGON ((1.000 1.000, 999.000 999.000, 750.00...</td>\n",
       "      <td>46782</td>\n",
       "    </tr>\n",
       "    <tr>\n",
       "      <th>0</th>\n",
       "      <td>POLYGON ((1.000 1.000, 999.000 999.000, 750.00...</td>\n",
       "      <td>46781</td>\n",
       "    </tr>\n",
       "    <tr>\n",
       "      <th>0</th>\n",
       "      <td>POLYGON ((1.000 1.000, 999.000 999.000, 750.00...</td>\n",
       "      <td>46282</td>\n",
       "    </tr>\n",
       "    <tr>\n",
       "      <th>0</th>\n",
       "      <td>POLYGON ((1.000 1.000, 999.000 999.000, 750.00...</td>\n",
       "      <td>45783</td>\n",
       "    </tr>\n",
       "  </tbody>\n",
       "</table>\n",
       "<p>55624 rows × 2 columns</p>\n",
       "</div>"
      ],
      "text/plain": [
       "                                             geometry  index_right\n",
       "0   POLYGON ((1.000 1.000, 999.000 999.000, 750.00...       235529\n",
       "0   POLYGON ((1.000 1.000, 999.000 999.000, 750.00...       235030\n",
       "0   POLYGON ((1.000 1.000, 999.000 999.000, 750.00...       249500\n",
       "0   POLYGON ((1.000 1.000, 999.000 999.000, 750.00...       249501\n",
       "0   POLYGON ((1.000 1.000, 999.000 999.000, 750.00...       249000\n",
       "..                                                ...          ...\n",
       "0   POLYGON ((1.000 1.000, 999.000 999.000, 750.00...        60753\n",
       "0   POLYGON ((1.000 1.000, 999.000 999.000, 750.00...        46782\n",
       "0   POLYGON ((1.000 1.000, 999.000 999.000, 750.00...        46781\n",
       "0   POLYGON ((1.000 1.000, 999.000 999.000, 750.00...        46282\n",
       "0   POLYGON ((1.000 1.000, 999.000 999.000, 750.00...        45783\n",
       "\n",
       "[55624 rows x 2 columns]"
      ]
     },
     "execution_count": 52,
     "metadata": {},
     "output_type": "execute_result"
    }
   ],
   "source": [
    "result"
   ]
  },
  {
   "cell_type": "code",
   "execution_count": 55,
   "metadata": {},
   "outputs": [
    {
     "data": {
      "image/svg+xml": "<svg xmlns=\"http://www.w3.org/2000/svg\" xmlns:xlink=\"http://www.w3.org/1999/xlink\" width=\"300\" height=\"300\" viewBox=\"-38.96 -38.96 1077.92 1078.92\" preserveAspectRatio=\"xMinYMin meet\"><g transform=\"matrix(1,0,0,-1,0,1001.0)\"><path fill-rule=\"evenodd\" fill=\"#66cc99\" stroke=\"#555555\" stroke-width=\"7.1928\" opacity=\"0.6\" d=\"M 1.0,1.0 L 999.0,999.0 L 750.0,1000.0 L 2.0,250.0 L 1.0,1.0 z\" /></g></svg>",
      "text/plain": [
       "<shapely.geometry.polygon.Polygon at 0x7f2f16112a00>"
      ]
     },
     "execution_count": 55,
     "metadata": {},
     "output_type": "execute_result"
    }
   ],
   "source": [
    "shp"
   ]
  },
  {
   "cell_type": "code",
   "execution_count": 53,
   "metadata": {},
   "outputs": [
    {
     "data": {
      "text/plain": [
       "(0.0, 100.0, 0.0, 100.0)"
      ]
     },
     "execution_count": 53,
     "metadata": {},
     "output_type": "execute_result"
    },
    {
     "data": {
      "image/png": "[encoded data removed]",
      "text/plain": [
       "<Figure size 1152x1152 with 1 Axes>"
      ]
     },
     "metadata": {
      "needs_background": "light"
     },
     "output_type": "display_data"
    }
   ],
   "source": [
    "ax = result.plot(column=\"index_right\", figsize=(16, 16))\n",
    "ax.axis([0, 100, 0, 100])"
   ]
  },
  {
   "cell_type": "code",
   "execution_count": 54,
   "metadata": {},
   "outputs": [
    {
     "data": {
      "text/plain": [
       "True"
      ]
     },
     "execution_count": 54,
     "metadata": {},
     "output_type": "execute_result"
    }
   ],
   "source": [
    "gpd.options.use_pygeos"
   ]
  },
  {
   "cell_type": "code",
   "execution_count": null,
   "metadata": {},
   "outputs": [],
   "source": []
  }
 ],
 "metadata": {
  "interpreter": {
   "hash": "dace5e1b41a98a8e52d2a8eebc3b981caf2c12e7a76736ebfb89a489e3b62e79"
  },
  "kernelspec": {
   "display_name": "Python 3.9.7 ('artesia')",
   "language": "python",
   "name": "python3"
  },
  "language_info": {
   "codemirror_mode": {
    "name": "ipython",
    "version": 3
   },
   "file_extension": ".py",
   "mimetype": "text/x-python",
   "name": "python",
   "nbconvert_exporter": "python",
   "pygments_lexer": "ipython3",
   "version": "3.9.7"
  }
 },
 "nbformat": 4,
 "nbformat_minor": 4
}
