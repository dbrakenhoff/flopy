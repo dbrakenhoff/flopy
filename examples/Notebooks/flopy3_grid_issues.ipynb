{
 "cells": [
  {
   "cell_type": "markdown",
   "metadata": {},
   "source": [
    "Based on some previous issues these are some potential improvements for GridIntersect. Some of these are somewhat linked to other issues posted by users. \n"
   ]
  },
  {
   "cell_type": "markdown",
   "metadata": {},
   "source": [
    "\n",
    "1. On shapely 1.8 there is a DeprecationWarning that assigning attributes to geometry objects will no longer be supported in Shapely 2.0. This is currently used to return a single cell for intersections involving boundaries. For Shapely 1.8 this can be solved by passing items to the STRtree:\n",
    "\n",
    "```python\n",
    "geoms, items = self._get_gridshapes()  # modify method to return geoms and cellids\n",
    "self.strtree = strtree.STRtree(geoms, items)\n",
    "# then get either geoms or items with: \n",
    "self.strtree.query_geoms()\n",
    "self.strtree.query_items()\n",
    "```\n",
    "For Shapely 1.7 the current behavior works fine. So question: what is the policy on backwards compatibility with optional dependencies?\n"
   ]
  },
  {
   "cell_type": "markdown",
   "metadata": {},
   "source": [
    "\n",
    "2. Add shapetype kwarg to `intersect()` and `intersects()`. This allows the shape to be passed as a list of coordinates and converted to a shapely object by `GeoSpatialUtil`.\n",
    "\n",
    "**DONE. Submitted PR**"
   ]
  },
  {
   "cell_type": "markdown",
   "metadata": {},
   "source": [
    "\n",
    "3. Currently `intersect()` takes kwargs that are passed on to the specific intersect methods dependent on shape type and grid type. In an earlier discussion (#1214) it was stated that it would better to make these kwargs explicit.\n",
    "\n",
    "**DONE. Submitted PR**"
   ]
  },
  {
   "cell_type": "markdown",
   "metadata": {},
   "source": [
    "\n",
    "4. Functionality for post-processing intersection results for polygons (#1216). We can support keyword arguments for filtering the intersection results to only be included if the result contains the midpoint, or if the area is larger than some fraction of the original cell area, i.e.\n",
    "\n",
    "```python\n",
    "gi.intersect(poly, min_area=0.5)  # only return cells where >50% of cell area is covered by poly\n",
    "gi.intersect(poly, contains_centroid=True)  # only return cells where centroid is contained in poly\n",
    "```\n",
    "\n",
    "**DONE. Currently ready in flopy_db, waiting for PR for (2+3) to be merged**"
   ]
  },
  {
   "cell_type": "markdown",
   "metadata": {},
   "source": [
    "\n",
    "5. Add keyword argument to `return_all_intersection` results. I.e. a point on a vertex in a structured grid should return 4 cells if this option is set to True. Otherwise it returns the cell with the lowest cellid. This was discussed in (#1198 and #1214)."
   ]
  },
  {
   "cell_type": "markdown",
   "metadata": {},
   "source": [
    "6. Interpolation operations along linestring. "
   ]
  },
  {
   "cell_type": "markdown",
   "metadata": {},
   "source": []
  },
  {
   "cell_type": "markdown",
   "metadata": {},
   "source": []
  }
 ],
 "metadata": {
  "language_info": {
   "name": "python"
  },
  "orig_nbformat": 4
 },
 "nbformat": 4,
 "nbformat_minor": 2
}
